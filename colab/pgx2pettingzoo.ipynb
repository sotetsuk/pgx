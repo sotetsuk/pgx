{
  "nbformat": 4,
  "nbformat_minor": 0,
  "metadata": {
    "colab": {
      "provenance": []
    },
    "kernelspec": {
      "name": "python3",
      "display_name": "Python 3"
    },
    "language_info": {
      "name": "python"
    }
  },
  "cells": [
    {
      "cell_type": "markdown",
      "source": [
        "# Export to PettingZoo API"
      ],
      "metadata": {
        "id": "acnt0w0i7Ydg"
      }
    },
    {
      "cell_type": "markdown",
      "source": [
        "Here, we demonstrate that the API of Pgx is sufficiently general by translating it to the AEC API of PettingZoo. However, please note that this conversion is merely a demonstration of generality, and it should be noted that efficiency through parallel execution is lost with this conversion."
      ],
      "metadata": {
        "id": "UX-FMmHe7etL"
      }
    },
    {
      "cell_type": "code",
      "execution_count": 1,
      "metadata": {
        "id": "9ukhSUjhsJF8",
        "outputId": "ff41cc22-2901-47af-f0dd-8a3b50cc20d1",
        "colab": {
          "base_uri": "https://localhost:8080/"
        }
      },
      "outputs": [
        {
          "output_type": "stream",
          "name": "stdout",
          "text": [
            "Collecting pgx\n",
            "  Downloading pgx-2.0.0-py3-none-any.whl (411 kB)\n",
            "\u001b[2K     \u001b[90m━━━━━━━━━━━━━━━━━━━━━━━━━━━━━━━━━━━━━━━━\u001b[0m \u001b[32m411.9/411.9 kB\u001b[0m \u001b[31m6.6 MB/s\u001b[0m eta \u001b[36m0:00:00\u001b[0m\n",
            "\u001b[?25hCollecting pettingzoo\n",
            "  Downloading pettingzoo-1.24.1-py3-none-any.whl (840 kB)\n",
            "\u001b[2K     \u001b[90m━━━━━━━━━━━━━━━━━━━━━━━━━━━━━━━━━━━━━━━━\u001b[0m \u001b[32m840.8/840.8 kB\u001b[0m \u001b[31m37.2 MB/s\u001b[0m eta \u001b[36m0:00:00\u001b[0m\n",
            "\u001b[?25hRequirement already satisfied: jax>=0.4.1 in /usr/local/lib/python3.10/dist-packages (from pgx) (0.4.16)\n",
            "Requirement already satisfied: typing-extensions>=4.2.0 in /usr/local/lib/python3.10/dist-packages (from pgx) (4.5.0)\n",
            "Collecting svgwrite (from pgx)\n",
            "  Downloading svgwrite-1.4.3-py3-none-any.whl (67 kB)\n",
            "\u001b[2K     \u001b[90m━━━━━━━━━━━━━━━━━━━━━━━━━━━━━━━━━━━━━━━━\u001b[0m \u001b[32m67.1/67.1 kB\u001b[0m \u001b[31m9.4 MB/s\u001b[0m eta \u001b[36m0:00:00\u001b[0m\n",
            "\u001b[?25hCollecting pgx-minatar==0.5.0 (from pgx)\n",
            "  Downloading pgx_minatar-0.5.0-py3-none-any.whl (38 kB)\n",
            "Requirement already satisfied: numpy>=1.21.0 in /usr/local/lib/python3.10/dist-packages (from pettingzoo) (1.23.5)\n",
            "Collecting gymnasium>=0.28.0 (from pettingzoo)\n",
            "  Downloading gymnasium-0.29.1-py3-none-any.whl (953 kB)\n",
            "\u001b[2K     \u001b[90m━━━━━━━━━━━━━━━━━━━━━━━━━━━━━━━━━━━━━━━━\u001b[0m \u001b[32m953.9/953.9 kB\u001b[0m \u001b[31m46.7 MB/s\u001b[0m eta \u001b[36m0:00:00\u001b[0m\n",
            "\u001b[?25hRequirement already satisfied: cloudpickle>=1.2.0 in /usr/local/lib/python3.10/dist-packages (from gymnasium>=0.28.0->pettingzoo) (2.2.1)\n",
            "Collecting farama-notifications>=0.0.1 (from gymnasium>=0.28.0->pettingzoo)\n",
            "  Downloading Farama_Notifications-0.0.4-py3-none-any.whl (2.5 kB)\n",
            "Requirement already satisfied: ml-dtypes>=0.2.0 in /usr/local/lib/python3.10/dist-packages (from jax>=0.4.1->pgx) (0.2.0)\n",
            "Requirement already satisfied: opt-einsum in /usr/local/lib/python3.10/dist-packages (from jax>=0.4.1->pgx) (3.3.0)\n",
            "Requirement already satisfied: scipy>=1.7 in /usr/local/lib/python3.10/dist-packages (from jax>=0.4.1->pgx) (1.11.3)\n",
            "Installing collected packages: pgx-minatar, farama-notifications, svgwrite, gymnasium, pettingzoo, pgx\n",
            "Successfully installed farama-notifications-0.0.4 gymnasium-0.29.1 pettingzoo-1.24.1 pgx-2.0.0 pgx-minatar-0.5.0 svgwrite-1.4.3\n"
          ]
        }
      ],
      "source": [
        "!pip install pgx pettingzoo"
      ]
    },
    {
      "cell_type": "code",
      "source": [
        "import sys\n",
        "from typing import Literal, Optional\n",
        "\n",
        "import jax\n",
        "import jax.numpy as jnp\n",
        "import numpy as np\n",
        "from gymnasium import spaces\n",
        "from pettingzoo.utils import wrappers\n",
        "import pgx\n",
        "import pettingzoo\n",
        "\n",
        "print(f\"{pgx.__version__=}\")\n",
        "print(f\"{pettingzoo.__version__=}\")"
      ],
      "metadata": {
        "colab": {
          "base_uri": "https://localhost:8080/"
        },
        "id": "GTmb-v7zsMiI",
        "outputId": "1f8e0ac3-707b-456d-8031-c1e81960b622"
      },
      "execution_count": 3,
      "outputs": [
        {
          "output_type": "stream",
          "name": "stdout",
          "text": [
            "pgx.__version__='2.0.0'\n",
            "pettingzoo.__version__='1.24.1'\n"
          ]
        }
      ]
    },
    {
      "cell_type": "markdown",
      "source": [
        "## Define converter to PettingZoo environment"
      ],
      "metadata": {
        "id": "wUWjhmOE7EUr"
      }
    },
    {
      "cell_type": "code",
      "source": [
        "def pettingzoo_env(env_id: pgx.EnvId) -> pettingzoo.AECEnv:\n",
        "    env = PettingZooEnv(env_id)\n",
        "    env = wrappers.TerminateIllegalWrapper(env, illegal_reward=-1)\n",
        "    env = wrappers.AssertOutOfBoundsWrapper(env)\n",
        "    env = wrappers.OrderEnforcingWrapper(env)\n",
        "    return env\n",
        "\n",
        "\n",
        "class PettingZooEnv(pettingzoo.AECEnv):\n",
        "    metadata = {\"render_modes\": [\"svg\"]}\n",
        "\n",
        "    def __init__(self, env_id: pgx.EnvId, render_mode=None):\n",
        "        super().__init__()\n",
        "\n",
        "        # prepare Pgx env attributes\n",
        "        pgx_env: pgx.Env = pgx.make(env_id)\n",
        "        self._num_players = pgx_env.num_players\n",
        "        self._init_fn = jax.jit(pgx_env.init)\n",
        "        self._step_fn = jax.jit(pgx_env.step)\n",
        "        self._observe_fn = jax.jit(pgx_env.observe)\n",
        "        self._key = jax.random.PRNGKey(0)\n",
        "        self._key, subkey = jax.random.split(self._key)\n",
        "        self._state: pgx.State = self._init_fn(subkey)\n",
        "\n",
        "        # prepare PettingZoo API attributes\n",
        "        self.agents = [f\"player_{i}\" for i in range(pgx_env.num_players)]\n",
        "        self.action_spaces = {i: spaces.Discrete(pgx_env.num_actions) for i in self.agents}\n",
        "        self.observation_spaces = {\n",
        "            i: spaces.Dict({\n",
        "                \"observation\": spaces.Box(low=0, high=1, shape=pgx_env.observation_shape, dtype=np.float32),\n",
        "                \"action_mask\": spaces.Box(low=0, high=1, shape=(pgx_env.num_actions,), dtype=np.int8),\n",
        "            }) for i in self.agents\n",
        "        }\n",
        "        self.possible_agents = self.agents[:]\n",
        "        self.rewards = {i: 0 for i in self.agents}\n",
        "        self.terminations = {i: False for i in self.agents}\n",
        "        self.truncations = {i: False for i in self.agents}\n",
        "        self.infos = {i: {} for i in self.agents}  # type: ignore\n",
        "        self.agent_selection = f\"player_{self._state.current_player}\"\n",
        "        self.render_mode = render_mode\n",
        "\n",
        "    def observe(self, agent):\n",
        "        if agent == self.agent_selection:\n",
        "            obs = self._state.observation\n",
        "        else:\n",
        "            obs = self.observe_fn(self._state, int(agent.split(\"_\")[-1]))\n",
        "        return {\n",
        "            \"observation\": np.float32(obs),\n",
        "            \"action_mask\": np.int8(self._state.legal_action_mask),\n",
        "        }\n",
        "\n",
        "    def observation_space(self, agent):\n",
        "        return self.observation_spaces[agent]\n",
        "\n",
        "    def action_space(self, agent):\n",
        "        return self.action_spaces[agent]\n",
        "\n",
        "    def step(self, action):\n",
        "        if (\n",
        "            self.terminations[self.agent_selection]\n",
        "            or self.truncations[self.agent_selection]\n",
        "        ):\n",
        "            return self._was_dead_step(action)\n",
        "\n",
        "        self._key, subkey = jax.random.split(self._key)\n",
        "        self._state = self._step_fn(self._state, jnp.int32(action), subkey)\n",
        "        next_agent = f\"player_{self._state.current_player}\"\n",
        "        for i in range(self._num_players):\n",
        "            self.rewards[f\"player_{i}\"] = float(self._state.rewards[i])\n",
        "\n",
        "        if self._state.terminated:\n",
        "            self.terminations = {i: True for i in self.agents}\n",
        "\n",
        "        self._cumulative_rewards[self.agent_selection] = 0\n",
        "        self.agent_selection = next_agent\n",
        "        self._accumulate_rewards()\n",
        "\n",
        "    def reset(self, seed=None, options=None):\n",
        "        assert seed is not None\n",
        "        self._key = jax.random.PRNGKey(seed)\n",
        "        self._key, subkey = jax.random.split(self._key)\n",
        "        self._state: pgx.State = self._init_fn(subkey)\n",
        "        self.agents = self.possible_agents[:]\n",
        "        self.rewards = {i: 0 for i in self.agents}\n",
        "        self._cumulative_rewards = {i: 0 for i in self.agents}\n",
        "        self.terminations = {i: False for i in self.agents}\n",
        "        self.truncations = {i: False for i in self.agents}\n",
        "        self.infos = {i: {} for i in self.agents}\n",
        "        self.agent_selection = f\"player_{self._state.current_player}\"\n",
        "\n",
        "    def render(self):\n",
        "        from IPython.display import display_svg\n",
        "        display_svg(self._state._repr_html_(), raw=True)\n",
        "\n",
        "    def close(self):\n",
        "        ..."
      ],
      "metadata": {
        "id": "EhMChbuAsTqI"
      },
      "execution_count": 5,
      "outputs": []
    },
    {
      "cell_type": "markdown",
      "source": [
        "## Run Tic-tac-toe random play"
      ],
      "metadata": {
        "id": "b6kBgRIW7Kzf"
      }
    },
    {
      "cell_type": "code",
      "source": [
        "def random_play(env_id, seed=9999, max_iter=2**63):\n",
        "    env = pettingzoo_env(env_id)\n",
        "    env.reset(seed=seed)\n",
        "\n",
        "    for agent in env.agent_iter(max_iter):\n",
        "        env.render()\n",
        "        observation, reward, termination, truncation, info = env.last()\n",
        "\n",
        "        if termination or truncation:\n",
        "            action = None\n",
        "        else:\n",
        "            mask = observation[\"action_mask\"]\n",
        "            action = np.random.choice(np.where(observation[\"action_mask\"])[0])\n",
        "            action = env.action_space(agent).sample(mask)\n",
        "\n",
        "        print(f\"{reward=}\")\n",
        "        print(f\"{action=}\")\n",
        "\n",
        "        env.step(action)\n",
        "\n",
        "    env.render()\n",
        "    env.close()"
      ],
      "metadata": {
        "id": "K5hIX2soss1R"
      },
      "execution_count": 6,
      "outputs": []
    },
    {
      "cell_type": "code",
      "source": [
        "random_play(\"tic_tac_toe\")"
      ],
      "metadata": {
        "colab": {
          "base_uri": "https://localhost:8080/",
          "height": 1000
        },
        "id": "TR2Z9AzPs6oS",
        "outputId": "c9b75286-7217-4eee-d93a-2ff567773de1"
      },
      "execution_count": 7,
      "outputs": [
        {
          "output_type": "display_data",
          "data": {
            "image/svg+xml": "<svg baseProfile=\"full\" height=\"240.0\" version=\"1.1\" width=\"240.0\" xmlns=\"http://www.w3.org/2000/svg\" xmlns:ev=\"http://www.w3.org/2001/xml-events\" xmlns:xlink=\"http://www.w3.org/1999/xlink\"><defs /><g transform=\"scale(1.0)\"><rect fill=\"white\" height=\"240\" width=\"240\" x=\"0\" y=\"0\" /><g transform=\"translate(30.0,30.0)\"><g fill=\"black\" id=\"hlines\" stroke=\"black\"><line stroke-width=\"3.0\" x1=\"0\" x2=\"180\" y1=\"60\" y2=\"60\" /><circle cx=\"0\" cy=\"60\" r=\"0.84\" /><circle cx=\"180\" cy=\"60\" r=\"0.84\" /><line stroke-width=\"3.0\" x1=\"0\" x2=\"180\" y1=\"120\" y2=\"120\" /><circle cx=\"0\" cy=\"120\" r=\"0.84\" /><circle cx=\"180\" cy=\"120\" r=\"0.84\" /></g><g fill=\"black\" id=\"vline\" stroke=\"black\"><line stroke-width=\"3.0\" x1=\"60\" x2=\"60\" y1=\"0\" y2=\"180\" /><circle cx=\"60\" cy=\"0\" r=\"0.84\" /><circle cx=\"60\" cy=\"180\" r=\"0.84\" /><line stroke-width=\"3.0\" x1=\"120\" x2=\"120\" y1=\"0\" y2=\"180\" /><circle cx=\"120\" cy=\"0\" r=\"0.84\" /><circle cx=\"120\" cy=\"180\" r=\"0.84\" /></g></g></g></svg>"
          },
          "metadata": {}
        },
        {
          "output_type": "stream",
          "name": "stdout",
          "text": [
            "reward=0\n",
            "action=2\n"
          ]
        },
        {
          "output_type": "display_data",
          "data": {
            "image/svg+xml": "<svg baseProfile=\"full\" height=\"240.0\" version=\"1.1\" width=\"240.0\" xmlns=\"http://www.w3.org/2000/svg\" xmlns:ev=\"http://www.w3.org/2001/xml-events\" xmlns:xlink=\"http://www.w3.org/1999/xlink\"><defs /><g transform=\"scale(1.0)\"><rect fill=\"white\" height=\"240\" width=\"240\" x=\"0\" y=\"0\" /><g transform=\"translate(30.0,30.0)\"><g fill=\"black\" id=\"hlines\" stroke=\"black\"><line stroke-width=\"3.0\" x1=\"0\" x2=\"180\" y1=\"60\" y2=\"60\" /><circle cx=\"0\" cy=\"60\" r=\"0.84\" /><circle cx=\"180\" cy=\"60\" r=\"0.84\" /><line stroke-width=\"3.0\" x1=\"0\" x2=\"180\" y1=\"120\" y2=\"120\" /><circle cx=\"0\" cy=\"120\" r=\"0.84\" /><circle cx=\"180\" cy=\"120\" r=\"0.84\" /></g><g fill=\"black\" id=\"vline\" stroke=\"black\"><line stroke-width=\"3.0\" x1=\"60\" x2=\"60\" y1=\"0\" y2=\"180\" /><circle cx=\"60\" cy=\"0\" r=\"0.84\" /><circle cx=\"60\" cy=\"180\" r=\"0.84\" /><line stroke-width=\"3.0\" x1=\"120\" x2=\"120\" y1=\"0\" y2=\"180\" /><circle cx=\"120\" cy=\"0\" r=\"0.84\" /><circle cx=\"120\" cy=\"180\" r=\"0.84\" /></g><line stroke=\"black\" stroke-width=\"3.0\" x1=\"126.0\" x2=\"174.0\" y1=\"6.0\" y2=\"54.0\" /><line stroke=\"black\" stroke-width=\"3.0\" x1=\"126.0\" x2=\"174.0\" y1=\"54.0\" y2=\"6.0\" /></g></g></svg>"
          },
          "metadata": {}
        },
        {
          "output_type": "stream",
          "name": "stdout",
          "text": [
            "reward=0.0\n",
            "action=7\n"
          ]
        },
        {
          "output_type": "display_data",
          "data": {
            "image/svg+xml": "<svg baseProfile=\"full\" height=\"240.0\" version=\"1.1\" width=\"240.0\" xmlns=\"http://www.w3.org/2000/svg\" xmlns:ev=\"http://www.w3.org/2001/xml-events\" xmlns:xlink=\"http://www.w3.org/1999/xlink\"><defs /><g transform=\"scale(1.0)\"><rect fill=\"white\" height=\"240\" width=\"240\" x=\"0\" y=\"0\" /><g transform=\"translate(30.0,30.0)\"><g fill=\"black\" id=\"hlines\" stroke=\"black\"><line stroke-width=\"3.0\" x1=\"0\" x2=\"180\" y1=\"60\" y2=\"60\" /><circle cx=\"0\" cy=\"60\" r=\"0.84\" /><circle cx=\"180\" cy=\"60\" r=\"0.84\" /><line stroke-width=\"3.0\" x1=\"0\" x2=\"180\" y1=\"120\" y2=\"120\" /><circle cx=\"0\" cy=\"120\" r=\"0.84\" /><circle cx=\"180\" cy=\"120\" r=\"0.84\" /></g><g fill=\"black\" id=\"vline\" stroke=\"black\"><line stroke-width=\"3.0\" x1=\"60\" x2=\"60\" y1=\"0\" y2=\"180\" /><circle cx=\"60\" cy=\"0\" r=\"0.84\" /><circle cx=\"60\" cy=\"180\" r=\"0.84\" /><line stroke-width=\"3.0\" x1=\"120\" x2=\"120\" y1=\"0\" y2=\"180\" /><circle cx=\"120\" cy=\"0\" r=\"0.84\" /><circle cx=\"120\" cy=\"180\" r=\"0.84\" /></g><line stroke=\"black\" stroke-width=\"3.0\" x1=\"126.0\" x2=\"174.0\" y1=\"6.0\" y2=\"54.0\" /><line stroke=\"black\" stroke-width=\"3.0\" x1=\"126.0\" x2=\"174.0\" y1=\"54.0\" y2=\"6.0\" /><circle cx=\"90.0\" cy=\"150.0\" fill=\"none\" r=\"24.0\" stroke=\"black\" stroke-width=\"3.0\" /></g></g></svg>"
          },
          "metadata": {}
        },
        {
          "output_type": "stream",
          "name": "stdout",
          "text": [
            "reward=0.0\n",
            "action=0\n"
          ]
        },
        {
          "output_type": "display_data",
          "data": {
            "image/svg+xml": "<svg baseProfile=\"full\" height=\"240.0\" version=\"1.1\" width=\"240.0\" xmlns=\"http://www.w3.org/2000/svg\" xmlns:ev=\"http://www.w3.org/2001/xml-events\" xmlns:xlink=\"http://www.w3.org/1999/xlink\"><defs /><g transform=\"scale(1.0)\"><rect fill=\"white\" height=\"240\" width=\"240\" x=\"0\" y=\"0\" /><g transform=\"translate(30.0,30.0)\"><g fill=\"black\" id=\"hlines\" stroke=\"black\"><line stroke-width=\"3.0\" x1=\"0\" x2=\"180\" y1=\"60\" y2=\"60\" /><circle cx=\"0\" cy=\"60\" r=\"0.84\" /><circle cx=\"180\" cy=\"60\" r=\"0.84\" /><line stroke-width=\"3.0\" x1=\"0\" x2=\"180\" y1=\"120\" y2=\"120\" /><circle cx=\"0\" cy=\"120\" r=\"0.84\" /><circle cx=\"180\" cy=\"120\" r=\"0.84\" /></g><g fill=\"black\" id=\"vline\" stroke=\"black\"><line stroke-width=\"3.0\" x1=\"60\" x2=\"60\" y1=\"0\" y2=\"180\" /><circle cx=\"60\" cy=\"0\" r=\"0.84\" /><circle cx=\"60\" cy=\"180\" r=\"0.84\" /><line stroke-width=\"3.0\" x1=\"120\" x2=\"120\" y1=\"0\" y2=\"180\" /><circle cx=\"120\" cy=\"0\" r=\"0.84\" /><circle cx=\"120\" cy=\"180\" r=\"0.84\" /></g><line stroke=\"black\" stroke-width=\"3.0\" x1=\"6.0\" x2=\"54.0\" y1=\"6.0\" y2=\"54.0\" /><line stroke=\"black\" stroke-width=\"3.0\" x1=\"6.0\" x2=\"54.0\" y1=\"54.0\" y2=\"6.0\" /><line stroke=\"black\" stroke-width=\"3.0\" x1=\"126.0\" x2=\"174.0\" y1=\"6.0\" y2=\"54.0\" /><line stroke=\"black\" stroke-width=\"3.0\" x1=\"126.0\" x2=\"174.0\" y1=\"54.0\" y2=\"6.0\" /><circle cx=\"90.0\" cy=\"150.0\" fill=\"none\" r=\"24.0\" stroke=\"black\" stroke-width=\"3.0\" /></g></g></svg>"
          },
          "metadata": {}
        },
        {
          "output_type": "stream",
          "name": "stdout",
          "text": [
            "reward=0.0\n",
            "action=3\n"
          ]
        },
        {
          "output_type": "display_data",
          "data": {
            "image/svg+xml": "<svg baseProfile=\"full\" height=\"240.0\" version=\"1.1\" width=\"240.0\" xmlns=\"http://www.w3.org/2000/svg\" xmlns:ev=\"http://www.w3.org/2001/xml-events\" xmlns:xlink=\"http://www.w3.org/1999/xlink\"><defs /><g transform=\"scale(1.0)\"><rect fill=\"white\" height=\"240\" width=\"240\" x=\"0\" y=\"0\" /><g transform=\"translate(30.0,30.0)\"><g fill=\"black\" id=\"hlines\" stroke=\"black\"><line stroke-width=\"3.0\" x1=\"0\" x2=\"180\" y1=\"60\" y2=\"60\" /><circle cx=\"0\" cy=\"60\" r=\"0.84\" /><circle cx=\"180\" cy=\"60\" r=\"0.84\" /><line stroke-width=\"3.0\" x1=\"0\" x2=\"180\" y1=\"120\" y2=\"120\" /><circle cx=\"0\" cy=\"120\" r=\"0.84\" /><circle cx=\"180\" cy=\"120\" r=\"0.84\" /></g><g fill=\"black\" id=\"vline\" stroke=\"black\"><line stroke-width=\"3.0\" x1=\"60\" x2=\"60\" y1=\"0\" y2=\"180\" /><circle cx=\"60\" cy=\"0\" r=\"0.84\" /><circle cx=\"60\" cy=\"180\" r=\"0.84\" /><line stroke-width=\"3.0\" x1=\"120\" x2=\"120\" y1=\"0\" y2=\"180\" /><circle cx=\"120\" cy=\"0\" r=\"0.84\" /><circle cx=\"120\" cy=\"180\" r=\"0.84\" /></g><line stroke=\"black\" stroke-width=\"3.0\" x1=\"6.0\" x2=\"54.0\" y1=\"6.0\" y2=\"54.0\" /><line stroke=\"black\" stroke-width=\"3.0\" x1=\"6.0\" x2=\"54.0\" y1=\"54.0\" y2=\"6.0\" /><line stroke=\"black\" stroke-width=\"3.0\" x1=\"126.0\" x2=\"174.0\" y1=\"6.0\" y2=\"54.0\" /><line stroke=\"black\" stroke-width=\"3.0\" x1=\"126.0\" x2=\"174.0\" y1=\"54.0\" y2=\"6.0\" /><circle cx=\"30.0\" cy=\"90.0\" fill=\"none\" r=\"24.0\" stroke=\"black\" stroke-width=\"3.0\" /><circle cx=\"90.0\" cy=\"150.0\" fill=\"none\" r=\"24.0\" stroke=\"black\" stroke-width=\"3.0\" /></g></g></svg>"
          },
          "metadata": {}
        },
        {
          "output_type": "stream",
          "name": "stdout",
          "text": [
            "reward=0.0\n",
            "action=4\n"
          ]
        },
        {
          "output_type": "display_data",
          "data": {
            "image/svg+xml": "<svg baseProfile=\"full\" height=\"240.0\" version=\"1.1\" width=\"240.0\" xmlns=\"http://www.w3.org/2000/svg\" xmlns:ev=\"http://www.w3.org/2001/xml-events\" xmlns:xlink=\"http://www.w3.org/1999/xlink\"><defs /><g transform=\"scale(1.0)\"><rect fill=\"white\" height=\"240\" width=\"240\" x=\"0\" y=\"0\" /><g transform=\"translate(30.0,30.0)\"><g fill=\"black\" id=\"hlines\" stroke=\"black\"><line stroke-width=\"3.0\" x1=\"0\" x2=\"180\" y1=\"60\" y2=\"60\" /><circle cx=\"0\" cy=\"60\" r=\"0.84\" /><circle cx=\"180\" cy=\"60\" r=\"0.84\" /><line stroke-width=\"3.0\" x1=\"0\" x2=\"180\" y1=\"120\" y2=\"120\" /><circle cx=\"0\" cy=\"120\" r=\"0.84\" /><circle cx=\"180\" cy=\"120\" r=\"0.84\" /></g><g fill=\"black\" id=\"vline\" stroke=\"black\"><line stroke-width=\"3.0\" x1=\"60\" x2=\"60\" y1=\"0\" y2=\"180\" /><circle cx=\"60\" cy=\"0\" r=\"0.84\" /><circle cx=\"60\" cy=\"180\" r=\"0.84\" /><line stroke-width=\"3.0\" x1=\"120\" x2=\"120\" y1=\"0\" y2=\"180\" /><circle cx=\"120\" cy=\"0\" r=\"0.84\" /><circle cx=\"120\" cy=\"180\" r=\"0.84\" /></g><line stroke=\"black\" stroke-width=\"3.0\" x1=\"6.0\" x2=\"54.0\" y1=\"6.0\" y2=\"54.0\" /><line stroke=\"black\" stroke-width=\"3.0\" x1=\"6.0\" x2=\"54.0\" y1=\"54.0\" y2=\"6.0\" /><line stroke=\"black\" stroke-width=\"3.0\" x1=\"126.0\" x2=\"174.0\" y1=\"6.0\" y2=\"54.0\" /><line stroke=\"black\" stroke-width=\"3.0\" x1=\"126.0\" x2=\"174.0\" y1=\"54.0\" y2=\"6.0\" /><circle cx=\"30.0\" cy=\"90.0\" fill=\"none\" r=\"24.0\" stroke=\"black\" stroke-width=\"3.0\" /><line stroke=\"black\" stroke-width=\"3.0\" x1=\"66.0\" x2=\"114.0\" y1=\"66.0\" y2=\"114.0\" /><line stroke=\"black\" stroke-width=\"3.0\" x1=\"66.0\" x2=\"114.0\" y1=\"114.0\" y2=\"66.0\" /><circle cx=\"90.0\" cy=\"150.0\" fill=\"none\" r=\"24.0\" stroke=\"black\" stroke-width=\"3.0\" /></g></g></svg>"
          },
          "metadata": {}
        },
        {
          "output_type": "stream",
          "name": "stdout",
          "text": [
            "reward=0.0\n",
            "action=5\n"
          ]
        },
        {
          "output_type": "display_data",
          "data": {
            "image/svg+xml": "<svg baseProfile=\"full\" height=\"240.0\" version=\"1.1\" width=\"240.0\" xmlns=\"http://www.w3.org/2000/svg\" xmlns:ev=\"http://www.w3.org/2001/xml-events\" xmlns:xlink=\"http://www.w3.org/1999/xlink\"><defs /><g transform=\"scale(1.0)\"><rect fill=\"white\" height=\"240\" width=\"240\" x=\"0\" y=\"0\" /><g transform=\"translate(30.0,30.0)\"><g fill=\"black\" id=\"hlines\" stroke=\"black\"><line stroke-width=\"3.0\" x1=\"0\" x2=\"180\" y1=\"60\" y2=\"60\" /><circle cx=\"0\" cy=\"60\" r=\"0.84\" /><circle cx=\"180\" cy=\"60\" r=\"0.84\" /><line stroke-width=\"3.0\" x1=\"0\" x2=\"180\" y1=\"120\" y2=\"120\" /><circle cx=\"0\" cy=\"120\" r=\"0.84\" /><circle cx=\"180\" cy=\"120\" r=\"0.84\" /></g><g fill=\"black\" id=\"vline\" stroke=\"black\"><line stroke-width=\"3.0\" x1=\"60\" x2=\"60\" y1=\"0\" y2=\"180\" /><circle cx=\"60\" cy=\"0\" r=\"0.84\" /><circle cx=\"60\" cy=\"180\" r=\"0.84\" /><line stroke-width=\"3.0\" x1=\"120\" x2=\"120\" y1=\"0\" y2=\"180\" /><circle cx=\"120\" cy=\"0\" r=\"0.84\" /><circle cx=\"120\" cy=\"180\" r=\"0.84\" /></g><line stroke=\"black\" stroke-width=\"3.0\" x1=\"6.0\" x2=\"54.0\" y1=\"6.0\" y2=\"54.0\" /><line stroke=\"black\" stroke-width=\"3.0\" x1=\"6.0\" x2=\"54.0\" y1=\"54.0\" y2=\"6.0\" /><line stroke=\"black\" stroke-width=\"3.0\" x1=\"126.0\" x2=\"174.0\" y1=\"6.0\" y2=\"54.0\" /><line stroke=\"black\" stroke-width=\"3.0\" x1=\"126.0\" x2=\"174.0\" y1=\"54.0\" y2=\"6.0\" /><circle cx=\"30.0\" cy=\"90.0\" fill=\"none\" r=\"24.0\" stroke=\"black\" stroke-width=\"3.0\" /><line stroke=\"black\" stroke-width=\"3.0\" x1=\"66.0\" x2=\"114.0\" y1=\"66.0\" y2=\"114.0\" /><line stroke=\"black\" stroke-width=\"3.0\" x1=\"66.0\" x2=\"114.0\" y1=\"114.0\" y2=\"66.0\" /><circle cx=\"150.0\" cy=\"90.0\" fill=\"none\" r=\"24.0\" stroke=\"black\" stroke-width=\"3.0\" /><circle cx=\"90.0\" cy=\"150.0\" fill=\"none\" r=\"24.0\" stroke=\"black\" stroke-width=\"3.0\" /></g></g></svg>"
          },
          "metadata": {}
        },
        {
          "output_type": "stream",
          "name": "stdout",
          "text": [
            "reward=0.0\n",
            "action=6\n"
          ]
        },
        {
          "output_type": "display_data",
          "data": {
            "image/svg+xml": "<svg baseProfile=\"full\" height=\"240.0\" version=\"1.1\" width=\"240.0\" xmlns=\"http://www.w3.org/2000/svg\" xmlns:ev=\"http://www.w3.org/2001/xml-events\" xmlns:xlink=\"http://www.w3.org/1999/xlink\"><defs /><g transform=\"scale(1.0)\"><rect fill=\"white\" height=\"240\" width=\"240\" x=\"0\" y=\"0\" /><g transform=\"translate(30.0,30.0)\"><g fill=\"black\" id=\"hlines\" stroke=\"black\"><line stroke-width=\"3.0\" x1=\"0\" x2=\"180\" y1=\"60\" y2=\"60\" /><circle cx=\"0\" cy=\"60\" r=\"0.84\" /><circle cx=\"180\" cy=\"60\" r=\"0.84\" /><line stroke-width=\"3.0\" x1=\"0\" x2=\"180\" y1=\"120\" y2=\"120\" /><circle cx=\"0\" cy=\"120\" r=\"0.84\" /><circle cx=\"180\" cy=\"120\" r=\"0.84\" /></g><g fill=\"black\" id=\"vline\" stroke=\"black\"><line stroke-width=\"3.0\" x1=\"60\" x2=\"60\" y1=\"0\" y2=\"180\" /><circle cx=\"60\" cy=\"0\" r=\"0.84\" /><circle cx=\"60\" cy=\"180\" r=\"0.84\" /><line stroke-width=\"3.0\" x1=\"120\" x2=\"120\" y1=\"0\" y2=\"180\" /><circle cx=\"120\" cy=\"0\" r=\"0.84\" /><circle cx=\"120\" cy=\"180\" r=\"0.84\" /></g><line stroke=\"black\" stroke-width=\"3.0\" x1=\"6.0\" x2=\"54.0\" y1=\"6.0\" y2=\"54.0\" /><line stroke=\"black\" stroke-width=\"3.0\" x1=\"6.0\" x2=\"54.0\" y1=\"54.0\" y2=\"6.0\" /><line stroke=\"black\" stroke-width=\"3.0\" x1=\"126.0\" x2=\"174.0\" y1=\"6.0\" y2=\"54.0\" /><line stroke=\"black\" stroke-width=\"3.0\" x1=\"126.0\" x2=\"174.0\" y1=\"54.0\" y2=\"6.0\" /><circle cx=\"30.0\" cy=\"90.0\" fill=\"none\" r=\"24.0\" stroke=\"black\" stroke-width=\"3.0\" /><line stroke=\"black\" stroke-width=\"3.0\" x1=\"66.0\" x2=\"114.0\" y1=\"66.0\" y2=\"114.0\" /><line stroke=\"black\" stroke-width=\"3.0\" x1=\"66.0\" x2=\"114.0\" y1=\"114.0\" y2=\"66.0\" /><circle cx=\"150.0\" cy=\"90.0\" fill=\"none\" r=\"24.0\" stroke=\"black\" stroke-width=\"3.0\" /><line stroke=\"black\" stroke-width=\"3.0\" x1=\"6.0\" x2=\"54.0\" y1=\"126.0\" y2=\"174.0\" /><line stroke=\"black\" stroke-width=\"3.0\" x1=\"6.0\" x2=\"54.0\" y1=\"174.0\" y2=\"126.0\" /><circle cx=\"90.0\" cy=\"150.0\" fill=\"none\" r=\"24.0\" stroke=\"black\" stroke-width=\"3.0\" /></g></g></svg>"
          },
          "metadata": {}
        },
        {
          "output_type": "stream",
          "name": "stdout",
          "text": [
            "reward=-1.0\n",
            "action=None\n"
          ]
        },
        {
          "output_type": "display_data",
          "data": {
            "image/svg+xml": "<svg baseProfile=\"full\" height=\"240.0\" version=\"1.1\" width=\"240.0\" xmlns=\"http://www.w3.org/2000/svg\" xmlns:ev=\"http://www.w3.org/2001/xml-events\" xmlns:xlink=\"http://www.w3.org/1999/xlink\"><defs /><g transform=\"scale(1.0)\"><rect fill=\"white\" height=\"240\" width=\"240\" x=\"0\" y=\"0\" /><g transform=\"translate(30.0,30.0)\"><g fill=\"black\" id=\"hlines\" stroke=\"black\"><line stroke-width=\"3.0\" x1=\"0\" x2=\"180\" y1=\"60\" y2=\"60\" /><circle cx=\"0\" cy=\"60\" r=\"0.84\" /><circle cx=\"180\" cy=\"60\" r=\"0.84\" /><line stroke-width=\"3.0\" x1=\"0\" x2=\"180\" y1=\"120\" y2=\"120\" /><circle cx=\"0\" cy=\"120\" r=\"0.84\" /><circle cx=\"180\" cy=\"120\" r=\"0.84\" /></g><g fill=\"black\" id=\"vline\" stroke=\"black\"><line stroke-width=\"3.0\" x1=\"60\" x2=\"60\" y1=\"0\" y2=\"180\" /><circle cx=\"60\" cy=\"0\" r=\"0.84\" /><circle cx=\"60\" cy=\"180\" r=\"0.84\" /><line stroke-width=\"3.0\" x1=\"120\" x2=\"120\" y1=\"0\" y2=\"180\" /><circle cx=\"120\" cy=\"0\" r=\"0.84\" /><circle cx=\"120\" cy=\"180\" r=\"0.84\" /></g><line stroke=\"black\" stroke-width=\"3.0\" x1=\"6.0\" x2=\"54.0\" y1=\"6.0\" y2=\"54.0\" /><line stroke=\"black\" stroke-width=\"3.0\" x1=\"6.0\" x2=\"54.0\" y1=\"54.0\" y2=\"6.0\" /><line stroke=\"black\" stroke-width=\"3.0\" x1=\"126.0\" x2=\"174.0\" y1=\"6.0\" y2=\"54.0\" /><line stroke=\"black\" stroke-width=\"3.0\" x1=\"126.0\" x2=\"174.0\" y1=\"54.0\" y2=\"6.0\" /><circle cx=\"30.0\" cy=\"90.0\" fill=\"none\" r=\"24.0\" stroke=\"black\" stroke-width=\"3.0\" /><line stroke=\"black\" stroke-width=\"3.0\" x1=\"66.0\" x2=\"114.0\" y1=\"66.0\" y2=\"114.0\" /><line stroke=\"black\" stroke-width=\"3.0\" x1=\"66.0\" x2=\"114.0\" y1=\"114.0\" y2=\"66.0\" /><circle cx=\"150.0\" cy=\"90.0\" fill=\"none\" r=\"24.0\" stroke=\"black\" stroke-width=\"3.0\" /><line stroke=\"black\" stroke-width=\"3.0\" x1=\"6.0\" x2=\"54.0\" y1=\"126.0\" y2=\"174.0\" /><line stroke=\"black\" stroke-width=\"3.0\" x1=\"6.0\" x2=\"54.0\" y1=\"174.0\" y2=\"126.0\" /><circle cx=\"90.0\" cy=\"150.0\" fill=\"none\" r=\"24.0\" stroke=\"black\" stroke-width=\"3.0\" /></g></g></svg>"
          },
          "metadata": {}
        },
        {
          "output_type": "stream",
          "name": "stdout",
          "text": [
            "reward=1.0\n",
            "action=None\n"
          ]
        },
        {
          "output_type": "display_data",
          "data": {
            "image/svg+xml": "<svg baseProfile=\"full\" height=\"240.0\" version=\"1.1\" width=\"240.0\" xmlns=\"http://www.w3.org/2000/svg\" xmlns:ev=\"http://www.w3.org/2001/xml-events\" xmlns:xlink=\"http://www.w3.org/1999/xlink\"><defs /><g transform=\"scale(1.0)\"><rect fill=\"white\" height=\"240\" width=\"240\" x=\"0\" y=\"0\" /><g transform=\"translate(30.0,30.0)\"><g fill=\"black\" id=\"hlines\" stroke=\"black\"><line stroke-width=\"3.0\" x1=\"0\" x2=\"180\" y1=\"60\" y2=\"60\" /><circle cx=\"0\" cy=\"60\" r=\"0.84\" /><circle cx=\"180\" cy=\"60\" r=\"0.84\" /><line stroke-width=\"3.0\" x1=\"0\" x2=\"180\" y1=\"120\" y2=\"120\" /><circle cx=\"0\" cy=\"120\" r=\"0.84\" /><circle cx=\"180\" cy=\"120\" r=\"0.84\" /></g><g fill=\"black\" id=\"vline\" stroke=\"black\"><line stroke-width=\"3.0\" x1=\"60\" x2=\"60\" y1=\"0\" y2=\"180\" /><circle cx=\"60\" cy=\"0\" r=\"0.84\" /><circle cx=\"60\" cy=\"180\" r=\"0.84\" /><line stroke-width=\"3.0\" x1=\"120\" x2=\"120\" y1=\"0\" y2=\"180\" /><circle cx=\"120\" cy=\"0\" r=\"0.84\" /><circle cx=\"120\" cy=\"180\" r=\"0.84\" /></g><line stroke=\"black\" stroke-width=\"3.0\" x1=\"6.0\" x2=\"54.0\" y1=\"6.0\" y2=\"54.0\" /><line stroke=\"black\" stroke-width=\"3.0\" x1=\"6.0\" x2=\"54.0\" y1=\"54.0\" y2=\"6.0\" /><line stroke=\"black\" stroke-width=\"3.0\" x1=\"126.0\" x2=\"174.0\" y1=\"6.0\" y2=\"54.0\" /><line stroke=\"black\" stroke-width=\"3.0\" x1=\"126.0\" x2=\"174.0\" y1=\"54.0\" y2=\"6.0\" /><circle cx=\"30.0\" cy=\"90.0\" fill=\"none\" r=\"24.0\" stroke=\"black\" stroke-width=\"3.0\" /><line stroke=\"black\" stroke-width=\"3.0\" x1=\"66.0\" x2=\"114.0\" y1=\"66.0\" y2=\"114.0\" /><line stroke=\"black\" stroke-width=\"3.0\" x1=\"66.0\" x2=\"114.0\" y1=\"114.0\" y2=\"66.0\" /><circle cx=\"150.0\" cy=\"90.0\" fill=\"none\" r=\"24.0\" stroke=\"black\" stroke-width=\"3.0\" /><line stroke=\"black\" stroke-width=\"3.0\" x1=\"6.0\" x2=\"54.0\" y1=\"126.0\" y2=\"174.0\" /><line stroke=\"black\" stroke-width=\"3.0\" x1=\"6.0\" x2=\"54.0\" y1=\"174.0\" y2=\"126.0\" /><circle cx=\"90.0\" cy=\"150.0\" fill=\"none\" r=\"24.0\" stroke=\"black\" stroke-width=\"3.0\" /></g></g></svg>"
          },
          "metadata": {}
        }
      ]
    },
    {
      "cell_type": "markdown",
      "source": [
        "## Try other games in Pgx"
      ],
      "metadata": {
        "id": "f4eaUy0C7R0-"
      }
    },
    {
      "cell_type": "code",
      "source": [
        "pgx.available_envs()"
      ],
      "metadata": {
        "colab": {
          "base_uri": "https://localhost:8080/"
        },
        "id": "8qY6lOG96tgX",
        "outputId": "933ca6af-a54e-4a7e-d031-411dff34fcc4"
      },
      "execution_count": 8,
      "outputs": [
        {
          "output_type": "execute_result",
          "data": {
            "text/plain": [
              "('2048',\n",
              " 'animal_shogi',\n",
              " 'backgammon',\n",
              " 'chess',\n",
              " 'connect_four',\n",
              " 'gardner_chess',\n",
              " 'go_9x9',\n",
              " 'go_19x19',\n",
              " 'hex',\n",
              " 'kuhn_poker',\n",
              " 'leduc_holdem',\n",
              " 'minatar-asterix',\n",
              " 'minatar-breakout',\n",
              " 'minatar-freeway',\n",
              " 'minatar-seaquest',\n",
              " 'minatar-space_invaders',\n",
              " 'othello',\n",
              " 'shogi',\n",
              " 'sparrow_mahjong',\n",
              " 'tic_tac_toe')"
            ]
          },
          "metadata": {},
          "execution_count": 8
        }
      ]
    },
    {
      "cell_type": "code",
      "source": [
        "random_play(\"go_9x9\", max_iter=10)"
      ],
      "metadata": {
        "colab": {
          "base_uri": "https://localhost:8080/",
          "height": 1000
        },
        "id": "rHKvaDrj6y5P",
        "outputId": "6256bee2-5ecf-4f7d-cf80-4d9d7f3dbe18"
      },
      "execution_count": 9,
      "outputs": [
        {
          "output_type": "display_data",
          "data": {
            "image/svg+xml": "<svg baseProfile=\"full\" height=\"250.0\" version=\"1.1\" width=\"250.0\" xmlns=\"http://www.w3.org/2000/svg\" xmlns:ev=\"http://www.w3.org/2001/xml-events\" xmlns:xlink=\"http://www.w3.org/1999/xlink\"><defs /><rect fill=\"white\" height=\"225\" width=\"225\" x=\"0\" y=\"0\" /><g transform=\"scale(1.0)\"><rect fill=\"white\" height=\"250\" width=\"250\" x=\"0\" y=\"0\" /><g transform=\"translate(12.5,12.5) translate(12.5,12.5)\"><g id=\"hlines\" stroke=\"black\"><line stroke-width=\"0.5px\" x1=\"0\" x2=\"200\" y1=\"25\" y2=\"25\" /><line stroke-width=\"0.5px\" x1=\"0\" x2=\"200\" y1=\"50\" y2=\"50\" /><line stroke-width=\"0.5px\" x1=\"0\" x2=\"200\" y1=\"75\" y2=\"75\" /><line stroke-width=\"0.5px\" x1=\"0\" x2=\"200\" y1=\"100\" y2=\"100\" /><line stroke-width=\"0.5px\" x1=\"0\" x2=\"200\" y1=\"125\" y2=\"125\" /><line stroke-width=\"0.5px\" x1=\"0\" x2=\"200\" y1=\"150\" y2=\"150\" /><line stroke-width=\"0.5px\" x1=\"0\" x2=\"200\" y1=\"175\" y2=\"175\" /></g><g id=\"vline\" stroke=\"black\"><line stroke-width=\"0.5px\" x1=\"25\" x2=\"25\" y1=\"0\" y2=\"200\" /><line stroke-width=\"0.5px\" x1=\"50\" x2=\"50\" y1=\"0\" y2=\"200\" /><line stroke-width=\"0.5px\" x1=\"75\" x2=\"75\" y1=\"0\" y2=\"200\" /><line stroke-width=\"0.5px\" x1=\"100\" x2=\"100\" y1=\"0\" y2=\"200\" /><line stroke-width=\"0.5px\" x1=\"125\" x2=\"125\" y1=\"0\" y2=\"200\" /><line stroke-width=\"0.5px\" x1=\"150\" x2=\"150\" y1=\"0\" y2=\"200\" /><line stroke-width=\"0.5px\" x1=\"175\" x2=\"175\" y1=\"0\" y2=\"200\" /></g><rect fill=\"none\" height=\"200\" stroke=\"black\" stroke-width=\"2px\" width=\"200\" x=\"0\" y=\"0\" /><g /></g></g></svg>"
          },
          "metadata": {}
        },
        {
          "output_type": "stream",
          "name": "stdout",
          "text": [
            "reward=0\n",
            "action=10\n"
          ]
        },
        {
          "output_type": "display_data",
          "data": {
            "image/svg+xml": "<svg baseProfile=\"full\" height=\"250.0\" version=\"1.1\" width=\"250.0\" xmlns=\"http://www.w3.org/2000/svg\" xmlns:ev=\"http://www.w3.org/2001/xml-events\" xmlns:xlink=\"http://www.w3.org/1999/xlink\"><defs /><rect fill=\"white\" height=\"225\" width=\"225\" x=\"0\" y=\"0\" /><g transform=\"scale(1.0)\"><rect fill=\"white\" height=\"250\" width=\"250\" x=\"0\" y=\"0\" /><g transform=\"translate(12.5,12.5) translate(12.5,12.5)\"><g id=\"hlines\" stroke=\"black\"><line stroke-width=\"0.5px\" x1=\"0\" x2=\"200\" y1=\"25\" y2=\"25\" /><line stroke-width=\"0.5px\" x1=\"0\" x2=\"200\" y1=\"50\" y2=\"50\" /><line stroke-width=\"0.5px\" x1=\"0\" x2=\"200\" y1=\"75\" y2=\"75\" /><line stroke-width=\"0.5px\" x1=\"0\" x2=\"200\" y1=\"100\" y2=\"100\" /><line stroke-width=\"0.5px\" x1=\"0\" x2=\"200\" y1=\"125\" y2=\"125\" /><line stroke-width=\"0.5px\" x1=\"0\" x2=\"200\" y1=\"150\" y2=\"150\" /><line stroke-width=\"0.5px\" x1=\"0\" x2=\"200\" y1=\"175\" y2=\"175\" /></g><g id=\"vline\" stroke=\"black\"><line stroke-width=\"0.5px\" x1=\"25\" x2=\"25\" y1=\"0\" y2=\"200\" /><line stroke-width=\"0.5px\" x1=\"50\" x2=\"50\" y1=\"0\" y2=\"200\" /><line stroke-width=\"0.5px\" x1=\"75\" x2=\"75\" y1=\"0\" y2=\"200\" /><line stroke-width=\"0.5px\" x1=\"100\" x2=\"100\" y1=\"0\" y2=\"200\" /><line stroke-width=\"0.5px\" x1=\"125\" x2=\"125\" y1=\"0\" y2=\"200\" /><line stroke-width=\"0.5px\" x1=\"150\" x2=\"150\" y1=\"0\" y2=\"200\" /><line stroke-width=\"0.5px\" x1=\"175\" x2=\"175\" y1=\"0\" y2=\"200\" /></g><rect fill=\"none\" height=\"200\" stroke=\"black\" stroke-width=\"2px\" width=\"200\" x=\"0\" y=\"0\" /><g /><circle cx=\"25\" cy=\"25\" fill=\"black\" r=\"11.363636363636363\" stroke=\"black\" /></g></g></svg>"
          },
          "metadata": {}
        },
        {
          "output_type": "stream",
          "name": "stdout",
          "text": [
            "reward=0.0\n",
            "action=67\n"
          ]
        },
        {
          "output_type": "display_data",
          "data": {
            "image/svg+xml": "<svg baseProfile=\"full\" height=\"250.0\" version=\"1.1\" width=\"250.0\" xmlns=\"http://www.w3.org/2000/svg\" xmlns:ev=\"http://www.w3.org/2001/xml-events\" xmlns:xlink=\"http://www.w3.org/1999/xlink\"><defs /><rect fill=\"white\" height=\"225\" width=\"225\" x=\"0\" y=\"0\" /><g transform=\"scale(1.0)\"><rect fill=\"white\" height=\"250\" width=\"250\" x=\"0\" y=\"0\" /><g transform=\"translate(12.5,12.5) translate(12.5,12.5)\"><g id=\"hlines\" stroke=\"black\"><line stroke-width=\"0.5px\" x1=\"0\" x2=\"200\" y1=\"25\" y2=\"25\" /><line stroke-width=\"0.5px\" x1=\"0\" x2=\"200\" y1=\"50\" y2=\"50\" /><line stroke-width=\"0.5px\" x1=\"0\" x2=\"200\" y1=\"75\" y2=\"75\" /><line stroke-width=\"0.5px\" x1=\"0\" x2=\"200\" y1=\"100\" y2=\"100\" /><line stroke-width=\"0.5px\" x1=\"0\" x2=\"200\" y1=\"125\" y2=\"125\" /><line stroke-width=\"0.5px\" x1=\"0\" x2=\"200\" y1=\"150\" y2=\"150\" /><line stroke-width=\"0.5px\" x1=\"0\" x2=\"200\" y1=\"175\" y2=\"175\" /></g><g id=\"vline\" stroke=\"black\"><line stroke-width=\"0.5px\" x1=\"25\" x2=\"25\" y1=\"0\" y2=\"200\" /><line stroke-width=\"0.5px\" x1=\"50\" x2=\"50\" y1=\"0\" y2=\"200\" /><line stroke-width=\"0.5px\" x1=\"75\" x2=\"75\" y1=\"0\" y2=\"200\" /><line stroke-width=\"0.5px\" x1=\"100\" x2=\"100\" y1=\"0\" y2=\"200\" /><line stroke-width=\"0.5px\" x1=\"125\" x2=\"125\" y1=\"0\" y2=\"200\" /><line stroke-width=\"0.5px\" x1=\"150\" x2=\"150\" y1=\"0\" y2=\"200\" /><line stroke-width=\"0.5px\" x1=\"175\" x2=\"175\" y1=\"0\" y2=\"200\" /></g><rect fill=\"none\" height=\"200\" stroke=\"black\" stroke-width=\"2px\" width=\"200\" x=\"0\" y=\"0\" /><g /><circle cx=\"25\" cy=\"25\" fill=\"black\" r=\"11.363636363636363\" stroke=\"black\" /><circle cx=\"100\" cy=\"175\" fill=\"white\" r=\"11.363636363636363\" stroke=\"black\" /></g></g></svg>"
          },
          "metadata": {}
        },
        {
          "output_type": "stream",
          "name": "stdout",
          "text": [
            "reward=0.0\n",
            "action=60\n"
          ]
        },
        {
          "output_type": "display_data",
          "data": {
            "image/svg+xml": "<svg baseProfile=\"full\" height=\"250.0\" version=\"1.1\" width=\"250.0\" xmlns=\"http://www.w3.org/2000/svg\" xmlns:ev=\"http://www.w3.org/2001/xml-events\" xmlns:xlink=\"http://www.w3.org/1999/xlink\"><defs /><rect fill=\"white\" height=\"225\" width=\"225\" x=\"0\" y=\"0\" /><g transform=\"scale(1.0)\"><rect fill=\"white\" height=\"250\" width=\"250\" x=\"0\" y=\"0\" /><g transform=\"translate(12.5,12.5) translate(12.5,12.5)\"><g id=\"hlines\" stroke=\"black\"><line stroke-width=\"0.5px\" x1=\"0\" x2=\"200\" y1=\"25\" y2=\"25\" /><line stroke-width=\"0.5px\" x1=\"0\" x2=\"200\" y1=\"50\" y2=\"50\" /><line stroke-width=\"0.5px\" x1=\"0\" x2=\"200\" y1=\"75\" y2=\"75\" /><line stroke-width=\"0.5px\" x1=\"0\" x2=\"200\" y1=\"100\" y2=\"100\" /><line stroke-width=\"0.5px\" x1=\"0\" x2=\"200\" y1=\"125\" y2=\"125\" /><line stroke-width=\"0.5px\" x1=\"0\" x2=\"200\" y1=\"150\" y2=\"150\" /><line stroke-width=\"0.5px\" x1=\"0\" x2=\"200\" y1=\"175\" y2=\"175\" /></g><g id=\"vline\" stroke=\"black\"><line stroke-width=\"0.5px\" x1=\"25\" x2=\"25\" y1=\"0\" y2=\"200\" /><line stroke-width=\"0.5px\" x1=\"50\" x2=\"50\" y1=\"0\" y2=\"200\" /><line stroke-width=\"0.5px\" x1=\"75\" x2=\"75\" y1=\"0\" y2=\"200\" /><line stroke-width=\"0.5px\" x1=\"100\" x2=\"100\" y1=\"0\" y2=\"200\" /><line stroke-width=\"0.5px\" x1=\"125\" x2=\"125\" y1=\"0\" y2=\"200\" /><line stroke-width=\"0.5px\" x1=\"150\" x2=\"150\" y1=\"0\" y2=\"200\" /><line stroke-width=\"0.5px\" x1=\"175\" x2=\"175\" y1=\"0\" y2=\"200\" /></g><rect fill=\"none\" height=\"200\" stroke=\"black\" stroke-width=\"2px\" width=\"200\" x=\"0\" y=\"0\" /><g /><circle cx=\"25\" cy=\"25\" fill=\"black\" r=\"11.363636363636363\" stroke=\"black\" /><circle cx=\"150\" cy=\"150\" fill=\"black\" r=\"11.363636363636363\" stroke=\"black\" /><circle cx=\"100\" cy=\"175\" fill=\"white\" r=\"11.363636363636363\" stroke=\"black\" /></g></g></svg>"
          },
          "metadata": {}
        },
        {
          "output_type": "stream",
          "name": "stdout",
          "text": [
            "reward=0.0\n",
            "action=17\n"
          ]
        },
        {
          "output_type": "display_data",
          "data": {
            "image/svg+xml": "<svg baseProfile=\"full\" height=\"250.0\" version=\"1.1\" width=\"250.0\" xmlns=\"http://www.w3.org/2000/svg\" xmlns:ev=\"http://www.w3.org/2001/xml-events\" xmlns:xlink=\"http://www.w3.org/1999/xlink\"><defs /><rect fill=\"white\" height=\"225\" width=\"225\" x=\"0\" y=\"0\" /><g transform=\"scale(1.0)\"><rect fill=\"white\" height=\"250\" width=\"250\" x=\"0\" y=\"0\" /><g transform=\"translate(12.5,12.5) translate(12.5,12.5)\"><g id=\"hlines\" stroke=\"black\"><line stroke-width=\"0.5px\" x1=\"0\" x2=\"200\" y1=\"25\" y2=\"25\" /><line stroke-width=\"0.5px\" x1=\"0\" x2=\"200\" y1=\"50\" y2=\"50\" /><line stroke-width=\"0.5px\" x1=\"0\" x2=\"200\" y1=\"75\" y2=\"75\" /><line stroke-width=\"0.5px\" x1=\"0\" x2=\"200\" y1=\"100\" y2=\"100\" /><line stroke-width=\"0.5px\" x1=\"0\" x2=\"200\" y1=\"125\" y2=\"125\" /><line stroke-width=\"0.5px\" x1=\"0\" x2=\"200\" y1=\"150\" y2=\"150\" /><line stroke-width=\"0.5px\" x1=\"0\" x2=\"200\" y1=\"175\" y2=\"175\" /></g><g id=\"vline\" stroke=\"black\"><line stroke-width=\"0.5px\" x1=\"25\" x2=\"25\" y1=\"0\" y2=\"200\" /><line stroke-width=\"0.5px\" x1=\"50\" x2=\"50\" y1=\"0\" y2=\"200\" /><line stroke-width=\"0.5px\" x1=\"75\" x2=\"75\" y1=\"0\" y2=\"200\" /><line stroke-width=\"0.5px\" x1=\"100\" x2=\"100\" y1=\"0\" y2=\"200\" /><line stroke-width=\"0.5px\" x1=\"125\" x2=\"125\" y1=\"0\" y2=\"200\" /><line stroke-width=\"0.5px\" x1=\"150\" x2=\"150\" y1=\"0\" y2=\"200\" /><line stroke-width=\"0.5px\" x1=\"175\" x2=\"175\" y1=\"0\" y2=\"200\" /></g><rect fill=\"none\" height=\"200\" stroke=\"black\" stroke-width=\"2px\" width=\"200\" x=\"0\" y=\"0\" /><g /><circle cx=\"25\" cy=\"25\" fill=\"black\" r=\"11.363636363636363\" stroke=\"black\" /><circle cx=\"200\" cy=\"25\" fill=\"white\" r=\"11.363636363636363\" stroke=\"black\" /><circle cx=\"150\" cy=\"150\" fill=\"black\" r=\"11.363636363636363\" stroke=\"black\" /><circle cx=\"100\" cy=\"175\" fill=\"white\" r=\"11.363636363636363\" stroke=\"black\" /></g></g></svg>"
          },
          "metadata": {}
        },
        {
          "output_type": "stream",
          "name": "stdout",
          "text": [
            "reward=0.0\n",
            "action=53\n"
          ]
        },
        {
          "output_type": "display_data",
          "data": {
            "image/svg+xml": "<svg baseProfile=\"full\" height=\"250.0\" version=\"1.1\" width=\"250.0\" xmlns=\"http://www.w3.org/2000/svg\" xmlns:ev=\"http://www.w3.org/2001/xml-events\" xmlns:xlink=\"http://www.w3.org/1999/xlink\"><defs /><rect fill=\"white\" height=\"225\" width=\"225\" x=\"0\" y=\"0\" /><g transform=\"scale(1.0)\"><rect fill=\"white\" height=\"250\" width=\"250\" x=\"0\" y=\"0\" /><g transform=\"translate(12.5,12.5) translate(12.5,12.5)\"><g id=\"hlines\" stroke=\"black\"><line stroke-width=\"0.5px\" x1=\"0\" x2=\"200\" y1=\"25\" y2=\"25\" /><line stroke-width=\"0.5px\" x1=\"0\" x2=\"200\" y1=\"50\" y2=\"50\" /><line stroke-width=\"0.5px\" x1=\"0\" x2=\"200\" y1=\"75\" y2=\"75\" /><line stroke-width=\"0.5px\" x1=\"0\" x2=\"200\" y1=\"100\" y2=\"100\" /><line stroke-width=\"0.5px\" x1=\"0\" x2=\"200\" y1=\"125\" y2=\"125\" /><line stroke-width=\"0.5px\" x1=\"0\" x2=\"200\" y1=\"150\" y2=\"150\" /><line stroke-width=\"0.5px\" x1=\"0\" x2=\"200\" y1=\"175\" y2=\"175\" /></g><g id=\"vline\" stroke=\"black\"><line stroke-width=\"0.5px\" x1=\"25\" x2=\"25\" y1=\"0\" y2=\"200\" /><line stroke-width=\"0.5px\" x1=\"50\" x2=\"50\" y1=\"0\" y2=\"200\" /><line stroke-width=\"0.5px\" x1=\"75\" x2=\"75\" y1=\"0\" y2=\"200\" /><line stroke-width=\"0.5px\" x1=\"100\" x2=\"100\" y1=\"0\" y2=\"200\" /><line stroke-width=\"0.5px\" x1=\"125\" x2=\"125\" y1=\"0\" y2=\"200\" /><line stroke-width=\"0.5px\" x1=\"150\" x2=\"150\" y1=\"0\" y2=\"200\" /><line stroke-width=\"0.5px\" x1=\"175\" x2=\"175\" y1=\"0\" y2=\"200\" /></g><rect fill=\"none\" height=\"200\" stroke=\"black\" stroke-width=\"2px\" width=\"200\" x=\"0\" y=\"0\" /><g /><circle cx=\"25\" cy=\"25\" fill=\"black\" r=\"11.363636363636363\" stroke=\"black\" /><circle cx=\"200\" cy=\"25\" fill=\"white\" r=\"11.363636363636363\" stroke=\"black\" /><circle cx=\"200\" cy=\"125\" fill=\"black\" r=\"11.363636363636363\" stroke=\"black\" /><circle cx=\"150\" cy=\"150\" fill=\"black\" r=\"11.363636363636363\" stroke=\"black\" /><circle cx=\"100\" cy=\"175\" fill=\"white\" r=\"11.363636363636363\" stroke=\"black\" /></g></g></svg>"
          },
          "metadata": {}
        },
        {
          "output_type": "stream",
          "name": "stdout",
          "text": [
            "reward=0.0\n",
            "action=15\n"
          ]
        },
        {
          "output_type": "display_data",
          "data": {
            "image/svg+xml": "<svg baseProfile=\"full\" height=\"250.0\" version=\"1.1\" width=\"250.0\" xmlns=\"http://www.w3.org/2000/svg\" xmlns:ev=\"http://www.w3.org/2001/xml-events\" xmlns:xlink=\"http://www.w3.org/1999/xlink\"><defs /><rect fill=\"white\" height=\"225\" width=\"225\" x=\"0\" y=\"0\" /><g transform=\"scale(1.0)\"><rect fill=\"white\" height=\"250\" width=\"250\" x=\"0\" y=\"0\" /><g transform=\"translate(12.5,12.5) translate(12.5,12.5)\"><g id=\"hlines\" stroke=\"black\"><line stroke-width=\"0.5px\" x1=\"0\" x2=\"200\" y1=\"25\" y2=\"25\" /><line stroke-width=\"0.5px\" x1=\"0\" x2=\"200\" y1=\"50\" y2=\"50\" /><line stroke-width=\"0.5px\" x1=\"0\" x2=\"200\" y1=\"75\" y2=\"75\" /><line stroke-width=\"0.5px\" x1=\"0\" x2=\"200\" y1=\"100\" y2=\"100\" /><line stroke-width=\"0.5px\" x1=\"0\" x2=\"200\" y1=\"125\" y2=\"125\" /><line stroke-width=\"0.5px\" x1=\"0\" x2=\"200\" y1=\"150\" y2=\"150\" /><line stroke-width=\"0.5px\" x1=\"0\" x2=\"200\" y1=\"175\" y2=\"175\" /></g><g id=\"vline\" stroke=\"black\"><line stroke-width=\"0.5px\" x1=\"25\" x2=\"25\" y1=\"0\" y2=\"200\" /><line stroke-width=\"0.5px\" x1=\"50\" x2=\"50\" y1=\"0\" y2=\"200\" /><line stroke-width=\"0.5px\" x1=\"75\" x2=\"75\" y1=\"0\" y2=\"200\" /><line stroke-width=\"0.5px\" x1=\"100\" x2=\"100\" y1=\"0\" y2=\"200\" /><line stroke-width=\"0.5px\" x1=\"125\" x2=\"125\" y1=\"0\" y2=\"200\" /><line stroke-width=\"0.5px\" x1=\"150\" x2=\"150\" y1=\"0\" y2=\"200\" /><line stroke-width=\"0.5px\" x1=\"175\" x2=\"175\" y1=\"0\" y2=\"200\" /></g><rect fill=\"none\" height=\"200\" stroke=\"black\" stroke-width=\"2px\" width=\"200\" x=\"0\" y=\"0\" /><g /><circle cx=\"25\" cy=\"25\" fill=\"black\" r=\"11.363636363636363\" stroke=\"black\" /><circle cx=\"150\" cy=\"25\" fill=\"white\" r=\"11.363636363636363\" stroke=\"black\" /><circle cx=\"200\" cy=\"25\" fill=\"white\" r=\"11.363636363636363\" stroke=\"black\" /><circle cx=\"200\" cy=\"125\" fill=\"black\" r=\"11.363636363636363\" stroke=\"black\" /><circle cx=\"150\" cy=\"150\" fill=\"black\" r=\"11.363636363636363\" stroke=\"black\" /><circle cx=\"100\" cy=\"175\" fill=\"white\" r=\"11.363636363636363\" stroke=\"black\" /></g></g></svg>"
          },
          "metadata": {}
        },
        {
          "output_type": "stream",
          "name": "stdout",
          "text": [
            "reward=0.0\n",
            "action=70\n"
          ]
        },
        {
          "output_type": "display_data",
          "data": {
            "image/svg+xml": "<svg baseProfile=\"full\" height=\"250.0\" version=\"1.1\" width=\"250.0\" xmlns=\"http://www.w3.org/2000/svg\" xmlns:ev=\"http://www.w3.org/2001/xml-events\" xmlns:xlink=\"http://www.w3.org/1999/xlink\"><defs /><rect fill=\"white\" height=\"225\" width=\"225\" x=\"0\" y=\"0\" /><g transform=\"scale(1.0)\"><rect fill=\"white\" height=\"250\" width=\"250\" x=\"0\" y=\"0\" /><g transform=\"translate(12.5,12.5) translate(12.5,12.5)\"><g id=\"hlines\" stroke=\"black\"><line stroke-width=\"0.5px\" x1=\"0\" x2=\"200\" y1=\"25\" y2=\"25\" /><line stroke-width=\"0.5px\" x1=\"0\" x2=\"200\" y1=\"50\" y2=\"50\" /><line stroke-width=\"0.5px\" x1=\"0\" x2=\"200\" y1=\"75\" y2=\"75\" /><line stroke-width=\"0.5px\" x1=\"0\" x2=\"200\" y1=\"100\" y2=\"100\" /><line stroke-width=\"0.5px\" x1=\"0\" x2=\"200\" y1=\"125\" y2=\"125\" /><line stroke-width=\"0.5px\" x1=\"0\" x2=\"200\" y1=\"150\" y2=\"150\" /><line stroke-width=\"0.5px\" x1=\"0\" x2=\"200\" y1=\"175\" y2=\"175\" /></g><g id=\"vline\" stroke=\"black\"><line stroke-width=\"0.5px\" x1=\"25\" x2=\"25\" y1=\"0\" y2=\"200\" /><line stroke-width=\"0.5px\" x1=\"50\" x2=\"50\" y1=\"0\" y2=\"200\" /><line stroke-width=\"0.5px\" x1=\"75\" x2=\"75\" y1=\"0\" y2=\"200\" /><line stroke-width=\"0.5px\" x1=\"100\" x2=\"100\" y1=\"0\" y2=\"200\" /><line stroke-width=\"0.5px\" x1=\"125\" x2=\"125\" y1=\"0\" y2=\"200\" /><line stroke-width=\"0.5px\" x1=\"150\" x2=\"150\" y1=\"0\" y2=\"200\" /><line stroke-width=\"0.5px\" x1=\"175\" x2=\"175\" y1=\"0\" y2=\"200\" /></g><rect fill=\"none\" height=\"200\" stroke=\"black\" stroke-width=\"2px\" width=\"200\" x=\"0\" y=\"0\" /><g /><circle cx=\"25\" cy=\"25\" fill=\"black\" r=\"11.363636363636363\" stroke=\"black\" /><circle cx=\"150\" cy=\"25\" fill=\"white\" r=\"11.363636363636363\" stroke=\"black\" /><circle cx=\"200\" cy=\"25\" fill=\"white\" r=\"11.363636363636363\" stroke=\"black\" /><circle cx=\"200\" cy=\"125\" fill=\"black\" r=\"11.363636363636363\" stroke=\"black\" /><circle cx=\"150\" cy=\"150\" fill=\"black\" r=\"11.363636363636363\" stroke=\"black\" /><circle cx=\"100\" cy=\"175\" fill=\"white\" r=\"11.363636363636363\" stroke=\"black\" /><circle cx=\"175\" cy=\"175\" fill=\"black\" r=\"11.363636363636363\" stroke=\"black\" /></g></g></svg>"
          },
          "metadata": {}
        },
        {
          "output_type": "stream",
          "name": "stdout",
          "text": [
            "reward=0.0\n",
            "action=11\n"
          ]
        },
        {
          "output_type": "display_data",
          "data": {
            "image/svg+xml": "<svg baseProfile=\"full\" height=\"250.0\" version=\"1.1\" width=\"250.0\" xmlns=\"http://www.w3.org/2000/svg\" xmlns:ev=\"http://www.w3.org/2001/xml-events\" xmlns:xlink=\"http://www.w3.org/1999/xlink\"><defs /><rect fill=\"white\" height=\"225\" width=\"225\" x=\"0\" y=\"0\" /><g transform=\"scale(1.0)\"><rect fill=\"white\" height=\"250\" width=\"250\" x=\"0\" y=\"0\" /><g transform=\"translate(12.5,12.5) translate(12.5,12.5)\"><g id=\"hlines\" stroke=\"black\"><line stroke-width=\"0.5px\" x1=\"0\" x2=\"200\" y1=\"25\" y2=\"25\" /><line stroke-width=\"0.5px\" x1=\"0\" x2=\"200\" y1=\"50\" y2=\"50\" /><line stroke-width=\"0.5px\" x1=\"0\" x2=\"200\" y1=\"75\" y2=\"75\" /><line stroke-width=\"0.5px\" x1=\"0\" x2=\"200\" y1=\"100\" y2=\"100\" /><line stroke-width=\"0.5px\" x1=\"0\" x2=\"200\" y1=\"125\" y2=\"125\" /><line stroke-width=\"0.5px\" x1=\"0\" x2=\"200\" y1=\"150\" y2=\"150\" /><line stroke-width=\"0.5px\" x1=\"0\" x2=\"200\" y1=\"175\" y2=\"175\" /></g><g id=\"vline\" stroke=\"black\"><line stroke-width=\"0.5px\" x1=\"25\" x2=\"25\" y1=\"0\" y2=\"200\" /><line stroke-width=\"0.5px\" x1=\"50\" x2=\"50\" y1=\"0\" y2=\"200\" /><line stroke-width=\"0.5px\" x1=\"75\" x2=\"75\" y1=\"0\" y2=\"200\" /><line stroke-width=\"0.5px\" x1=\"100\" x2=\"100\" y1=\"0\" y2=\"200\" /><line stroke-width=\"0.5px\" x1=\"125\" x2=\"125\" y1=\"0\" y2=\"200\" /><line stroke-width=\"0.5px\" x1=\"150\" x2=\"150\" y1=\"0\" y2=\"200\" /><line stroke-width=\"0.5px\" x1=\"175\" x2=\"175\" y1=\"0\" y2=\"200\" /></g><rect fill=\"none\" height=\"200\" stroke=\"black\" stroke-width=\"2px\" width=\"200\" x=\"0\" y=\"0\" /><g /><circle cx=\"25\" cy=\"25\" fill=\"black\" r=\"11.363636363636363\" stroke=\"black\" /><circle cx=\"50\" cy=\"25\" fill=\"white\" r=\"11.363636363636363\" stroke=\"black\" /><circle cx=\"150\" cy=\"25\" fill=\"white\" r=\"11.363636363636363\" stroke=\"black\" /><circle cx=\"200\" cy=\"25\" fill=\"white\" r=\"11.363636363636363\" stroke=\"black\" /><circle cx=\"200\" cy=\"125\" fill=\"black\" r=\"11.363636363636363\" stroke=\"black\" /><circle cx=\"150\" cy=\"150\" fill=\"black\" r=\"11.363636363636363\" stroke=\"black\" /><circle cx=\"100\" cy=\"175\" fill=\"white\" r=\"11.363636363636363\" stroke=\"black\" /><circle cx=\"175\" cy=\"175\" fill=\"black\" r=\"11.363636363636363\" stroke=\"black\" /></g></g></svg>"
          },
          "metadata": {}
        },
        {
          "output_type": "stream",
          "name": "stdout",
          "text": [
            "reward=0.0\n",
            "action=76\n"
          ]
        },
        {
          "output_type": "display_data",
          "data": {
            "image/svg+xml": "<svg baseProfile=\"full\" height=\"250.0\" version=\"1.1\" width=\"250.0\" xmlns=\"http://www.w3.org/2000/svg\" xmlns:ev=\"http://www.w3.org/2001/xml-events\" xmlns:xlink=\"http://www.w3.org/1999/xlink\"><defs /><rect fill=\"white\" height=\"225\" width=\"225\" x=\"0\" y=\"0\" /><g transform=\"scale(1.0)\"><rect fill=\"white\" height=\"250\" width=\"250\" x=\"0\" y=\"0\" /><g transform=\"translate(12.5,12.5) translate(12.5,12.5)\"><g id=\"hlines\" stroke=\"black\"><line stroke-width=\"0.5px\" x1=\"0\" x2=\"200\" y1=\"25\" y2=\"25\" /><line stroke-width=\"0.5px\" x1=\"0\" x2=\"200\" y1=\"50\" y2=\"50\" /><line stroke-width=\"0.5px\" x1=\"0\" x2=\"200\" y1=\"75\" y2=\"75\" /><line stroke-width=\"0.5px\" x1=\"0\" x2=\"200\" y1=\"100\" y2=\"100\" /><line stroke-width=\"0.5px\" x1=\"0\" x2=\"200\" y1=\"125\" y2=\"125\" /><line stroke-width=\"0.5px\" x1=\"0\" x2=\"200\" y1=\"150\" y2=\"150\" /><line stroke-width=\"0.5px\" x1=\"0\" x2=\"200\" y1=\"175\" y2=\"175\" /></g><g id=\"vline\" stroke=\"black\"><line stroke-width=\"0.5px\" x1=\"25\" x2=\"25\" y1=\"0\" y2=\"200\" /><line stroke-width=\"0.5px\" x1=\"50\" x2=\"50\" y1=\"0\" y2=\"200\" /><line stroke-width=\"0.5px\" x1=\"75\" x2=\"75\" y1=\"0\" y2=\"200\" /><line stroke-width=\"0.5px\" x1=\"100\" x2=\"100\" y1=\"0\" y2=\"200\" /><line stroke-width=\"0.5px\" x1=\"125\" x2=\"125\" y1=\"0\" y2=\"200\" /><line stroke-width=\"0.5px\" x1=\"150\" x2=\"150\" y1=\"0\" y2=\"200\" /><line stroke-width=\"0.5px\" x1=\"175\" x2=\"175\" y1=\"0\" y2=\"200\" /></g><rect fill=\"none\" height=\"200\" stroke=\"black\" stroke-width=\"2px\" width=\"200\" x=\"0\" y=\"0\" /><g /><circle cx=\"25\" cy=\"25\" fill=\"black\" r=\"11.363636363636363\" stroke=\"black\" /><circle cx=\"50\" cy=\"25\" fill=\"white\" r=\"11.363636363636363\" stroke=\"black\" /><circle cx=\"150\" cy=\"25\" fill=\"white\" r=\"11.363636363636363\" stroke=\"black\" /><circle cx=\"200\" cy=\"25\" fill=\"white\" r=\"11.363636363636363\" stroke=\"black\" /><circle cx=\"200\" cy=\"125\" fill=\"black\" r=\"11.363636363636363\" stroke=\"black\" /><circle cx=\"150\" cy=\"150\" fill=\"black\" r=\"11.363636363636363\" stroke=\"black\" /><circle cx=\"100\" cy=\"175\" fill=\"white\" r=\"11.363636363636363\" stroke=\"black\" /><circle cx=\"175\" cy=\"175\" fill=\"black\" r=\"11.363636363636363\" stroke=\"black\" /><circle cx=\"100\" cy=\"200\" fill=\"black\" r=\"11.363636363636363\" stroke=\"black\" /></g></g></svg>"
          },
          "metadata": {}
        },
        {
          "output_type": "stream",
          "name": "stdout",
          "text": [
            "reward=0.0\n",
            "action=66\n"
          ]
        },
        {
          "output_type": "display_data",
          "data": {
            "image/svg+xml": "<svg baseProfile=\"full\" height=\"250.0\" version=\"1.1\" width=\"250.0\" xmlns=\"http://www.w3.org/2000/svg\" xmlns:ev=\"http://www.w3.org/2001/xml-events\" xmlns:xlink=\"http://www.w3.org/1999/xlink\"><defs /><rect fill=\"white\" height=\"225\" width=\"225\" x=\"0\" y=\"0\" /><g transform=\"scale(1.0)\"><rect fill=\"white\" height=\"250\" width=\"250\" x=\"0\" y=\"0\" /><g transform=\"translate(12.5,12.5) translate(12.5,12.5)\"><g id=\"hlines\" stroke=\"black\"><line stroke-width=\"0.5px\" x1=\"0\" x2=\"200\" y1=\"25\" y2=\"25\" /><line stroke-width=\"0.5px\" x1=\"0\" x2=\"200\" y1=\"50\" y2=\"50\" /><line stroke-width=\"0.5px\" x1=\"0\" x2=\"200\" y1=\"75\" y2=\"75\" /><line stroke-width=\"0.5px\" x1=\"0\" x2=\"200\" y1=\"100\" y2=\"100\" /><line stroke-width=\"0.5px\" x1=\"0\" x2=\"200\" y1=\"125\" y2=\"125\" /><line stroke-width=\"0.5px\" x1=\"0\" x2=\"200\" y1=\"150\" y2=\"150\" /><line stroke-width=\"0.5px\" x1=\"0\" x2=\"200\" y1=\"175\" y2=\"175\" /></g><g id=\"vline\" stroke=\"black\"><line stroke-width=\"0.5px\" x1=\"25\" x2=\"25\" y1=\"0\" y2=\"200\" /><line stroke-width=\"0.5px\" x1=\"50\" x2=\"50\" y1=\"0\" y2=\"200\" /><line stroke-width=\"0.5px\" x1=\"75\" x2=\"75\" y1=\"0\" y2=\"200\" /><line stroke-width=\"0.5px\" x1=\"100\" x2=\"100\" y1=\"0\" y2=\"200\" /><line stroke-width=\"0.5px\" x1=\"125\" x2=\"125\" y1=\"0\" y2=\"200\" /><line stroke-width=\"0.5px\" x1=\"150\" x2=\"150\" y1=\"0\" y2=\"200\" /><line stroke-width=\"0.5px\" x1=\"175\" x2=\"175\" y1=\"0\" y2=\"200\" /></g><rect fill=\"none\" height=\"200\" stroke=\"black\" stroke-width=\"2px\" width=\"200\" x=\"0\" y=\"0\" /><g /><circle cx=\"25\" cy=\"25\" fill=\"black\" r=\"11.363636363636363\" stroke=\"black\" /><circle cx=\"50\" cy=\"25\" fill=\"white\" r=\"11.363636363636363\" stroke=\"black\" /><circle cx=\"150\" cy=\"25\" fill=\"white\" r=\"11.363636363636363\" stroke=\"black\" /><circle cx=\"200\" cy=\"25\" fill=\"white\" r=\"11.363636363636363\" stroke=\"black\" /><circle cx=\"200\" cy=\"125\" fill=\"black\" r=\"11.363636363636363\" stroke=\"black\" /><circle cx=\"150\" cy=\"150\" fill=\"black\" r=\"11.363636363636363\" stroke=\"black\" /><circle cx=\"75\" cy=\"175\" fill=\"white\" r=\"11.363636363636363\" stroke=\"black\" /><circle cx=\"100\" cy=\"175\" fill=\"white\" r=\"11.363636363636363\" stroke=\"black\" /><circle cx=\"175\" cy=\"175\" fill=\"black\" r=\"11.363636363636363\" stroke=\"black\" /><circle cx=\"100\" cy=\"200\" fill=\"black\" r=\"11.363636363636363\" stroke=\"black\" /></g></g></svg>"
          },
          "metadata": {}
        }
      ]
    },
    {
      "cell_type": "code",
      "source": [
        "random_play(\"2048\", max_iter=10)"
      ],
      "metadata": {
        "id": "wE5wwH8I5zpy",
        "outputId": "74237515-9306-4a9c-c4e7-1ddd775481da",
        "colab": {
          "base_uri": "https://localhost:8080/",
          "height": 1000
        }
      },
      "execution_count": 11,
      "outputs": [
        {
          "output_type": "display_data",
          "data": {
            "image/svg+xml": "<svg baseProfile=\"full\" height=\"250.0\" version=\"1.1\" width=\"250.0\" xmlns=\"http://www.w3.org/2000/svg\" xmlns:ev=\"http://www.w3.org/2001/xml-events\" xmlns:xlink=\"http://www.w3.org/1999/xlink\"><defs /><rect fill=\"white\" height=\"200\" width=\"200\" x=\"0\" y=\"0\" /><g transform=\"scale(1.0)\"><rect fill=\"white\" height=\"250\" width=\"250\" x=\"0\" y=\"0\" /><g transform=\"translate(25.0,25.0)\"><rect fill=\"#dcdcdc\" height=\"46\" rx=\"3px\" ry=\"3px\" stroke=\"black\" stroke-width=\"0.5px\" width=\"46\" x=\"2\" y=\"2\" /><text fill=\"black\" font-family=\"Courier\" font-size=\"18px\" font-weight=\"bold\" x=\"19.6\" y=\"30.0\">2</text><rect fill=\"#f2f2f2\" height=\"46\" rx=\"3px\" ry=\"3px\" stroke=\"black\" stroke-width=\"0.5px\" width=\"46\" x=\"52\" y=\"2\" /><rect fill=\"#f2f2f2\" height=\"46\" rx=\"3px\" ry=\"3px\" stroke=\"black\" stroke-width=\"0.5px\" width=\"46\" x=\"102\" y=\"2\" /><rect fill=\"#f2f2f2\" height=\"46\" rx=\"3px\" ry=\"3px\" stroke=\"black\" stroke-width=\"0.5px\" width=\"46\" x=\"152\" y=\"2\" /><rect fill=\"#f2f2f2\" height=\"46\" rx=\"3px\" ry=\"3px\" stroke=\"black\" stroke-width=\"0.5px\" width=\"46\" x=\"2\" y=\"52\" /><rect fill=\"#f2f2f2\" height=\"46\" rx=\"3px\" ry=\"3px\" stroke=\"black\" stroke-width=\"0.5px\" width=\"46\" x=\"52\" y=\"52\" /><rect fill=\"#f2f2f2\" height=\"46\" rx=\"3px\" ry=\"3px\" stroke=\"black\" stroke-width=\"0.5px\" width=\"46\" x=\"102\" y=\"52\" /><rect fill=\"#f2f2f2\" height=\"46\" rx=\"3px\" ry=\"3px\" stroke=\"black\" stroke-width=\"0.5px\" width=\"46\" x=\"152\" y=\"52\" /><rect fill=\"#f2f2f2\" height=\"46\" rx=\"3px\" ry=\"3px\" stroke=\"black\" stroke-width=\"0.5px\" width=\"46\" x=\"2\" y=\"102\" /><rect fill=\"#f2f2f2\" height=\"46\" rx=\"3px\" ry=\"3px\" stroke=\"black\" stroke-width=\"0.5px\" width=\"46\" x=\"52\" y=\"102\" /><rect fill=\"#f2f2f2\" height=\"46\" rx=\"3px\" ry=\"3px\" stroke=\"black\" stroke-width=\"0.5px\" width=\"46\" x=\"102\" y=\"102\" /><rect fill=\"#f2f2f2\" height=\"46\" rx=\"3px\" ry=\"3px\" stroke=\"black\" stroke-width=\"0.5px\" width=\"46\" x=\"152\" y=\"102\" /><rect fill=\"#dcdcdc\" height=\"46\" rx=\"3px\" ry=\"3px\" stroke=\"black\" stroke-width=\"0.5px\" width=\"46\" x=\"2\" y=\"152\" /><text fill=\"black\" font-family=\"Courier\" font-size=\"18px\" font-weight=\"bold\" x=\"19.6\" y=\"180.0\">2</text><rect fill=\"#f2f2f2\" height=\"46\" rx=\"3px\" ry=\"3px\" stroke=\"black\" stroke-width=\"0.5px\" width=\"46\" x=\"52\" y=\"152\" /><rect fill=\"#f2f2f2\" height=\"46\" rx=\"3px\" ry=\"3px\" stroke=\"black\" stroke-width=\"0.5px\" width=\"46\" x=\"102\" y=\"152\" /><rect fill=\"#f2f2f2\" height=\"46\" rx=\"3px\" ry=\"3px\" stroke=\"black\" stroke-width=\"0.5px\" width=\"46\" x=\"152\" y=\"152\" /></g></g></svg>"
          },
          "metadata": {}
        },
        {
          "output_type": "stream",
          "name": "stdout",
          "text": [
            "reward=0\n",
            "action=1\n"
          ]
        },
        {
          "output_type": "display_data",
          "data": {
            "image/svg+xml": "<svg baseProfile=\"full\" height=\"250.0\" version=\"1.1\" width=\"250.0\" xmlns=\"http://www.w3.org/2000/svg\" xmlns:ev=\"http://www.w3.org/2001/xml-events\" xmlns:xlink=\"http://www.w3.org/1999/xlink\"><defs /><rect fill=\"white\" height=\"200\" width=\"200\" x=\"0\" y=\"0\" /><g transform=\"scale(1.0)\"><rect fill=\"white\" height=\"250\" width=\"250\" x=\"0\" y=\"0\" /><g transform=\"translate(25.0,25.0)\"><rect fill=\"#c6c6c6\" height=\"46\" rx=\"3px\" ry=\"3px\" stroke=\"black\" stroke-width=\"0.5px\" width=\"46\" x=\"2\" y=\"2\" /><text fill=\"black\" font-family=\"Courier\" font-size=\"18px\" font-weight=\"bold\" x=\"19.6\" y=\"30.0\">4</text><rect fill=\"#f2f2f2\" height=\"46\" rx=\"3px\" ry=\"3px\" stroke=\"black\" stroke-width=\"0.5px\" width=\"46\" x=\"52\" y=\"2\" /><rect fill=\"#f2f2f2\" height=\"46\" rx=\"3px\" ry=\"3px\" stroke=\"black\" stroke-width=\"0.5px\" width=\"46\" x=\"102\" y=\"2\" /><rect fill=\"#dcdcdc\" height=\"46\" rx=\"3px\" ry=\"3px\" stroke=\"black\" stroke-width=\"0.5px\" width=\"46\" x=\"152\" y=\"2\" /><text fill=\"black\" font-family=\"Courier\" font-size=\"18px\" font-weight=\"bold\" x=\"169.6\" y=\"30.0\">2</text><rect fill=\"#f2f2f2\" height=\"46\" rx=\"3px\" ry=\"3px\" stroke=\"black\" stroke-width=\"0.5px\" width=\"46\" x=\"2\" y=\"52\" /><rect fill=\"#f2f2f2\" height=\"46\" rx=\"3px\" ry=\"3px\" stroke=\"black\" stroke-width=\"0.5px\" width=\"46\" x=\"52\" y=\"52\" /><rect fill=\"#f2f2f2\" height=\"46\" rx=\"3px\" ry=\"3px\" stroke=\"black\" stroke-width=\"0.5px\" width=\"46\" x=\"102\" y=\"52\" /><rect fill=\"#f2f2f2\" height=\"46\" rx=\"3px\" ry=\"3px\" stroke=\"black\" stroke-width=\"0.5px\" width=\"46\" x=\"152\" y=\"52\" /><rect fill=\"#f2f2f2\" height=\"46\" rx=\"3px\" ry=\"3px\" stroke=\"black\" stroke-width=\"0.5px\" width=\"46\" x=\"2\" y=\"102\" /><rect fill=\"#f2f2f2\" height=\"46\" rx=\"3px\" ry=\"3px\" stroke=\"black\" stroke-width=\"0.5px\" width=\"46\" x=\"52\" y=\"102\" /><rect fill=\"#f2f2f2\" height=\"46\" rx=\"3px\" ry=\"3px\" stroke=\"black\" stroke-width=\"0.5px\" width=\"46\" x=\"102\" y=\"102\" /><rect fill=\"#f2f2f2\" height=\"46\" rx=\"3px\" ry=\"3px\" stroke=\"black\" stroke-width=\"0.5px\" width=\"46\" x=\"152\" y=\"102\" /><rect fill=\"#f2f2f2\" height=\"46\" rx=\"3px\" ry=\"3px\" stroke=\"black\" stroke-width=\"0.5px\" width=\"46\" x=\"2\" y=\"152\" /><rect fill=\"#f2f2f2\" height=\"46\" rx=\"3px\" ry=\"3px\" stroke=\"black\" stroke-width=\"0.5px\" width=\"46\" x=\"52\" y=\"152\" /><rect fill=\"#f2f2f2\" height=\"46\" rx=\"3px\" ry=\"3px\" stroke=\"black\" stroke-width=\"0.5px\" width=\"46\" x=\"102\" y=\"152\" /><rect fill=\"#f2f2f2\" height=\"46\" rx=\"3px\" ry=\"3px\" stroke=\"black\" stroke-width=\"0.5px\" width=\"46\" x=\"152\" y=\"152\" /></g></g></svg>"
          },
          "metadata": {}
        },
        {
          "output_type": "stream",
          "name": "stdout",
          "text": [
            "reward=4.0\n",
            "action=0\n"
          ]
        },
        {
          "output_type": "display_data",
          "data": {
            "image/svg+xml": "<svg baseProfile=\"full\" height=\"250.0\" version=\"1.1\" width=\"250.0\" xmlns=\"http://www.w3.org/2000/svg\" xmlns:ev=\"http://www.w3.org/2001/xml-events\" xmlns:xlink=\"http://www.w3.org/1999/xlink\"><defs /><rect fill=\"white\" height=\"200\" width=\"200\" x=\"0\" y=\"0\" /><g transform=\"scale(1.0)\"><rect fill=\"white\" height=\"250\" width=\"250\" x=\"0\" y=\"0\" /><g transform=\"translate(25.0,25.0)\"><rect fill=\"#c6c6c6\" height=\"46\" rx=\"3px\" ry=\"3px\" stroke=\"black\" stroke-width=\"0.5px\" width=\"46\" x=\"2\" y=\"2\" /><text fill=\"black\" font-family=\"Courier\" font-size=\"18px\" font-weight=\"bold\" x=\"19.6\" y=\"30.0\">4</text><rect fill=\"#dcdcdc\" height=\"46\" rx=\"3px\" ry=\"3px\" stroke=\"black\" stroke-width=\"0.5px\" width=\"46\" x=\"52\" y=\"2\" /><text fill=\"black\" font-family=\"Courier\" font-size=\"18px\" font-weight=\"bold\" x=\"69.6\" y=\"30.0\">2</text><rect fill=\"#f2f2f2\" height=\"46\" rx=\"3px\" ry=\"3px\" stroke=\"black\" stroke-width=\"0.5px\" width=\"46\" x=\"102\" y=\"2\" /><rect fill=\"#f2f2f2\" height=\"46\" rx=\"3px\" ry=\"3px\" stroke=\"black\" stroke-width=\"0.5px\" width=\"46\" x=\"152\" y=\"2\" /><rect fill=\"#f2f2f2\" height=\"46\" rx=\"3px\" ry=\"3px\" stroke=\"black\" stroke-width=\"0.5px\" width=\"46\" x=\"2\" y=\"52\" /><rect fill=\"#f2f2f2\" height=\"46\" rx=\"3px\" ry=\"3px\" stroke=\"black\" stroke-width=\"0.5px\" width=\"46\" x=\"52\" y=\"52\" /><rect fill=\"#dcdcdc\" height=\"46\" rx=\"3px\" ry=\"3px\" stroke=\"black\" stroke-width=\"0.5px\" width=\"46\" x=\"102\" y=\"52\" /><text fill=\"black\" font-family=\"Courier\" font-size=\"18px\" font-weight=\"bold\" x=\"119.6\" y=\"80.0\">2</text><rect fill=\"#f2f2f2\" height=\"46\" rx=\"3px\" ry=\"3px\" stroke=\"black\" stroke-width=\"0.5px\" width=\"46\" x=\"152\" y=\"52\" /><rect fill=\"#f2f2f2\" height=\"46\" rx=\"3px\" ry=\"3px\" stroke=\"black\" stroke-width=\"0.5px\" width=\"46\" x=\"2\" y=\"102\" /><rect fill=\"#f2f2f2\" height=\"46\" rx=\"3px\" ry=\"3px\" stroke=\"black\" stroke-width=\"0.5px\" width=\"46\" x=\"52\" y=\"102\" /><rect fill=\"#f2f2f2\" height=\"46\" rx=\"3px\" ry=\"3px\" stroke=\"black\" stroke-width=\"0.5px\" width=\"46\" x=\"102\" y=\"102\" /><rect fill=\"#f2f2f2\" height=\"46\" rx=\"3px\" ry=\"3px\" stroke=\"black\" stroke-width=\"0.5px\" width=\"46\" x=\"152\" y=\"102\" /><rect fill=\"#f2f2f2\" height=\"46\" rx=\"3px\" ry=\"3px\" stroke=\"black\" stroke-width=\"0.5px\" width=\"46\" x=\"2\" y=\"152\" /><rect fill=\"#f2f2f2\" height=\"46\" rx=\"3px\" ry=\"3px\" stroke=\"black\" stroke-width=\"0.5px\" width=\"46\" x=\"52\" y=\"152\" /><rect fill=\"#f2f2f2\" height=\"46\" rx=\"3px\" ry=\"3px\" stroke=\"black\" stroke-width=\"0.5px\" width=\"46\" x=\"102\" y=\"152\" /><rect fill=\"#f2f2f2\" height=\"46\" rx=\"3px\" ry=\"3px\" stroke=\"black\" stroke-width=\"0.5px\" width=\"46\" x=\"152\" y=\"152\" /></g></g></svg>"
          },
          "metadata": {}
        },
        {
          "output_type": "stream",
          "name": "stdout",
          "text": [
            "reward=0.0\n",
            "action=1\n"
          ]
        },
        {
          "output_type": "display_data",
          "data": {
            "image/svg+xml": "<svg baseProfile=\"full\" height=\"250.0\" version=\"1.1\" width=\"250.0\" xmlns=\"http://www.w3.org/2000/svg\" xmlns:ev=\"http://www.w3.org/2001/xml-events\" xmlns:xlink=\"http://www.w3.org/1999/xlink\"><defs /><rect fill=\"white\" height=\"200\" width=\"200\" x=\"0\" y=\"0\" /><g transform=\"scale(1.0)\"><rect fill=\"white\" height=\"250\" width=\"250\" x=\"0\" y=\"0\" /><g transform=\"translate(25.0,25.0)\"><rect fill=\"#c6c6c6\" height=\"46\" rx=\"3px\" ry=\"3px\" stroke=\"black\" stroke-width=\"0.5px\" width=\"46\" x=\"2\" y=\"2\" /><text fill=\"black\" font-family=\"Courier\" font-size=\"18px\" font-weight=\"bold\" x=\"19.6\" y=\"30.0\">4</text><rect fill=\"#dcdcdc\" height=\"46\" rx=\"3px\" ry=\"3px\" stroke=\"black\" stroke-width=\"0.5px\" width=\"46\" x=\"52\" y=\"2\" /><text fill=\"black\" font-family=\"Courier\" font-size=\"18px\" font-weight=\"bold\" x=\"69.6\" y=\"30.0\">2</text><rect fill=\"#dcdcdc\" height=\"46\" rx=\"3px\" ry=\"3px\" stroke=\"black\" stroke-width=\"0.5px\" width=\"46\" x=\"102\" y=\"2\" /><text fill=\"black\" font-family=\"Courier\" font-size=\"18px\" font-weight=\"bold\" x=\"119.6\" y=\"30.0\">2</text><rect fill=\"#f2f2f2\" height=\"46\" rx=\"3px\" ry=\"3px\" stroke=\"black\" stroke-width=\"0.5px\" width=\"46\" x=\"152\" y=\"2\" /><rect fill=\"#f2f2f2\" height=\"46\" rx=\"3px\" ry=\"3px\" stroke=\"black\" stroke-width=\"0.5px\" width=\"46\" x=\"2\" y=\"52\" /><rect fill=\"#f2f2f2\" height=\"46\" rx=\"3px\" ry=\"3px\" stroke=\"black\" stroke-width=\"0.5px\" width=\"46\" x=\"52\" y=\"52\" /><rect fill=\"#f2f2f2\" height=\"46\" rx=\"3px\" ry=\"3px\" stroke=\"black\" stroke-width=\"0.5px\" width=\"46\" x=\"102\" y=\"52\" /><rect fill=\"#f2f2f2\" height=\"46\" rx=\"3px\" ry=\"3px\" stroke=\"black\" stroke-width=\"0.5px\" width=\"46\" x=\"152\" y=\"52\" /><rect fill=\"#f2f2f2\" height=\"46\" rx=\"3px\" ry=\"3px\" stroke=\"black\" stroke-width=\"0.5px\" width=\"46\" x=\"2\" y=\"102\" /><rect fill=\"#f2f2f2\" height=\"46\" rx=\"3px\" ry=\"3px\" stroke=\"black\" stroke-width=\"0.5px\" width=\"46\" x=\"52\" y=\"102\" /><rect fill=\"#f2f2f2\" height=\"46\" rx=\"3px\" ry=\"3px\" stroke=\"black\" stroke-width=\"0.5px\" width=\"46\" x=\"102\" y=\"102\" /><rect fill=\"#f2f2f2\" height=\"46\" rx=\"3px\" ry=\"3px\" stroke=\"black\" stroke-width=\"0.5px\" width=\"46\" x=\"152\" y=\"102\" /><rect fill=\"#f2f2f2\" height=\"46\" rx=\"3px\" ry=\"3px\" stroke=\"black\" stroke-width=\"0.5px\" width=\"46\" x=\"2\" y=\"152\" /><rect fill=\"#f2f2f2\" height=\"46\" rx=\"3px\" ry=\"3px\" stroke=\"black\" stroke-width=\"0.5px\" width=\"46\" x=\"52\" y=\"152\" /><rect fill=\"#dcdcdc\" height=\"46\" rx=\"3px\" ry=\"3px\" stroke=\"black\" stroke-width=\"0.5px\" width=\"46\" x=\"102\" y=\"152\" /><text fill=\"black\" font-family=\"Courier\" font-size=\"18px\" font-weight=\"bold\" x=\"119.6\" y=\"180.0\">2</text><rect fill=\"#f2f2f2\" height=\"46\" rx=\"3px\" ry=\"3px\" stroke=\"black\" stroke-width=\"0.5px\" width=\"46\" x=\"152\" y=\"152\" /></g></g></svg>"
          },
          "metadata": {}
        },
        {
          "output_type": "stream",
          "name": "stdout",
          "text": [
            "reward=0.0\n",
            "action=3\n"
          ]
        },
        {
          "output_type": "display_data",
          "data": {
            "image/svg+xml": "<svg baseProfile=\"full\" height=\"250.0\" version=\"1.1\" width=\"250.0\" xmlns=\"http://www.w3.org/2000/svg\" xmlns:ev=\"http://www.w3.org/2001/xml-events\" xmlns:xlink=\"http://www.w3.org/1999/xlink\"><defs /><rect fill=\"white\" height=\"200\" width=\"200\" x=\"0\" y=\"0\" /><g transform=\"scale(1.0)\"><rect fill=\"white\" height=\"250\" width=\"250\" x=\"0\" y=\"0\" /><g transform=\"translate(25.0,25.0)\"><rect fill=\"#f2f2f2\" height=\"46\" rx=\"3px\" ry=\"3px\" stroke=\"black\" stroke-width=\"0.5px\" width=\"46\" x=\"2\" y=\"2\" /><rect fill=\"#f2f2f2\" height=\"46\" rx=\"3px\" ry=\"3px\" stroke=\"black\" stroke-width=\"0.5px\" width=\"46\" x=\"52\" y=\"2\" /><rect fill=\"#dcdcdc\" height=\"46\" rx=\"3px\" ry=\"3px\" stroke=\"black\" stroke-width=\"0.5px\" width=\"46\" x=\"102\" y=\"2\" /><text fill=\"black\" font-family=\"Courier\" font-size=\"18px\" font-weight=\"bold\" x=\"119.6\" y=\"30.0\">2</text><rect fill=\"#f2f2f2\" height=\"46\" rx=\"3px\" ry=\"3px\" stroke=\"black\" stroke-width=\"0.5px\" width=\"46\" x=\"152\" y=\"2\" /><rect fill=\"#f2f2f2\" height=\"46\" rx=\"3px\" ry=\"3px\" stroke=\"black\" stroke-width=\"0.5px\" width=\"46\" x=\"2\" y=\"52\" /><rect fill=\"#f2f2f2\" height=\"46\" rx=\"3px\" ry=\"3px\" stroke=\"black\" stroke-width=\"0.5px\" width=\"46\" x=\"52\" y=\"52\" /><rect fill=\"#f2f2f2\" height=\"46\" rx=\"3px\" ry=\"3px\" stroke=\"black\" stroke-width=\"0.5px\" width=\"46\" x=\"102\" y=\"52\" /><rect fill=\"#f2f2f2\" height=\"46\" rx=\"3px\" ry=\"3px\" stroke=\"black\" stroke-width=\"0.5px\" width=\"46\" x=\"152\" y=\"52\" /><rect fill=\"#f2f2f2\" height=\"46\" rx=\"3px\" ry=\"3px\" stroke=\"black\" stroke-width=\"0.5px\" width=\"46\" x=\"2\" y=\"102\" /><rect fill=\"#f2f2f2\" height=\"46\" rx=\"3px\" ry=\"3px\" stroke=\"black\" stroke-width=\"0.5px\" width=\"46\" x=\"52\" y=\"102\" /><rect fill=\"#f2f2f2\" height=\"46\" rx=\"3px\" ry=\"3px\" stroke=\"black\" stroke-width=\"0.5px\" width=\"46\" x=\"102\" y=\"102\" /><rect fill=\"#f2f2f2\" height=\"46\" rx=\"3px\" ry=\"3px\" stroke=\"black\" stroke-width=\"0.5px\" width=\"46\" x=\"152\" y=\"102\" /><rect fill=\"#c6c6c6\" height=\"46\" rx=\"3px\" ry=\"3px\" stroke=\"black\" stroke-width=\"0.5px\" width=\"46\" x=\"2\" y=\"152\" /><text fill=\"black\" font-family=\"Courier\" font-size=\"18px\" font-weight=\"bold\" x=\"19.6\" y=\"180.0\">4</text><rect fill=\"#dcdcdc\" height=\"46\" rx=\"3px\" ry=\"3px\" stroke=\"black\" stroke-width=\"0.5px\" width=\"46\" x=\"52\" y=\"152\" /><text fill=\"black\" font-family=\"Courier\" font-size=\"18px\" font-weight=\"bold\" x=\"69.6\" y=\"180.0\">2</text><rect fill=\"#c6c6c6\" height=\"46\" rx=\"3px\" ry=\"3px\" stroke=\"black\" stroke-width=\"0.5px\" width=\"46\" x=\"102\" y=\"152\" /><text fill=\"black\" font-family=\"Courier\" font-size=\"18px\" font-weight=\"bold\" x=\"119.6\" y=\"180.0\">4</text><rect fill=\"#f2f2f2\" height=\"46\" rx=\"3px\" ry=\"3px\" stroke=\"black\" stroke-width=\"0.5px\" width=\"46\" x=\"152\" y=\"152\" /></g></g></svg>"
          },
          "metadata": {}
        },
        {
          "output_type": "stream",
          "name": "stdout",
          "text": [
            "reward=4.0\n",
            "action=0\n"
          ]
        },
        {
          "output_type": "display_data",
          "data": {
            "image/svg+xml": "<svg baseProfile=\"full\" height=\"250.0\" version=\"1.1\" width=\"250.0\" xmlns=\"http://www.w3.org/2000/svg\" xmlns:ev=\"http://www.w3.org/2001/xml-events\" xmlns:xlink=\"http://www.w3.org/1999/xlink\"><defs /><rect fill=\"white\" height=\"200\" width=\"200\" x=\"0\" y=\"0\" /><g transform=\"scale(1.0)\"><rect fill=\"white\" height=\"250\" width=\"250\" x=\"0\" y=\"0\" /><g transform=\"translate(25.0,25.0)\"><rect fill=\"#dcdcdc\" height=\"46\" rx=\"3px\" ry=\"3px\" stroke=\"black\" stroke-width=\"0.5px\" width=\"46\" x=\"2\" y=\"2\" /><text fill=\"black\" font-family=\"Courier\" font-size=\"18px\" font-weight=\"bold\" x=\"19.6\" y=\"30.0\">2</text><rect fill=\"#f2f2f2\" height=\"46\" rx=\"3px\" ry=\"3px\" stroke=\"black\" stroke-width=\"0.5px\" width=\"46\" x=\"52\" y=\"2\" /><rect fill=\"#f2f2f2\" height=\"46\" rx=\"3px\" ry=\"3px\" stroke=\"black\" stroke-width=\"0.5px\" width=\"46\" x=\"102\" y=\"2\" /><rect fill=\"#f2f2f2\" height=\"46\" rx=\"3px\" ry=\"3px\" stroke=\"black\" stroke-width=\"0.5px\" width=\"46\" x=\"152\" y=\"2\" /><rect fill=\"#f2f2f2\" height=\"46\" rx=\"3px\" ry=\"3px\" stroke=\"black\" stroke-width=\"0.5px\" width=\"46\" x=\"2\" y=\"52\" /><rect fill=\"#f2f2f2\" height=\"46\" rx=\"3px\" ry=\"3px\" stroke=\"black\" stroke-width=\"0.5px\" width=\"46\" x=\"52\" y=\"52\" /><rect fill=\"#f2f2f2\" height=\"46\" rx=\"3px\" ry=\"3px\" stroke=\"black\" stroke-width=\"0.5px\" width=\"46\" x=\"102\" y=\"52\" /><rect fill=\"#f2f2f2\" height=\"46\" rx=\"3px\" ry=\"3px\" stroke=\"black\" stroke-width=\"0.5px\" width=\"46\" x=\"152\" y=\"52\" /><rect fill=\"#f2f2f2\" height=\"46\" rx=\"3px\" ry=\"3px\" stroke=\"black\" stroke-width=\"0.5px\" width=\"46\" x=\"2\" y=\"102\" /><rect fill=\"#f2f2f2\" height=\"46\" rx=\"3px\" ry=\"3px\" stroke=\"black\" stroke-width=\"0.5px\" width=\"46\" x=\"52\" y=\"102\" /><rect fill=\"#f2f2f2\" height=\"46\" rx=\"3px\" ry=\"3px\" stroke=\"black\" stroke-width=\"0.5px\" width=\"46\" x=\"102\" y=\"102\" /><rect fill=\"#f2f2f2\" height=\"46\" rx=\"3px\" ry=\"3px\" stroke=\"black\" stroke-width=\"0.5px\" width=\"46\" x=\"152\" y=\"102\" /><rect fill=\"#c6c6c6\" height=\"46\" rx=\"3px\" ry=\"3px\" stroke=\"black\" stroke-width=\"0.5px\" width=\"46\" x=\"2\" y=\"152\" /><text fill=\"black\" font-family=\"Courier\" font-size=\"18px\" font-weight=\"bold\" x=\"19.6\" y=\"180.0\">4</text><rect fill=\"#dcdcdc\" height=\"46\" rx=\"3px\" ry=\"3px\" stroke=\"black\" stroke-width=\"0.5px\" width=\"46\" x=\"52\" y=\"152\" /><text fill=\"black\" font-family=\"Courier\" font-size=\"18px\" font-weight=\"bold\" x=\"69.6\" y=\"180.0\">2</text><rect fill=\"#c6c6c6\" height=\"46\" rx=\"3px\" ry=\"3px\" stroke=\"black\" stroke-width=\"0.5px\" width=\"46\" x=\"102\" y=\"152\" /><text fill=\"black\" font-family=\"Courier\" font-size=\"18px\" font-weight=\"bold\" x=\"119.6\" y=\"180.0\">4</text><rect fill=\"#dcdcdc\" height=\"46\" rx=\"3px\" ry=\"3px\" stroke=\"black\" stroke-width=\"0.5px\" width=\"46\" x=\"152\" y=\"152\" /><text fill=\"black\" font-family=\"Courier\" font-size=\"18px\" font-weight=\"bold\" x=\"169.6\" y=\"180.0\">2</text></g></g></svg>"
          },
          "metadata": {}
        },
        {
          "output_type": "stream",
          "name": "stdout",
          "text": [
            "reward=0.0\n",
            "action=1\n"
          ]
        },
        {
          "output_type": "display_data",
          "data": {
            "image/svg+xml": "<svg baseProfile=\"full\" height=\"250.0\" version=\"1.1\" width=\"250.0\" xmlns=\"http://www.w3.org/2000/svg\" xmlns:ev=\"http://www.w3.org/2001/xml-events\" xmlns:xlink=\"http://www.w3.org/1999/xlink\"><defs /><rect fill=\"white\" height=\"200\" width=\"200\" x=\"0\" y=\"0\" /><g transform=\"scale(1.0)\"><rect fill=\"white\" height=\"250\" width=\"250\" x=\"0\" y=\"0\" /><g transform=\"translate(25.0,25.0)\"><rect fill=\"#dcdcdc\" height=\"46\" rx=\"3px\" ry=\"3px\" stroke=\"black\" stroke-width=\"0.5px\" width=\"46\" x=\"2\" y=\"2\" /><text fill=\"black\" font-family=\"Courier\" font-size=\"18px\" font-weight=\"bold\" x=\"19.6\" y=\"30.0\">2</text><rect fill=\"#dcdcdc\" height=\"46\" rx=\"3px\" ry=\"3px\" stroke=\"black\" stroke-width=\"0.5px\" width=\"46\" x=\"52\" y=\"2\" /><text fill=\"black\" font-family=\"Courier\" font-size=\"18px\" font-weight=\"bold\" x=\"69.6\" y=\"30.0\">2</text><rect fill=\"#c6c6c6\" height=\"46\" rx=\"3px\" ry=\"3px\" stroke=\"black\" stroke-width=\"0.5px\" width=\"46\" x=\"102\" y=\"2\" /><text fill=\"black\" font-family=\"Courier\" font-size=\"18px\" font-weight=\"bold\" x=\"119.6\" y=\"30.0\">4</text><rect fill=\"#dcdcdc\" height=\"46\" rx=\"3px\" ry=\"3px\" stroke=\"black\" stroke-width=\"0.5px\" width=\"46\" x=\"152\" y=\"2\" /><text fill=\"black\" font-family=\"Courier\" font-size=\"18px\" font-weight=\"bold\" x=\"169.6\" y=\"30.0\">2</text><rect fill=\"#c6c6c6\" height=\"46\" rx=\"3px\" ry=\"3px\" stroke=\"black\" stroke-width=\"0.5px\" width=\"46\" x=\"2\" y=\"52\" /><text fill=\"black\" font-family=\"Courier\" font-size=\"18px\" font-weight=\"bold\" x=\"19.6\" y=\"80.0\">4</text><rect fill=\"#f2f2f2\" height=\"46\" rx=\"3px\" ry=\"3px\" stroke=\"black\" stroke-width=\"0.5px\" width=\"46\" x=\"52\" y=\"52\" /><rect fill=\"#f2f2f2\" height=\"46\" rx=\"3px\" ry=\"3px\" stroke=\"black\" stroke-width=\"0.5px\" width=\"46\" x=\"102\" y=\"52\" /><rect fill=\"#f2f2f2\" height=\"46\" rx=\"3px\" ry=\"3px\" stroke=\"black\" stroke-width=\"0.5px\" width=\"46\" x=\"152\" y=\"52\" /><rect fill=\"#f2f2f2\" height=\"46\" rx=\"3px\" ry=\"3px\" stroke=\"black\" stroke-width=\"0.5px\" width=\"46\" x=\"2\" y=\"102\" /><rect fill=\"#dcdcdc\" height=\"46\" rx=\"3px\" ry=\"3px\" stroke=\"black\" stroke-width=\"0.5px\" width=\"46\" x=\"52\" y=\"102\" /><text fill=\"black\" font-family=\"Courier\" font-size=\"18px\" font-weight=\"bold\" x=\"69.6\" y=\"130.0\">2</text><rect fill=\"#f2f2f2\" height=\"46\" rx=\"3px\" ry=\"3px\" stroke=\"black\" stroke-width=\"0.5px\" width=\"46\" x=\"102\" y=\"102\" /><rect fill=\"#f2f2f2\" height=\"46\" rx=\"3px\" ry=\"3px\" stroke=\"black\" stroke-width=\"0.5px\" width=\"46\" x=\"152\" y=\"102\" /><rect fill=\"#f2f2f2\" height=\"46\" rx=\"3px\" ry=\"3px\" stroke=\"black\" stroke-width=\"0.5px\" width=\"46\" x=\"2\" y=\"152\" /><rect fill=\"#f2f2f2\" height=\"46\" rx=\"3px\" ry=\"3px\" stroke=\"black\" stroke-width=\"0.5px\" width=\"46\" x=\"52\" y=\"152\" /><rect fill=\"#f2f2f2\" height=\"46\" rx=\"3px\" ry=\"3px\" stroke=\"black\" stroke-width=\"0.5px\" width=\"46\" x=\"102\" y=\"152\" /><rect fill=\"#f2f2f2\" height=\"46\" rx=\"3px\" ry=\"3px\" stroke=\"black\" stroke-width=\"0.5px\" width=\"46\" x=\"152\" y=\"152\" /></g></g></svg>"
          },
          "metadata": {}
        },
        {
          "output_type": "stream",
          "name": "stdout",
          "text": [
            "reward=0.0\n",
            "action=3\n"
          ]
        },
        {
          "output_type": "display_data",
          "data": {
            "image/svg+xml": "<svg baseProfile=\"full\" height=\"250.0\" version=\"1.1\" width=\"250.0\" xmlns=\"http://www.w3.org/2000/svg\" xmlns:ev=\"http://www.w3.org/2001/xml-events\" xmlns:xlink=\"http://www.w3.org/1999/xlink\"><defs /><rect fill=\"white\" height=\"200\" width=\"200\" x=\"0\" y=\"0\" /><g transform=\"scale(1.0)\"><rect fill=\"white\" height=\"250\" width=\"250\" x=\"0\" y=\"0\" /><g transform=\"translate(25.0,25.0)\"><rect fill=\"#f2f2f2\" height=\"46\" rx=\"3px\" ry=\"3px\" stroke=\"black\" stroke-width=\"0.5px\" width=\"46\" x=\"2\" y=\"2\" /><rect fill=\"#f2f2f2\" height=\"46\" rx=\"3px\" ry=\"3px\" stroke=\"black\" stroke-width=\"0.5px\" width=\"46\" x=\"52\" y=\"2\" /><rect fill=\"#f2f2f2\" height=\"46\" rx=\"3px\" ry=\"3px\" stroke=\"black\" stroke-width=\"0.5px\" width=\"46\" x=\"102\" y=\"2\" /><rect fill=\"#f2f2f2\" height=\"46\" rx=\"3px\" ry=\"3px\" stroke=\"black\" stroke-width=\"0.5px\" width=\"46\" x=\"152\" y=\"2\" /><rect fill=\"#f2f2f2\" height=\"46\" rx=\"3px\" ry=\"3px\" stroke=\"black\" stroke-width=\"0.5px\" width=\"46\" x=\"2\" y=\"52\" /><rect fill=\"#f2f2f2\" height=\"46\" rx=\"3px\" ry=\"3px\" stroke=\"black\" stroke-width=\"0.5px\" width=\"46\" x=\"52\" y=\"52\" /><rect fill=\"#f2f2f2\" height=\"46\" rx=\"3px\" ry=\"3px\" stroke=\"black\" stroke-width=\"0.5px\" width=\"46\" x=\"102\" y=\"52\" /><rect fill=\"#f2f2f2\" height=\"46\" rx=\"3px\" ry=\"3px\" stroke=\"black\" stroke-width=\"0.5px\" width=\"46\" x=\"152\" y=\"52\" /><rect fill=\"#dcdcdc\" height=\"46\" rx=\"3px\" ry=\"3px\" stroke=\"black\" stroke-width=\"0.5px\" width=\"46\" x=\"2\" y=\"102\" /><text fill=\"black\" font-family=\"Courier\" font-size=\"18px\" font-weight=\"bold\" x=\"19.6\" y=\"130.0\">2</text><rect fill=\"#f2f2f2\" height=\"46\" rx=\"3px\" ry=\"3px\" stroke=\"black\" stroke-width=\"0.5px\" width=\"46\" x=\"52\" y=\"102\" /><rect fill=\"#dcdcdc\" height=\"46\" rx=\"3px\" ry=\"3px\" stroke=\"black\" stroke-width=\"0.5px\" width=\"46\" x=\"102\" y=\"102\" /><text fill=\"black\" font-family=\"Courier\" font-size=\"18px\" font-weight=\"bold\" x=\"119.6\" y=\"130.0\">2</text><rect fill=\"#f2f2f2\" height=\"46\" rx=\"3px\" ry=\"3px\" stroke=\"black\" stroke-width=\"0.5px\" width=\"46\" x=\"152\" y=\"102\" /><rect fill=\"#c6c6c6\" height=\"46\" rx=\"3px\" ry=\"3px\" stroke=\"black\" stroke-width=\"0.5px\" width=\"46\" x=\"2\" y=\"152\" /><text fill=\"black\" font-family=\"Courier\" font-size=\"18px\" font-weight=\"bold\" x=\"19.6\" y=\"180.0\">4</text><rect fill=\"#c6c6c6\" height=\"46\" rx=\"3px\" ry=\"3px\" stroke=\"black\" stroke-width=\"0.5px\" width=\"46\" x=\"52\" y=\"152\" /><text fill=\"black\" font-family=\"Courier\" font-size=\"18px\" font-weight=\"bold\" x=\"69.6\" y=\"180.0\">4</text><rect fill=\"#c6c6c6\" height=\"46\" rx=\"3px\" ry=\"3px\" stroke=\"black\" stroke-width=\"0.5px\" width=\"46\" x=\"102\" y=\"152\" /><text fill=\"black\" font-family=\"Courier\" font-size=\"18px\" font-weight=\"bold\" x=\"119.6\" y=\"180.0\">4</text><rect fill=\"#dcdcdc\" height=\"46\" rx=\"3px\" ry=\"3px\" stroke=\"black\" stroke-width=\"0.5px\" width=\"46\" x=\"152\" y=\"152\" /><text fill=\"black\" font-family=\"Courier\" font-size=\"18px\" font-weight=\"bold\" x=\"169.6\" y=\"180.0\">2</text></g></g></svg>"
          },
          "metadata": {}
        },
        {
          "output_type": "stream",
          "name": "stdout",
          "text": [
            "reward=4.0\n",
            "action=0\n"
          ]
        },
        {
          "output_type": "display_data",
          "data": {
            "image/svg+xml": "<svg baseProfile=\"full\" height=\"250.0\" version=\"1.1\" width=\"250.0\" xmlns=\"http://www.w3.org/2000/svg\" xmlns:ev=\"http://www.w3.org/2001/xml-events\" xmlns:xlink=\"http://www.w3.org/1999/xlink\"><defs /><rect fill=\"white\" height=\"200\" width=\"200\" x=\"0\" y=\"0\" /><g transform=\"scale(1.0)\"><rect fill=\"white\" height=\"250\" width=\"250\" x=\"0\" y=\"0\" /><g transform=\"translate(25.0,25.0)\"><rect fill=\"#f2f2f2\" height=\"46\" rx=\"3px\" ry=\"3px\" stroke=\"black\" stroke-width=\"0.5px\" width=\"46\" x=\"2\" y=\"2\" /><rect fill=\"#f2f2f2\" height=\"46\" rx=\"3px\" ry=\"3px\" stroke=\"black\" stroke-width=\"0.5px\" width=\"46\" x=\"52\" y=\"2\" /><rect fill=\"#f2f2f2\" height=\"46\" rx=\"3px\" ry=\"3px\" stroke=\"black\" stroke-width=\"0.5px\" width=\"46\" x=\"102\" y=\"2\" /><rect fill=\"#f2f2f2\" height=\"46\" rx=\"3px\" ry=\"3px\" stroke=\"black\" stroke-width=\"0.5px\" width=\"46\" x=\"152\" y=\"2\" /><rect fill=\"#f2f2f2\" height=\"46\" rx=\"3px\" ry=\"3px\" stroke=\"black\" stroke-width=\"0.5px\" width=\"46\" x=\"2\" y=\"52\" /><rect fill=\"#f2f2f2\" height=\"46\" rx=\"3px\" ry=\"3px\" stroke=\"black\" stroke-width=\"0.5px\" width=\"46\" x=\"52\" y=\"52\" /><rect fill=\"#f2f2f2\" height=\"46\" rx=\"3px\" ry=\"3px\" stroke=\"black\" stroke-width=\"0.5px\" width=\"46\" x=\"102\" y=\"52\" /><rect fill=\"#f2f2f2\" height=\"46\" rx=\"3px\" ry=\"3px\" stroke=\"black\" stroke-width=\"0.5px\" width=\"46\" x=\"152\" y=\"52\" /><rect fill=\"#c6c6c6\" height=\"46\" rx=\"3px\" ry=\"3px\" stroke=\"black\" stroke-width=\"0.5px\" width=\"46\" x=\"2\" y=\"102\" /><text fill=\"black\" font-family=\"Courier\" font-size=\"18px\" font-weight=\"bold\" x=\"19.6\" y=\"130.0\">4</text><rect fill=\"#dcdcdc\" height=\"46\" rx=\"3px\" ry=\"3px\" stroke=\"black\" stroke-width=\"0.5px\" width=\"46\" x=\"52\" y=\"102\" /><text fill=\"black\" font-family=\"Courier\" font-size=\"18px\" font-weight=\"bold\" x=\"69.6\" y=\"130.0\">2</text><rect fill=\"#f2f2f2\" height=\"46\" rx=\"3px\" ry=\"3px\" stroke=\"black\" stroke-width=\"0.5px\" width=\"46\" x=\"102\" y=\"102\" /><rect fill=\"#f2f2f2\" height=\"46\" rx=\"3px\" ry=\"3px\" stroke=\"black\" stroke-width=\"0.5px\" width=\"46\" x=\"152\" y=\"102\" /><rect fill=\"#b0b0b0\" height=\"46\" rx=\"3px\" ry=\"3px\" stroke=\"black\" stroke-width=\"0.5px\" width=\"46\" x=\"2\" y=\"152\" /><text fill=\"black\" font-family=\"Courier\" font-size=\"18px\" font-weight=\"bold\" x=\"19.6\" y=\"180.0\">8</text><rect fill=\"#c6c6c6\" height=\"46\" rx=\"3px\" ry=\"3px\" stroke=\"black\" stroke-width=\"0.5px\" width=\"46\" x=\"52\" y=\"152\" /><text fill=\"black\" font-family=\"Courier\" font-size=\"18px\" font-weight=\"bold\" x=\"69.6\" y=\"180.0\">4</text><rect fill=\"#dcdcdc\" height=\"46\" rx=\"3px\" ry=\"3px\" stroke=\"black\" stroke-width=\"0.5px\" width=\"46\" x=\"102\" y=\"152\" /><text fill=\"black\" font-family=\"Courier\" font-size=\"18px\" font-weight=\"bold\" x=\"119.6\" y=\"180.0\">2</text><rect fill=\"#f2f2f2\" height=\"46\" rx=\"3px\" ry=\"3px\" stroke=\"black\" stroke-width=\"0.5px\" width=\"46\" x=\"152\" y=\"152\" /></g></g></svg>"
          },
          "metadata": {}
        },
        {
          "output_type": "stream",
          "name": "stdout",
          "text": [
            "reward=12.0\n",
            "action=2\n"
          ]
        },
        {
          "output_type": "display_data",
          "data": {
            "image/svg+xml": "<svg baseProfile=\"full\" height=\"250.0\" version=\"1.1\" width=\"250.0\" xmlns=\"http://www.w3.org/2000/svg\" xmlns:ev=\"http://www.w3.org/2001/xml-events\" xmlns:xlink=\"http://www.w3.org/1999/xlink\"><defs /><rect fill=\"white\" height=\"200\" width=\"200\" x=\"0\" y=\"0\" /><g transform=\"scale(1.0)\"><rect fill=\"white\" height=\"250\" width=\"250\" x=\"0\" y=\"0\" /><g transform=\"translate(25.0,25.0)\"><rect fill=\"#f2f2f2\" height=\"46\" rx=\"3px\" ry=\"3px\" stroke=\"black\" stroke-width=\"0.5px\" width=\"46\" x=\"2\" y=\"2\" /><rect fill=\"#f2f2f2\" height=\"46\" rx=\"3px\" ry=\"3px\" stroke=\"black\" stroke-width=\"0.5px\" width=\"46\" x=\"52\" y=\"2\" /><rect fill=\"#f2f2f2\" height=\"46\" rx=\"3px\" ry=\"3px\" stroke=\"black\" stroke-width=\"0.5px\" width=\"46\" x=\"102\" y=\"2\" /><rect fill=\"#f2f2f2\" height=\"46\" rx=\"3px\" ry=\"3px\" stroke=\"black\" stroke-width=\"0.5px\" width=\"46\" x=\"152\" y=\"2\" /><rect fill=\"#f2f2f2\" height=\"46\" rx=\"3px\" ry=\"3px\" stroke=\"black\" stroke-width=\"0.5px\" width=\"46\" x=\"2\" y=\"52\" /><rect fill=\"#f2f2f2\" height=\"46\" rx=\"3px\" ry=\"3px\" stroke=\"black\" stroke-width=\"0.5px\" width=\"46\" x=\"52\" y=\"52\" /><rect fill=\"#dcdcdc\" height=\"46\" rx=\"3px\" ry=\"3px\" stroke=\"black\" stroke-width=\"0.5px\" width=\"46\" x=\"102\" y=\"52\" /><text fill=\"black\" font-family=\"Courier\" font-size=\"18px\" font-weight=\"bold\" x=\"119.6\" y=\"80.0\">2</text><rect fill=\"#f2f2f2\" height=\"46\" rx=\"3px\" ry=\"3px\" stroke=\"black\" stroke-width=\"0.5px\" width=\"46\" x=\"152\" y=\"52\" /><rect fill=\"#f2f2f2\" height=\"46\" rx=\"3px\" ry=\"3px\" stroke=\"black\" stroke-width=\"0.5px\" width=\"46\" x=\"2\" y=\"102\" /><rect fill=\"#f2f2f2\" height=\"46\" rx=\"3px\" ry=\"3px\" stroke=\"black\" stroke-width=\"0.5px\" width=\"46\" x=\"52\" y=\"102\" /><rect fill=\"#c6c6c6\" height=\"46\" rx=\"3px\" ry=\"3px\" stroke=\"black\" stroke-width=\"0.5px\" width=\"46\" x=\"102\" y=\"102\" /><text fill=\"black\" font-family=\"Courier\" font-size=\"18px\" font-weight=\"bold\" x=\"119.6\" y=\"130.0\">4</text><rect fill=\"#dcdcdc\" height=\"46\" rx=\"3px\" ry=\"3px\" stroke=\"black\" stroke-width=\"0.5px\" width=\"46\" x=\"152\" y=\"102\" /><text fill=\"black\" font-family=\"Courier\" font-size=\"18px\" font-weight=\"bold\" x=\"169.6\" y=\"130.0\">2</text><rect fill=\"#f2f2f2\" height=\"46\" rx=\"3px\" ry=\"3px\" stroke=\"black\" stroke-width=\"0.5px\" width=\"46\" x=\"2\" y=\"152\" /><rect fill=\"#b0b0b0\" height=\"46\" rx=\"3px\" ry=\"3px\" stroke=\"black\" stroke-width=\"0.5px\" width=\"46\" x=\"52\" y=\"152\" /><text fill=\"black\" font-family=\"Courier\" font-size=\"18px\" font-weight=\"bold\" x=\"69.6\" y=\"180.0\">8</text><rect fill=\"#c6c6c6\" height=\"46\" rx=\"3px\" ry=\"3px\" stroke=\"black\" stroke-width=\"0.5px\" width=\"46\" x=\"102\" y=\"152\" /><text fill=\"black\" font-family=\"Courier\" font-size=\"18px\" font-weight=\"bold\" x=\"119.6\" y=\"180.0\">4</text><rect fill=\"#dcdcdc\" height=\"46\" rx=\"3px\" ry=\"3px\" stroke=\"black\" stroke-width=\"0.5px\" width=\"46\" x=\"152\" y=\"152\" /><text fill=\"black\" font-family=\"Courier\" font-size=\"18px\" font-weight=\"bold\" x=\"169.6\" y=\"180.0\">2</text></g></g></svg>"
          },
          "metadata": {}
        },
        {
          "output_type": "stream",
          "name": "stdout",
          "text": [
            "reward=0.0\n",
            "action=1\n"
          ]
        },
        {
          "output_type": "display_data",
          "data": {
            "image/svg+xml": "<svg baseProfile=\"full\" height=\"250.0\" version=\"1.1\" width=\"250.0\" xmlns=\"http://www.w3.org/2000/svg\" xmlns:ev=\"http://www.w3.org/2001/xml-events\" xmlns:xlink=\"http://www.w3.org/1999/xlink\"><defs /><rect fill=\"white\" height=\"200\" width=\"200\" x=\"0\" y=\"0\" /><g transform=\"scale(1.0)\"><rect fill=\"white\" height=\"250\" width=\"250\" x=\"0\" y=\"0\" /><g transform=\"translate(25.0,25.0)\"><rect fill=\"#f2f2f2\" height=\"46\" rx=\"3px\" ry=\"3px\" stroke=\"black\" stroke-width=\"0.5px\" width=\"46\" x=\"2\" y=\"2\" /><rect fill=\"#b0b0b0\" height=\"46\" rx=\"3px\" ry=\"3px\" stroke=\"black\" stroke-width=\"0.5px\" width=\"46\" x=\"52\" y=\"2\" /><text fill=\"black\" font-family=\"Courier\" font-size=\"18px\" font-weight=\"bold\" x=\"69.6\" y=\"30.0\">8</text><rect fill=\"#dcdcdc\" height=\"46\" rx=\"3px\" ry=\"3px\" stroke=\"black\" stroke-width=\"0.5px\" width=\"46\" x=\"102\" y=\"2\" /><text fill=\"black\" font-family=\"Courier\" font-size=\"18px\" font-weight=\"bold\" x=\"119.6\" y=\"30.0\">2</text><rect fill=\"#c6c6c6\" height=\"46\" rx=\"3px\" ry=\"3px\" stroke=\"black\" stroke-width=\"0.5px\" width=\"46\" x=\"152\" y=\"2\" /><text fill=\"black\" font-family=\"Courier\" font-size=\"18px\" font-weight=\"bold\" x=\"169.6\" y=\"30.0\">4</text><rect fill=\"#f2f2f2\" height=\"46\" rx=\"3px\" ry=\"3px\" stroke=\"black\" stroke-width=\"0.5px\" width=\"46\" x=\"2\" y=\"52\" /><rect fill=\"#dcdcdc\" height=\"46\" rx=\"3px\" ry=\"3px\" stroke=\"black\" stroke-width=\"0.5px\" width=\"46\" x=\"52\" y=\"52\" /><text fill=\"black\" font-family=\"Courier\" font-size=\"18px\" font-weight=\"bold\" x=\"69.6\" y=\"80.0\">2</text><rect fill=\"#b0b0b0\" height=\"46\" rx=\"3px\" ry=\"3px\" stroke=\"black\" stroke-width=\"0.5px\" width=\"46\" x=\"102\" y=\"52\" /><text fill=\"black\" font-family=\"Courier\" font-size=\"18px\" font-weight=\"bold\" x=\"119.6\" y=\"80.0\">8</text><rect fill=\"#f2f2f2\" height=\"46\" rx=\"3px\" ry=\"3px\" stroke=\"black\" stroke-width=\"0.5px\" width=\"46\" x=\"152\" y=\"52\" /><rect fill=\"#f2f2f2\" height=\"46\" rx=\"3px\" ry=\"3px\" stroke=\"black\" stroke-width=\"0.5px\" width=\"46\" x=\"2\" y=\"102\" /><rect fill=\"#f2f2f2\" height=\"46\" rx=\"3px\" ry=\"3px\" stroke=\"black\" stroke-width=\"0.5px\" width=\"46\" x=\"52\" y=\"102\" /><rect fill=\"#f2f2f2\" height=\"46\" rx=\"3px\" ry=\"3px\" stroke=\"black\" stroke-width=\"0.5px\" width=\"46\" x=\"102\" y=\"102\" /><rect fill=\"#f2f2f2\" height=\"46\" rx=\"3px\" ry=\"3px\" stroke=\"black\" stroke-width=\"0.5px\" width=\"46\" x=\"152\" y=\"102\" /><rect fill=\"#f2f2f2\" height=\"46\" rx=\"3px\" ry=\"3px\" stroke=\"black\" stroke-width=\"0.5px\" width=\"46\" x=\"2\" y=\"152\" /><rect fill=\"#f2f2f2\" height=\"46\" rx=\"3px\" ry=\"3px\" stroke=\"black\" stroke-width=\"0.5px\" width=\"46\" x=\"52\" y=\"152\" /><rect fill=\"#f2f2f2\" height=\"46\" rx=\"3px\" ry=\"3px\" stroke=\"black\" stroke-width=\"0.5px\" width=\"46\" x=\"102\" y=\"152\" /><rect fill=\"#f2f2f2\" height=\"46\" rx=\"3px\" ry=\"3px\" stroke=\"black\" stroke-width=\"0.5px\" width=\"46\" x=\"152\" y=\"152\" /></g></g></svg>"
          },
          "metadata": {}
        }
      ]
    }
  ]
}