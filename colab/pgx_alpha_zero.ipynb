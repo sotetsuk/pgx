{
  "nbformat": 4,
  "nbformat_minor": 0,
  "metadata": {
    "colab": {
      "provenance": [],
      "toc_visible": true,
      "mount_file_id": "1XeNAhrP-cZ-guoqls9aAZlR8S2KdP72y",
      "authorship_tag": "ABX9TyOSiR+vd8/uNT+zB1AAS2Fw",
      "include_colab_link": true
    },
    "kernelspec": {
      "name": "python3",
      "display_name": "Python 3"
    },
    "language_info": {
      "name": "python"
    },
    "accelerator": "GPU",
    "gpuClass": "standard"
  },
  "cells": [
    {
      "cell_type": "markdown",
      "metadata": {
        "id": "view-in-github",
        "colab_type": "text"
      },
      "source": [
        "<a href=\"https://colab.research.google.com/github/sotetsuk/pgx/blob/nissymori%2Ffeat%2Fmctx_colab/colab/pgx_alpha_zero.ipynb\" target=\"_parent\"><img src=\"https://colab.research.google.com/assets/colab-badge.svg\" alt=\"Open In Colab\"/></a>"
      ]
    },
    {
      "cell_type": "code",
      "execution_count": 26,
      "metadata": {
        "colab": {
          "base_uri": "https://localhost:8080/"
        },
        "id": "q9DxDvL_Qfh8",
        "outputId": "e29f09bd-a635-4e0a-a7c4-393ef9ee4579"
      },
      "outputs": [
        {
          "output_type": "stream",
          "name": "stdout",
          "text": [
            "Looking in indexes: https://pypi.org/simple, https://us-python.pkg.dev/colab-wheels/public/simple/\n",
            "Looking in links: https://storage.googleapis.com/jax-releases/jax_cuda_releases.html\n",
            "Requirement already satisfied: jax[cuda11_cudnn82] in /usr/local/lib/python3.9/dist-packages (0.4.8)\n",
            "Requirement already satisfied: opt-einsum in /usr/local/lib/python3.9/dist-packages (from jax[cuda11_cudnn82]) (3.3.0)\n",
            "Requirement already satisfied: numpy>=1.21 in /usr/local/lib/python3.9/dist-packages (from jax[cuda11_cudnn82]) (1.22.4)\n",
            "Requirement already satisfied: scipy>=1.7 in /usr/local/lib/python3.9/dist-packages (from jax[cuda11_cudnn82]) (1.10.1)\n",
            "Requirement already satisfied: ml-dtypes>=0.0.3 in /usr/local/lib/python3.9/dist-packages (from jax[cuda11_cudnn82]) (0.0.4)\n",
            "Requirement already satisfied: jaxlib==0.4.7+cuda11.cudnn82 in /usr/local/lib/python3.9/dist-packages (from jax[cuda11_cudnn82]) (0.4.7+cuda11.cudnn82)\n",
            "Looking in indexes: https://pypi.org/simple, https://us-python.pkg.dev/colab-wheels/public/simple/\n",
            "Looking in links: https://storage.googleapis.com/jax-releases/jax_cuda_releases.html\n",
            "Requirement already satisfied: jaxlib==0.4.7+cuda11.cudnn82 in /usr/local/lib/python3.9/dist-packages (0.4.7+cuda11.cudnn82)\n",
            "Requirement already satisfied: scipy>=1.7 in /usr/local/lib/python3.9/dist-packages (from jaxlib==0.4.7+cuda11.cudnn82) (1.10.1)\n",
            "Requirement already satisfied: numpy>=1.21 in /usr/local/lib/python3.9/dist-packages (from jaxlib==0.4.7+cuda11.cudnn82) (1.22.4)\n",
            "Requirement already satisfied: ml-dtypes>=0.0.3 in /usr/local/lib/python3.9/dist-packages (from jaxlib==0.4.7+cuda11.cudnn82) (0.0.4)\n",
            "Looking in indexes: https://pypi.org/simple, https://us-python.pkg.dev/colab-wheels/public/simple/\n",
            "Requirement already satisfied: flax in /usr/local/lib/python3.9/dist-packages (0.6.8)\n",
            "Requirement already satisfied: optax in /usr/local/lib/python3.9/dist-packages (from flax) (0.1.4)\n",
            "Requirement already satisfied: rich>=11.1 in /usr/local/lib/python3.9/dist-packages (from flax) (13.3.3)\n",
            "Requirement already satisfied: typing-extensions>=4.1.1 in /usr/local/lib/python3.9/dist-packages (from flax) (4.5.0)\n",
            "Requirement already satisfied: jax>=0.4.2 in /usr/local/lib/python3.9/dist-packages (from flax) (0.4.8)\n",
            "Requirement already satisfied: orbax in /usr/local/lib/python3.9/dist-packages (from flax) (0.1.7)\n",
            "Requirement already satisfied: numpy>=1.12 in /usr/local/lib/python3.9/dist-packages (from flax) (1.22.4)\n",
            "Requirement already satisfied: tensorstore in /usr/local/lib/python3.9/dist-packages (from flax) (0.1.35)\n",
            "Requirement already satisfied: msgpack in /usr/local/lib/python3.9/dist-packages (from flax) (1.0.5)\n",
            "Requirement already satisfied: PyYAML>=5.4.1 in /usr/local/lib/python3.9/dist-packages (from flax) (6.0)\n",
            "Requirement already satisfied: opt-einsum in /usr/local/lib/python3.9/dist-packages (from jax>=0.4.2->flax) (3.3.0)\n",
            "Requirement already satisfied: ml-dtypes>=0.0.3 in /usr/local/lib/python3.9/dist-packages (from jax>=0.4.2->flax) (0.0.4)\n",
            "Requirement already satisfied: scipy>=1.7 in /usr/local/lib/python3.9/dist-packages (from jax>=0.4.2->flax) (1.10.1)\n",
            "Requirement already satisfied: pygments<3.0.0,>=2.13.0 in /usr/local/lib/python3.9/dist-packages (from rich>=11.1->flax) (2.14.0)\n",
            "Requirement already satisfied: markdown-it-py<3.0.0,>=2.2.0 in /usr/local/lib/python3.9/dist-packages (from rich>=11.1->flax) (2.2.0)\n",
            "Requirement already satisfied: jaxlib>=0.1.37 in /usr/local/lib/python3.9/dist-packages (from optax->flax) (0.4.7+cuda11.cudnn82)\n",
            "Requirement already satisfied: absl-py>=0.7.1 in /usr/local/lib/python3.9/dist-packages (from optax->flax) (1.4.0)\n",
            "Requirement already satisfied: chex>=0.1.5 in /usr/local/lib/python3.9/dist-packages (from optax->flax) (0.1.7)\n",
            "Requirement already satisfied: cached_property in /usr/local/lib/python3.9/dist-packages (from orbax->flax) (1.5.2)\n",
            "Requirement already satisfied: importlib_resources in /usr/local/lib/python3.9/dist-packages (from orbax->flax) (5.12.0)\n",
            "Requirement already satisfied: nest_asyncio in /usr/local/lib/python3.9/dist-packages (from orbax->flax) (1.5.6)\n",
            "Requirement already satisfied: etils in /usr/local/lib/python3.9/dist-packages (from orbax->flax) (1.1.1)\n",
            "Requirement already satisfied: dm-tree>=0.1.5 in /usr/local/lib/python3.9/dist-packages (from chex>=0.1.5->optax->flax) (0.1.8)\n",
            "Requirement already satisfied: toolz>=0.9.0 in /usr/local/lib/python3.9/dist-packages (from chex>=0.1.5->optax->flax) (0.12.0)\n",
            "Requirement already satisfied: mdurl~=0.1 in /usr/local/lib/python3.9/dist-packages (from markdown-it-py<3.0.0,>=2.2.0->rich>=11.1->flax) (0.1.2)\n",
            "Requirement already satisfied: zipp>=3.1.0 in /usr/local/lib/python3.9/dist-packages (from importlib_resources->orbax->flax) (3.15.0)\n",
            "Looking in indexes: https://pypi.org/simple, https://us-python.pkg.dev/colab-wheels/public/simple/\n",
            "Requirement already satisfied: optax in /usr/local/lib/python3.9/dist-packages (0.1.4)\n",
            "Requirement already satisfied: typing-extensions>=3.10.0 in /usr/local/lib/python3.9/dist-packages (from optax) (4.5.0)\n",
            "Requirement already satisfied: jax>=0.1.55 in /usr/local/lib/python3.9/dist-packages (from optax) (0.4.8)\n",
            "Requirement already satisfied: jaxlib>=0.1.37 in /usr/local/lib/python3.9/dist-packages (from optax) (0.4.7+cuda11.cudnn82)\n",
            "Requirement already satisfied: chex>=0.1.5 in /usr/local/lib/python3.9/dist-packages (from optax) (0.1.7)\n",
            "Requirement already satisfied: absl-py>=0.7.1 in /usr/local/lib/python3.9/dist-packages (from optax) (1.4.0)\n",
            "Requirement already satisfied: numpy>=1.18.0 in /usr/local/lib/python3.9/dist-packages (from optax) (1.22.4)\n",
            "Requirement already satisfied: toolz>=0.9.0 in /usr/local/lib/python3.9/dist-packages (from chex>=0.1.5->optax) (0.12.0)\n",
            "Requirement already satisfied: dm-tree>=0.1.5 in /usr/local/lib/python3.9/dist-packages (from chex>=0.1.5->optax) (0.1.8)\n",
            "Requirement already satisfied: opt-einsum in /usr/local/lib/python3.9/dist-packages (from jax>=0.1.55->optax) (3.3.0)\n",
            "Requirement already satisfied: ml-dtypes>=0.0.3 in /usr/local/lib/python3.9/dist-packages (from jax>=0.1.55->optax) (0.0.4)\n",
            "Requirement already satisfied: scipy>=1.7 in /usr/local/lib/python3.9/dist-packages (from jax>=0.1.55->optax) (1.10.1)\n",
            "Looking in indexes: https://pypi.org/simple, https://us-python.pkg.dev/colab-wheels/public/simple/\n",
            "Requirement already satisfied: mctx in /usr/local/lib/python3.9/dist-packages (0.0.2)\n",
            "Requirement already satisfied: jax>=0.1.55 in /usr/local/lib/python3.9/dist-packages (from mctx) (0.4.8)\n",
            "Requirement already satisfied: chex>=0.0.8 in /usr/local/lib/python3.9/dist-packages (from mctx) (0.1.7)\n",
            "Requirement already satisfied: jaxlib>=0.1.37 in /usr/local/lib/python3.9/dist-packages (from mctx) (0.4.7+cuda11.cudnn82)\n",
            "Requirement already satisfied: absl-py>=0.9.0 in /usr/local/lib/python3.9/dist-packages (from chex>=0.0.8->mctx) (1.4.0)\n",
            "Requirement already satisfied: dm-tree>=0.1.5 in /usr/local/lib/python3.9/dist-packages (from chex>=0.0.8->mctx) (0.1.8)\n",
            "Requirement already satisfied: numpy>=1.18.0 in /usr/local/lib/python3.9/dist-packages (from chex>=0.0.8->mctx) (1.22.4)\n",
            "Requirement already satisfied: toolz>=0.9.0 in /usr/local/lib/python3.9/dist-packages (from chex>=0.0.8->mctx) (0.12.0)\n",
            "Requirement already satisfied: typing-extensions>=4.2.0 in /usr/local/lib/python3.9/dist-packages (from chex>=0.0.8->mctx) (4.5.0)\n",
            "Requirement already satisfied: ml-dtypes>=0.0.3 in /usr/local/lib/python3.9/dist-packages (from jax>=0.1.55->mctx) (0.0.4)\n",
            "Requirement already satisfied: opt-einsum in /usr/local/lib/python3.9/dist-packages (from jax>=0.1.55->mctx) (3.3.0)\n",
            "Requirement already satisfied: scipy>=1.7 in /usr/local/lib/python3.9/dist-packages (from jax>=0.1.55->mctx) (1.10.1)\n",
            "Looking in indexes: https://pypi.org/simple, https://us-python.pkg.dev/colab-wheels/public/simple/\n",
            "Requirement already satisfied: pgx in /usr/local/lib/python3.9/dist-packages (0.2.1)\n",
            "Requirement already satisfied: msgpack in /usr/local/lib/python3.9/dist-packages (from pgx) (1.0.5)\n",
            "Requirement already satisfied: ipywidgets in /usr/local/lib/python3.9/dist-packages (from pgx) (7.7.1)\n",
            "Requirement already satisfied: svgwrite in /usr/local/lib/python3.9/dist-packages (from pgx) (1.4.3)\n",
            "Requirement already satisfied: jax in /usr/local/lib/python3.9/dist-packages (from pgx) (0.4.8)\n",
            "Requirement already satisfied: traitlets>=4.3.1 in /usr/local/lib/python3.9/dist-packages (from ipywidgets->pgx) (5.7.1)\n",
            "Requirement already satisfied: ipykernel>=4.5.1 in /usr/local/lib/python3.9/dist-packages (from ipywidgets->pgx) (5.5.6)\n",
            "Requirement already satisfied: widgetsnbextension~=3.6.0 in /usr/local/lib/python3.9/dist-packages (from ipywidgets->pgx) (3.6.4)\n",
            "Requirement already satisfied: jupyterlab-widgets>=1.0.0 in /usr/local/lib/python3.9/dist-packages (from ipywidgets->pgx) (3.0.7)\n",
            "Requirement already satisfied: ipython>=4.0.0 in /usr/local/lib/python3.9/dist-packages (from ipywidgets->pgx) (7.34.0)\n",
            "Requirement already satisfied: ipython-genutils~=0.2.0 in /usr/local/lib/python3.9/dist-packages (from ipywidgets->pgx) (0.2.0)\n",
            "Requirement already satisfied: ml-dtypes>=0.0.3 in /usr/local/lib/python3.9/dist-packages (from jax->pgx) (0.0.4)\n",
            "Requirement already satisfied: opt-einsum in /usr/local/lib/python3.9/dist-packages (from jax->pgx) (3.3.0)\n",
            "Requirement already satisfied: numpy>=1.21 in /usr/local/lib/python3.9/dist-packages (from jax->pgx) (1.22.4)\n",
            "Requirement already satisfied: scipy>=1.7 in /usr/local/lib/python3.9/dist-packages (from jax->pgx) (1.10.1)\n",
            "Requirement already satisfied: jupyter-client in /usr/local/lib/python3.9/dist-packages (from ipykernel>=4.5.1->ipywidgets->pgx) (6.1.12)\n",
            "Requirement already satisfied: tornado>=4.2 in /usr/local/lib/python3.9/dist-packages (from ipykernel>=4.5.1->ipywidgets->pgx) (6.2)\n",
            "Requirement already satisfied: pexpect>4.3 in /usr/local/lib/python3.9/dist-packages (from ipython>=4.0.0->ipywidgets->pgx) (4.8.0)\n",
            "Requirement already satisfied: matplotlib-inline in /usr/local/lib/python3.9/dist-packages (from ipython>=4.0.0->ipywidgets->pgx) (0.1.6)\n",
            "Requirement already satisfied: setuptools>=18.5 in /usr/local/lib/python3.9/dist-packages (from ipython>=4.0.0->ipywidgets->pgx) (67.6.1)\n",
            "Requirement already satisfied: backcall in /usr/local/lib/python3.9/dist-packages (from ipython>=4.0.0->ipywidgets->pgx) (0.2.0)\n",
            "Requirement already satisfied: prompt-toolkit!=3.0.0,!=3.0.1,<3.1.0,>=2.0.0 in /usr/local/lib/python3.9/dist-packages (from ipython>=4.0.0->ipywidgets->pgx) (3.0.38)\n",
            "Requirement already satisfied: pickleshare in /usr/local/lib/python3.9/dist-packages (from ipython>=4.0.0->ipywidgets->pgx) (0.7.5)\n",
            "Requirement already satisfied: decorator in /usr/local/lib/python3.9/dist-packages (from ipython>=4.0.0->ipywidgets->pgx) (4.4.2)\n",
            "Requirement already satisfied: pygments in /usr/local/lib/python3.9/dist-packages (from ipython>=4.0.0->ipywidgets->pgx) (2.14.0)\n",
            "Requirement already satisfied: jedi>=0.16 in /usr/local/lib/python3.9/dist-packages (from ipython>=4.0.0->ipywidgets->pgx) (0.18.2)\n",
            "Requirement already satisfied: notebook>=4.4.1 in /usr/local/lib/python3.9/dist-packages (from widgetsnbextension~=3.6.0->ipywidgets->pgx) (6.4.8)\n",
            "Requirement already satisfied: parso<0.9.0,>=0.8.0 in /usr/local/lib/python3.9/dist-packages (from jedi>=0.16->ipython>=4.0.0->ipywidgets->pgx) (0.8.3)\n",
            "Requirement already satisfied: prometheus-client in /usr/local/lib/python3.9/dist-packages (from notebook>=4.4.1->widgetsnbextension~=3.6.0->ipywidgets->pgx) (0.16.0)\n",
            "Requirement already satisfied: jinja2 in /usr/local/lib/python3.9/dist-packages (from notebook>=4.4.1->widgetsnbextension~=3.6.0->ipywidgets->pgx) (3.1.2)\n",
            "Requirement already satisfied: argon2-cffi in /usr/local/lib/python3.9/dist-packages (from notebook>=4.4.1->widgetsnbextension~=3.6.0->ipywidgets->pgx) (21.3.0)\n",
            "Requirement already satisfied: nest-asyncio>=1.5 in /usr/local/lib/python3.9/dist-packages (from notebook>=4.4.1->widgetsnbextension~=3.6.0->ipywidgets->pgx) (1.5.6)\n",
            "Requirement already satisfied: jupyter-core>=4.6.1 in /usr/local/lib/python3.9/dist-packages (from notebook>=4.4.1->widgetsnbextension~=3.6.0->ipywidgets->pgx) (5.3.0)\n",
            "Requirement already satisfied: nbformat in /usr/local/lib/python3.9/dist-packages (from notebook>=4.4.1->widgetsnbextension~=3.6.0->ipywidgets->pgx) (5.8.0)\n",
            "Requirement already satisfied: nbconvert in /usr/local/lib/python3.9/dist-packages (from notebook>=4.4.1->widgetsnbextension~=3.6.0->ipywidgets->pgx) (6.5.4)\n",
            "Requirement already satisfied: Send2Trash>=1.8.0 in /usr/local/lib/python3.9/dist-packages (from notebook>=4.4.1->widgetsnbextension~=3.6.0->ipywidgets->pgx) (1.8.0)\n",
            "Requirement already satisfied: terminado>=0.8.3 in /usr/local/lib/python3.9/dist-packages (from notebook>=4.4.1->widgetsnbextension~=3.6.0->ipywidgets->pgx) (0.17.1)\n",
            "Requirement already satisfied: pyzmq>=17 in /usr/local/lib/python3.9/dist-packages (from notebook>=4.4.1->widgetsnbextension~=3.6.0->ipywidgets->pgx) (23.2.1)\n",
            "Requirement already satisfied: python-dateutil>=2.1 in /usr/local/lib/python3.9/dist-packages (from jupyter-client->ipykernel>=4.5.1->ipywidgets->pgx) (2.8.2)\n",
            "Requirement already satisfied: ptyprocess>=0.5 in /usr/local/lib/python3.9/dist-packages (from pexpect>4.3->ipython>=4.0.0->ipywidgets->pgx) (0.7.0)\n",
            "Requirement already satisfied: wcwidth in /usr/local/lib/python3.9/dist-packages (from prompt-toolkit!=3.0.0,!=3.0.1,<3.1.0,>=2.0.0->ipython>=4.0.0->ipywidgets->pgx) (0.2.6)\n",
            "Requirement already satisfied: platformdirs>=2.5 in /usr/local/lib/python3.9/dist-packages (from jupyter-core>=4.6.1->notebook>=4.4.1->widgetsnbextension~=3.6.0->ipywidgets->pgx) (3.2.0)\n",
            "Requirement already satisfied: six>=1.5 in /usr/local/lib/python3.9/dist-packages (from python-dateutil>=2.1->jupyter-client->ipykernel>=4.5.1->ipywidgets->pgx) (1.16.0)\n",
            "Requirement already satisfied: argon2-cffi-bindings in /usr/local/lib/python3.9/dist-packages (from argon2-cffi->notebook>=4.4.1->widgetsnbextension~=3.6.0->ipywidgets->pgx) (21.2.0)\n",
            "Requirement already satisfied: MarkupSafe>=2.0 in /usr/local/lib/python3.9/dist-packages (from jinja2->notebook>=4.4.1->widgetsnbextension~=3.6.0->ipywidgets->pgx) (2.1.2)\n",
            "Requirement already satisfied: packaging in /usr/local/lib/python3.9/dist-packages (from nbconvert->notebook>=4.4.1->widgetsnbextension~=3.6.0->ipywidgets->pgx) (23.0)\n",
            "Requirement already satisfied: tinycss2 in /usr/local/lib/python3.9/dist-packages (from nbconvert->notebook>=4.4.1->widgetsnbextension~=3.6.0->ipywidgets->pgx) (1.2.1)\n",
            "Requirement already satisfied: jupyterlab-pygments in /usr/local/lib/python3.9/dist-packages (from nbconvert->notebook>=4.4.1->widgetsnbextension~=3.6.0->ipywidgets->pgx) (0.2.2)\n",
            "Requirement already satisfied: pandocfilters>=1.4.1 in /usr/local/lib/python3.9/dist-packages (from nbconvert->notebook>=4.4.1->widgetsnbextension~=3.6.0->ipywidgets->pgx) (1.5.0)\n",
            "Requirement already satisfied: mistune<2,>=0.8.1 in /usr/local/lib/python3.9/dist-packages (from nbconvert->notebook>=4.4.1->widgetsnbextension~=3.6.0->ipywidgets->pgx) (0.8.4)\n",
            "Requirement already satisfied: entrypoints>=0.2.2 in /usr/local/lib/python3.9/dist-packages (from nbconvert->notebook>=4.4.1->widgetsnbextension~=3.6.0->ipywidgets->pgx) (0.4)\n",
            "Requirement already satisfied: defusedxml in /usr/local/lib/python3.9/dist-packages (from nbconvert->notebook>=4.4.1->widgetsnbextension~=3.6.0->ipywidgets->pgx) (0.7.1)\n",
            "Requirement already satisfied: bleach in /usr/local/lib/python3.9/dist-packages (from nbconvert->notebook>=4.4.1->widgetsnbextension~=3.6.0->ipywidgets->pgx) (6.0.0)\n",
            "Requirement already satisfied: nbclient>=0.5.0 in /usr/local/lib/python3.9/dist-packages (from nbconvert->notebook>=4.4.1->widgetsnbextension~=3.6.0->ipywidgets->pgx) (0.7.2)\n",
            "Requirement already satisfied: lxml in /usr/local/lib/python3.9/dist-packages (from nbconvert->notebook>=4.4.1->widgetsnbextension~=3.6.0->ipywidgets->pgx) (4.9.2)\n",
            "Requirement already satisfied: beautifulsoup4 in /usr/local/lib/python3.9/dist-packages (from nbconvert->notebook>=4.4.1->widgetsnbextension~=3.6.0->ipywidgets->pgx) (4.11.2)\n",
            "Requirement already satisfied: jsonschema>=2.6 in /usr/local/lib/python3.9/dist-packages (from nbformat->notebook>=4.4.1->widgetsnbextension~=3.6.0->ipywidgets->pgx) (4.3.3)\n",
            "Requirement already satisfied: fastjsonschema in /usr/local/lib/python3.9/dist-packages (from nbformat->notebook>=4.4.1->widgetsnbextension~=3.6.0->ipywidgets->pgx) (2.16.3)\n",
            "Requirement already satisfied: attrs>=17.4.0 in /usr/local/lib/python3.9/dist-packages (from jsonschema>=2.6->nbformat->notebook>=4.4.1->widgetsnbextension~=3.6.0->ipywidgets->pgx) (22.2.0)\n",
            "Requirement already satisfied: pyrsistent!=0.17.0,!=0.17.1,!=0.17.2,>=0.14.0 in /usr/local/lib/python3.9/dist-packages (from jsonschema>=2.6->nbformat->notebook>=4.4.1->widgetsnbextension~=3.6.0->ipywidgets->pgx) (0.19.3)\n",
            "Requirement already satisfied: cffi>=1.0.1 in /usr/local/lib/python3.9/dist-packages (from argon2-cffi-bindings->argon2-cffi->notebook>=4.4.1->widgetsnbextension~=3.6.0->ipywidgets->pgx) (1.15.1)\n",
            "Requirement already satisfied: soupsieve>1.2 in /usr/local/lib/python3.9/dist-packages (from beautifulsoup4->nbconvert->notebook>=4.4.1->widgetsnbextension~=3.6.0->ipywidgets->pgx) (2.4)\n",
            "Requirement already satisfied: webencodings in /usr/local/lib/python3.9/dist-packages (from bleach->nbconvert->notebook>=4.4.1->widgetsnbextension~=3.6.0->ipywidgets->pgx) (0.5.1)\n",
            "Requirement already satisfied: pycparser in /usr/local/lib/python3.9/dist-packages (from cffi>=1.0.1->argon2-cffi-bindings->argon2-cffi->notebook>=4.4.1->widgetsnbextension~=3.6.0->ipywidgets->pgx) (2.21)\n",
            "Looking in indexes: https://pypi.org/simple, https://us-python.pkg.dev/colab-wheels/public/simple/\n",
            "Collecting ipyplot\n",
            "  Downloading ipyplot-1.1.1-py3-none-any.whl (13 kB)\n",
            "Requirement already satisfied: pillow in /usr/local/lib/python3.9/dist-packages (from ipyplot) (9.5.0)\n",
            "Requirement already satisfied: IPython in /usr/local/lib/python3.9/dist-packages (from ipyplot) (7.34.0)\n",
            "Collecting shortuuid\n",
            "  Downloading shortuuid-1.0.11-py3-none-any.whl (10 kB)\n",
            "Requirement already satisfied: numpy in /usr/local/lib/python3.9/dist-packages (from ipyplot) (1.22.4)\n",
            "Requirement already satisfied: matplotlib-inline in /usr/local/lib/python3.9/dist-packages (from IPython->ipyplot) (0.1.6)\n",
            "Requirement already satisfied: pickleshare in /usr/local/lib/python3.9/dist-packages (from IPython->ipyplot) (0.7.5)\n",
            "Requirement already satisfied: traitlets>=4.2 in /usr/local/lib/python3.9/dist-packages (from IPython->ipyplot) (5.7.1)\n",
            "Requirement already satisfied: prompt-toolkit!=3.0.0,!=3.0.1,<3.1.0,>=2.0.0 in /usr/local/lib/python3.9/dist-packages (from IPython->ipyplot) (3.0.38)\n",
            "Requirement already satisfied: pygments in /usr/local/lib/python3.9/dist-packages (from IPython->ipyplot) (2.14.0)\n",
            "Requirement already satisfied: decorator in /usr/local/lib/python3.9/dist-packages (from IPython->ipyplot) (4.4.2)\n",
            "Requirement already satisfied: setuptools>=18.5 in /usr/local/lib/python3.9/dist-packages (from IPython->ipyplot) (67.6.1)\n",
            "Requirement already satisfied: pexpect>4.3 in /usr/local/lib/python3.9/dist-packages (from IPython->ipyplot) (4.8.0)\n",
            "Requirement already satisfied: jedi>=0.16 in /usr/local/lib/python3.9/dist-packages (from IPython->ipyplot) (0.18.2)\n",
            "Requirement already satisfied: backcall in /usr/local/lib/python3.9/dist-packages (from IPython->ipyplot) (0.2.0)\n",
            "Requirement already satisfied: parso<0.9.0,>=0.8.0 in /usr/local/lib/python3.9/dist-packages (from jedi>=0.16->IPython->ipyplot) (0.8.3)\n",
            "Requirement already satisfied: ptyprocess>=0.5 in /usr/local/lib/python3.9/dist-packages (from pexpect>4.3->IPython->ipyplot) (0.7.0)\n",
            "Requirement already satisfied: wcwidth in /usr/local/lib/python3.9/dist-packages (from prompt-toolkit!=3.0.0,!=3.0.1,<3.1.0,>=2.0.0->IPython->ipyplot) (0.2.6)\n",
            "Installing collected packages: shortuuid, ipyplot\n",
            "Successfully installed ipyplot-1.1.1 shortuuid-1.0.11\n"
          ]
        }
      ],
      "source": [
        "# install libraries\n",
        "!pip install -U jax[cuda11_cudnn82] -f https://storage.googleapis.com/jax-releases/jax_cuda_releases.html\n",
        "!pip install -U jaxlib==0.4.7+cuda11.cudnn82 -f https://storage.googleapis.com/jax-releases/jax_cuda_releases.html\n",
        "!pip install flax\n",
        "!pip install optax\n",
        "!pip install mctx\n",
        "!pip install pgx\n",
        "# for visualization\n",
        "!pip install ipyplot"
      ]
    },
    {
      "cell_type": "markdown",
      "source": [
        "**Training code**\n",
        "\n",
        "We train AlphaZero agent in pgx environment with MCTS part depending on mctx."
      ],
      "metadata": {
        "id": "LJ63ubb7RRwi"
      }
    },
    {
      "cell_type": "code",
      "source": [
        "import mctx\n",
        "import jax \n",
        "from typing import Tuple\n",
        "\n",
        "from jax import vmap\n",
        "from jax import numpy as jnp\n",
        "import pgx\n",
        "from pgx.experimental.wrappers import auto_reset\n",
        "from functools import partial\n",
        "import optax\n",
        "import flax \n",
        "import flax.linen as nn\n",
        "from flax.training import train_state\n",
        "import time\n",
        "\n",
        "\"\"\"\n",
        "This is the implementation of alphazero for 2 player zero-sum game with mctx for mcts and pgx for environment\n",
        "\"\"\"\n",
        "\n",
        "\n",
        "@flax.struct.dataclass\n",
        "class TrainState(train_state.TrainState):\n",
        "  acc: jnp.ndarray\n",
        "\n",
        "\n",
        "def make_recurrent_fn(env: pgx.core.Env):\n",
        "    \"\"\"\n",
        "    Make recurrent function for mctx policy.\n",
        "    input: params(for value and policy calc), key(rng), actions(actions at leaf node), _state(leaf_state)\n",
        "    rolls:\n",
        "    - output value and policy at _state\n",
        "    - get next state and reward by env.step() (In Muzero, this part is replaced by NN model, but we have fast simulator pgx, we do not need model based approach)\n",
        "    \"\"\"\n",
        "    batch_step = jax.jit(vmap(env.step, in_axes=(0,0)))\n",
        "    batch_obs = jax.jit(vmap(env.observe))\n",
        "    def recurrent_fn(params: TrainState, key: jnp.ndarray, actions: jnp.ndarray, _state: pgx.State):\n",
        "        train_state = params\n",
        "        key, subkey = jax.random.split(key)\n",
        "        state = batch_step(_state, actions)\n",
        "        obs = batch_obs(state, state.current_player)\n",
        "        value, pi_logits = train_state.apply_fn({\"params\": train_state.params}, obs.astype(float))\n",
        "        reward=jax.vmap(_get)(state.reward, _state.current_player)  # rewardは行動したplayer視点\n",
        "        value = jnp.where(state.terminated, 0.0, value.squeeze())\n",
        "        recurrent_fn_output = mctx.RecurrentFnOutput(\n",
        "        reward=reward,\n",
        "        discount=-1 * jnp.ones(value.shape[0]),\n",
        "        prior_logits=pi_logits,\n",
        "        value=value)\n",
        "        return recurrent_fn_output, state\n",
        "    return recurrent_fn\n",
        "\n",
        "\n",
        "def init(net: nn.Module, env: pgx.core.Env, key: jnp.ndarray, learning_rate=0.001) -> TrainState:  # initialize training state\n",
        "    dummy_state = env.init(key)\n",
        "    obs = env.observe(dummy_state, dummy_state.current_player)\n",
        "    dummy_obs = obs.astype(float)\n",
        "\n",
        "    params = net.init(key, dummy_obs)[\"params\"]\n",
        "    tx = optax.adam(learning_rate=learning_rate)\n",
        "    return TrainState.create(apply_fn=net.apply, params=params, tx=tx, acc=jnp.zeros(1))\n",
        "\n",
        "\n",
        "def update(x, vals, *indices):\n",
        "  return x.at[indices].set(vals)\n",
        "\n",
        "\n",
        "batch_update = jax.vmap(update)\n",
        "\n",
        "\n",
        "@flax.struct.dataclass\n",
        "class _SelfPlayState:\n",
        "    \"\"\"The state for the simulation while loop.\"\"\"\n",
        "    key: jnp.ndarray\n",
        "    obs: jnp.ndarray\n",
        "    mcts_policy: jnp.ndarray\n",
        "    current_player: jnp.ndarray\n",
        "    reward: jnp.ndarray\n",
        "    terminated: jnp.ndarray\n",
        "\n",
        "\n",
        "\n",
        "def self_play(env: pgx.core.Env ,key: jnp.ndarray, recurrent_fn, train_state: TrainState, num_iterations: int, num_simulations: int, batch_size: int) -> _SelfPlayState:\n",
        "    \"\"\"\n",
        "    Self play.\n",
        "    \"\"\"\n",
        "    auto_reset_step = auto_reset(env.step, env.init)\n",
        "    def batched_single_step(tup, i) -> _SelfPlayState:\n",
        "        \"\"\"\n",
        "        Batched single step using mcts policy\n",
        "        \"\"\"\n",
        "        key, state = tup\n",
        "        obs = vmap(env.observe)(state, state.current_player)  # (batch_size, obs_dim)\n",
        "        value, pi_logits = train_state.apply_fn({\"params\": train_state.params}, obs.astype(float))  # value, policy\n",
        "        key, subkey = jax.random.split(key)\n",
        "        root = mctx.RootFnOutput(value=value.squeeze(), prior_logits=pi_logits, embedding=state)\n",
        "        policy_output = mctx.gumbel_muzero_policy(\n",
        "                params=train_state,\n",
        "                rng_key=subkey,\n",
        "                root=root,\n",
        "                recurrent_fn=recurrent_fn,\n",
        "                num_simulations=num_simulations,\n",
        "                invalid_actions=~state.legal_action_mask\n",
        "        ) # calc mcts policy\n",
        "        mcts_policy = policy_output.action_weights  # (batch_size, num_actions)\n",
        "        action = policy_output.action  # (batch_size, 1)\n",
        "        next_state = vmap(auto_reset_step)(state, action)\n",
        "        return (key, next_state), _SelfPlayState(\n",
        "            key=key,\n",
        "            obs=obs,\n",
        "            mcts_policy=mcts_policy,\n",
        "            current_player=state.current_player,\n",
        "            reward=state.reward,\n",
        "            terminated=state.terminated\n",
        "        )\n",
        "    key, subkey = jax.random.split(key)\n",
        "    subkeys = jax.random.split(subkey, batch_size)\n",
        "    state = vmap(env.init)(subkeys)\n",
        "    _, selfplay_state = jax.lax.scan(batched_single_step, (key, state), jnp.arange(num_iterations))\n",
        "    return selfplay_state\n",
        "\n",
        "\n",
        "def _make_target_value_and_mask(reward: jnp.ndarray, terminated: jnp.ndarray) -> jnp.ndarray:\n",
        "    \"\"\"\n",
        "    - For 2 player zero sum game, value target is the final reward(win/lose)\n",
        "    - We need to make data with input observation and target final reward.\n",
        "    - So we fill the reward vec the final reward of corresponding games.\n",
        "    - Since we set num_iterations, the  trucation is likely, so we mask the data of unfinished match.\n",
        "    \"\"\"\n",
        "    value = jnp.zeros(reward.shape, dtype=jnp.float32)  # (num_iterations, 2)\n",
        "    mask = jnp.zeros(reward.shape[0], dtype=jnp.int8)  # (num_iterations)\n",
        "    def fill_reward(sta, end, value):\n",
        "        return jax.lax.fori_loop(sta, end, lambda i, val: val.at[i].set(reward[end]), value)\n",
        "    def fill_mask(end, mask):\n",
        "        return jax.lax.fori_loop(0, end, lambda i, val: val.at[i].set(1), mask)\n",
        "    \n",
        "    def loop_fn(i, tup):\n",
        "        value, last_terminated_idx = tup\n",
        "        new_terminated_idx = jax.lax.cond(terminated[i], lambda: i, lambda: last_terminated_idx)\n",
        "        value = jax.lax.cond(terminated[i], lambda: fill_reward(last_terminated_idx, i, value), lambda: value)\n",
        "        return (value, new_terminated_idx)\n",
        "    value, last_terminated_idx = jax.lax.fori_loop(0, len(reward), loop_fn, (value, 0))\n",
        "    mask = fill_mask(last_terminated_idx, mask)\n",
        "    return value, mask\n",
        "\n",
        "\n",
        "@flax.struct.dataclass\n",
        "class _TrainData:\n",
        "    \"\"\"The state for the simulation while loop.\"\"\"\n",
        "    obs: jnp.ndarray\n",
        "    mcts_policy: jnp.ndarray\n",
        "    current_player: jnp.ndarray\n",
        "    value: jnp.ndarray\n",
        "    mask: jnp.ndarray\n",
        "\n",
        "\n",
        "def _get_batch(data: _TrainData, idx: int):\n",
        "    return (data.obs[idx], data.mcts_policy[idx], data.current_player[idx], data.value[idx], data.mask[idx])\n",
        "\n",
        "\n",
        "def _get(x, idx):\n",
        "    return x[idx]\n",
        "\n",
        "\n",
        "def preprocess_data(selfplay_data: _SelfPlayState):\n",
        "    obs = selfplay_data.obs  # (num_iterations, batch_size, obs_dim)\n",
        "    mcts_policy = selfplay_data.mcts_policy  # (num_iterations, batch_size, num_actions)\n",
        "    current_player = selfplay_data.current_player  # (num_iterations, batch_size)\n",
        "    reward = selfplay_data.reward  # (num_iterations, batch_size, 2)\n",
        "    terminated = selfplay_data.terminated  # (num_iterations, batch_size)\n",
        "    value, mask = vmap(_make_target_value_and_mask, in_axes=(0))(reward.transpose(1, 0, 2), terminated.transpose(1, 0))  # (num_iterations, batch_size, 2), (num_itarations, batch_size)\n",
        "    dataset = _TrainData(obs=obs, mcts_policy=mcts_policy, current_player=current_player, value=value.transpose(1, 0, 2), mask=mask.transpose(1, 0)) \n",
        "    return dataset\n",
        "\n",
        "\n",
        "def train_step(train_state: TrainState, batch: Tuple[jnp.ndarray]) -> TrainState:\n",
        "    \"\"\"\n",
        "    obs: (batch_size, obs_dim)\n",
        "    mcts_policy: (batch_size, action_num)\n",
        "    reward: (batch_size, 2) \n",
        "    current_player: (batch_size)\n",
        "    \"\"\"\n",
        "    obs, mcts_policy, current_player, value, mask = batch\n",
        "    def loss_fn(params) -> TrainState:\n",
        "        v, p = train_state.apply_fn({\"params\": params}, obs)\n",
        "        value_loss = optax.l2_loss(v.squeeze(), vmap(_get)(value, current_player)) * mask\n",
        "        policy_loss = optax.softmax_cross_entropy(p.squeeze(), mcts_policy) * mask\n",
        "        return (value_loss + policy_loss).mean()  # mask the loss without target value\n",
        "    grad_fn = jax.grad(loss_fn)\n",
        "    grads = grad_fn(train_state.params)\n",
        "    train_state = train_state.apply_gradients(grads=grads)\n",
        "    return train_state\n",
        "\n",
        "\n",
        "def train_epoch(train_state: TrainState, train_data: _TrainData, num_iterations: int) -> TrainState:\n",
        "    \"\"\"\n",
        "    Update parameters using rollout Data\n",
        "    \"\"\"\n",
        "    def loop_fn(i, train_state: TrainState):\n",
        "        batch = _get_batch(train_data, i)\n",
        "        return train_step(train_state, batch)\n",
        "    train_state = jax.lax.fori_loop(0, num_iterations, loop_fn, train_state)\n",
        "    return train_state\n",
        "\n",
        "\n",
        "def train(net: nn.Module, env: pgx.core.Env, key: jnp.ndarray, epochs: int, num_iterations: int, num_simulations: int, batch_size: int):\n",
        "    key, subkey = jax.random.split(key)\n",
        "    train_state = init(net, env, subkey)  # initialize functions\n",
        "    recurrent_fn = make_recurrent_fn(env)  # make recurrent function for mcts\n",
        "    jitted_self_play = jax.jit(partial(self_play, env=env, recurrent_fn=recurrent_fn, num_iterations=num_iterations, num_simulations=num_simulations, batch_size=batch_size))\n",
        "    jitted_preprocess_data = jax.jit(preprocess_data)\n",
        "    jitted_train_epoch = jax.jit(partial(train_epoch, num_iterations=num_iterations))\n",
        "    print(\"warmup_start\")\n",
        "    selfplay_data: _SelfPlayState = jitted_self_play(key=key, train_state=train_state) \n",
        "    train_data: _TrainData = jitted_preprocess_data(selfplay_data)\n",
        "    train_state: TrainState = jitted_train_epoch(train_state=train_state, train_data=train_data)\n",
        "    print(\"warmup end\")\n",
        "    sta=time.time()\n",
        "        \n",
        "    for i in range(epochs):\n",
        "        selfplay_data: _SelfPlayState = jitted_self_play(key=key, train_state=train_state) \n",
        "        train_data: _TrainData = jitted_preprocess_data(selfplay_data)\n",
        "        train_state: TrainState = jitted_train_epoch(train_state=train_state, train_data=train_data)  # update_param\n",
        "        print(i)\n",
        "    end=time.time()\n",
        "    print(f\"train end in {end-sta}\")\n",
        "    return train_state, recurrent_fn"
      ],
      "metadata": {
        "colab": {
          "base_uri": "https://localhost:8080/"
        },
        "id": "QDBIJhdMQzs0",
        "outputId": "d9c6ce18-a6e8-47c9-f658-d7859060a5b4"
      },
      "execution_count": 2,
      "outputs": [
        {
          "output_type": "stream",
          "name": "stderr",
          "text": [
            "/usr/local/lib/python3.9/dist-packages/pgx/_flax/struct.py:142: FutureWarning: jax.tree_util.register_keypaths is deprecated, and will be removed in a future release. Please use `register_pytree_with_keys()` instead.\n",
            "  jax.tree_util.register_keypaths(data_clz, keypaths)\n",
            "/usr/local/lib/python3.9/dist-packages/pgx/_flax/struct.py:142: FutureWarning: jax.tree_util.register_keypaths is deprecated, and will be removed in a future release. Please use `register_pytree_with_keys()` instead.\n",
            "  jax.tree_util.register_keypaths(data_clz, keypaths)\n"
          ]
        }
      ]
    },
    {
      "cell_type": "markdown",
      "source": [
        "**Evaluation code**\n",
        "\n",
        "In this notebook, we evaluate the trained agent by the score against random agent."
      ],
      "metadata": {
        "id": "Ks9Qt8V_RZhI"
      }
    },
    {
      "cell_type": "code",
      "source": [
        "import mctx\n",
        "import jax \n",
        "\n",
        "from jax import vmap\n",
        "from jax import numpy as jnp\n",
        "import pgx\n",
        "from functools import partial\n",
        "from pgx._visualizer import Visualizer\n",
        "from pgx.experimental.visualize import show_state_seq\n",
        "    \n",
        "\n",
        "def set_current_player(state, player):\n",
        "    return state.replace(current_player=jnp.int8(player))\n",
        "\n",
        "def act_randomly(rng: jax.random.KeyArray, state: pgx.State) -> jnp.ndarray:\n",
        "    logits = jnp.log(state.legal_action_mask.astype(jnp.float16))\n",
        "    return jax.random.categorical(rng, logits=logits, axis=1)\n",
        "\n",
        "def mcts(\n",
        "    state: pgx.State,\n",
        "    train_state: TrainState,\n",
        "    rng_key: jnp.ndarray,\n",
        "    recurrent_fn,\n",
        "    num_simulations: int\n",
        ") -> jnp.ndarray:\n",
        "    obs = state.observation  # the obs of current player\n",
        "    rng_key, subkey = jax.random.split(rng_key)\n",
        "    v, p = train_state.apply_fn({\"params\": train_state.params}, obs.astype(float))\n",
        "    root = mctx.RootFnOutput(\n",
        "        prior_logits=p.squeeze(),\n",
        "        value=v.squeeze(),\n",
        "        embedding=state\n",
        "    )\n",
        "    policy_output = mctx.gumbel_muzero_policy(\n",
        "              params=train_state,\n",
        "              rng_key=subkey,\n",
        "              root=root,\n",
        "              recurrent_fn=recurrent_fn,\n",
        "              num_simulations=num_simulations,\n",
        "              invalid_actions=~state.legal_action_mask\n",
        "            )\n",
        "    return policy_output.action\n",
        "\n",
        "\n",
        "def evaluate(env: pgx.core.Env, train_state: TrainState, recurrent_fn, num_simulations: int, game: str,  batch_size=10, visualize_game=True) -> None:\n",
        "    v = Visualizer()\n",
        "    batched_init = jax.jit(jax.vmap(env.init))\n",
        "    batched_step = jax.jit(jax.vmap(env.step, in_axes=(0,0)))\n",
        "    batch_observe = jax.jit(jax.vmap(env.observe))\n",
        "    jitted_mcts = jax.jit(partial(mcts, train_state=train_state, recurrent_fn=recurrent_fn, num_simulations=num_simulations))\n",
        "    rng = jax.random.PRNGKey(0)\n",
        "    rng, subkey = jax.random.split(rng)\n",
        "    subkeys = jax.random.split(subkey, batch_size)\n",
        "\n",
        "    s = batched_init(subkeys)\n",
        "    rng, subkey = jax.random.split(rng)\n",
        "    a = act_randomly(subkey, s)\n",
        "    s = batched_step(s, a)\n",
        "    rng = jax.random.PRNGKey(5)\n",
        "    subkeys = jax.random.split(subkey, batch_size)\n",
        "    state = batched_init(subkeys)\n",
        "    state = jax.vmap(partial(set_current_player, player=0))(state)  # 初期agentのplayeridを0に固定\n",
        "    i = 0\n",
        "    reward = jnp.zeros((batch_size, 2))\n",
        "    while not state.terminated.all():\n",
        "        if i % 2 == 0:  # player_id0がmcts agent\n",
        "            rng, subkey = jax.random.split(rng)\n",
        "            action = jitted_mcts(state=state, rng_key=subkey)\n",
        "        else:\n",
        "            rng, subkey = jax.random.split(rng)\n",
        "            action = act_randomly(subkey, state)\n",
        "        state = batched_step(state, action)\n",
        "        reward = reward + state.reward\n",
        "        print(i)\n",
        "        if visualize_game:\n",
        "            v.save_svg(state, f\"{game}{i:03d}.svg\")\n",
        "            show_state_seq(state)\n",
        "        i += 1\n",
        "\n",
        "    print(f\"average return of mcts agent {jax.vmap(partial(_get, idx=0))(reward).sum()/batch_size} , average return of random agent {jax.vmap(partial(_get, idx=1))(reward).sum()/batch_size}\")"
      ],
      "metadata": {
        "id": "Zw50x9EhRbdw"
      },
      "execution_count": 30,
      "outputs": []
    },
    {
      "cell_type": "code",
      "source": [
        "class ValuePolicyNet(nn.Module):\n",
        "  num_actions: int\n",
        "  \n",
        "  def setup(self):\n",
        "    self.dense1 = nn.Dense(features=64)\n",
        "    self.dense2 = nn.Dense(features=32)\n",
        "    self.action_head = nn.Dense(features=self.num_actions)\n",
        "    self.value_head = nn.Dense(features=1)\n",
        "\n",
        "  @nn.compact\n",
        "  def __call__(self, obs: jnp.ndarray) -> Tuple[jnp.ndarray, jnp.ndarray]:\n",
        "    x = self.dense1(obs)\n",
        "    x = nn.relu(x)\n",
        "    x = self.dense2(x)\n",
        "    x = nn.relu(x)\n",
        "    v = self.value_head(x)\n",
        "    p = self.action_head(x)\n",
        "    return v, p"
      ],
      "metadata": {
        "id": "6z1RdCeQSJuk"
      },
      "execution_count": 28,
      "outputs": []
    },
    {
      "cell_type": "markdown",
      "source": [
        "**Training**\n",
        "\n",
        "Train AlphaZero agent in tic tac toe environment."
      ],
      "metadata": {
        "id": "3WyT5GveTdub"
      }
    },
    {
      "cell_type": "code",
      "source": [
        "num_simulations=300  # the number of maximum length of simulations for one step mcts\n",
        "num_iterations=40  # the length of rollout\n",
        "epochs=3\n",
        "batch_size=100\n",
        "\n",
        "env = pgx.make(\"tic_tac_toe\")\n",
        "net = ValuePolicyNet(num_actions=env.action_shape[0])\n",
        "key = jax.random.PRNGKey(0)\n",
        "\n",
        "\n",
        "train_state, recurrent_fn = train(net, env, key, epochs, num_iterations, num_simulations, batch_size)  # train agent"
      ],
      "metadata": {
        "colab": {
          "base_uri": "https://localhost:8080/"
        },
        "id": "gKnps65iTpC6",
        "outputId": "2a1d4fad-9219-40a7-ea7b-5b36489bbbcf"
      },
      "execution_count": 40,
      "outputs": [
        {
          "output_type": "stream",
          "name": "stdout",
          "text": [
            "warmup_start\n",
            "warmup end\n",
            "0\n",
            "1\n",
            "2\n",
            "train end in 46.856420040130615\n"
          ]
        }
      ]
    },
    {
      "cell_type": "markdown",
      "source": [
        "**Evaluation**\n",
        "\n",
        "Evaluate the trained agent and visualize the paly. In the visualizatioin, \"x\" is the Alphazero agent's move and \"o\" is the random agent's"
      ],
      "metadata": {
        "id": "5ha_SE8dU5OU"
      }
    },
    {
      "cell_type": "code",
      "source": [
        "evaluate(env, train_state, recurrent_fn, num_simulations, \"tic_tac_toe\")"
      ],
      "metadata": {
        "colab": {
          "base_uri": "https://localhost:8080/",
          "height": 1000
        },
        "id": "ZtSfnQJhU_RS",
        "outputId": "9dc4bea6-6fdd-4d29-b793-d426303d5520"
      },
      "execution_count": 41,
      "outputs": [
        {
          "output_type": "stream",
          "name": "stdout",
          "text": [
            "0\n"
          ]
        },
        {
          "output_type": "display_data",
          "data": {
            "image/svg+xml": "<svg baseProfile=\"full\" height=\"720.0\" version=\"1.1\" width=\"960.0\" xmlns=\"http://www.w3.org/2000/svg\" xmlns:ev=\"http://www.w3.org/2001/xml-events\" xmlns:xlink=\"http://www.w3.org/1999/xlink\"><defs /><g transform=\"scale(1.0)\"><rect fill=\"white\" height=\"720\" width=\"960\" x=\"0\" y=\"0\" /><g transform=\"translate(30.0,30.0)\"><g fill=\"black\" id=\"hlines\" stroke=\"black\"><line stroke-width=\"3.0\" x1=\"0\" x2=\"180\" y1=\"60\" y2=\"60\" /><circle cx=\"0\" cy=\"60\" r=\"0.84\" /><circle cx=\"180\" cy=\"60\" r=\"0.84\" /><line stroke-width=\"3.0\" x1=\"0\" x2=\"180\" y1=\"120\" y2=\"120\" /><circle cx=\"0\" cy=\"120\" r=\"0.84\" /><circle cx=\"180\" cy=\"120\" r=\"0.84\" /></g><g fill=\"black\" id=\"vline\" stroke=\"black\"><line stroke-width=\"3.0\" x1=\"60\" x2=\"60\" y1=\"0\" y2=\"180\" /><circle cx=\"60\" cy=\"0\" r=\"0.84\" /><circle cx=\"60\" cy=\"180\" r=\"0.84\" /><line stroke-width=\"3.0\" x1=\"120\" x2=\"120\" y1=\"0\" y2=\"180\" /><circle cx=\"120\" cy=\"0\" r=\"0.84\" /><circle cx=\"120\" cy=\"180\" r=\"0.84\" /></g><line stroke=\"black\" stroke-width=\"3.0\" x1=\"66.0\" x2=\"114.0\" y1=\"66.0\" y2=\"114.0\" /><line stroke=\"black\" stroke-width=\"3.0\" x1=\"66.0\" x2=\"114.0\" y1=\"114.0\" y2=\"66.0\" /></g><rect fill=\"none\" height=\"240\" stroke=\"gray\" width=\"240\" x=\"0\" y=\"0\" /><g transform=\"translate(270.0,30.0)\"><g fill=\"black\" id=\"hlines\" stroke=\"black\"><line stroke-width=\"3.0\" x1=\"0\" x2=\"180\" y1=\"60\" y2=\"60\" /><circle cx=\"0\" cy=\"60\" r=\"0.84\" /><circle cx=\"180\" cy=\"60\" r=\"0.84\" /><line stroke-width=\"3.0\" x1=\"0\" x2=\"180\" y1=\"120\" y2=\"120\" /><circle cx=\"0\" cy=\"120\" r=\"0.84\" /><circle cx=\"180\" cy=\"120\" r=\"0.84\" /></g><g fill=\"black\" id=\"vline\" stroke=\"black\"><line stroke-width=\"3.0\" x1=\"60\" x2=\"60\" y1=\"0\" y2=\"180\" /><circle cx=\"60\" cy=\"0\" r=\"0.84\" /><circle cx=\"60\" cy=\"180\" r=\"0.84\" /><line stroke-width=\"3.0\" x1=\"120\" x2=\"120\" y1=\"0\" y2=\"180\" /><circle cx=\"120\" cy=\"0\" r=\"0.84\" /><circle cx=\"120\" cy=\"180\" r=\"0.84\" /></g><line stroke=\"black\" stroke-width=\"3.0\" x1=\"66.0\" x2=\"114.0\" y1=\"66.0\" y2=\"114.0\" /><line stroke=\"black\" stroke-width=\"3.0\" x1=\"66.0\" x2=\"114.0\" y1=\"114.0\" y2=\"66.0\" /></g><rect fill=\"none\" height=\"240\" stroke=\"gray\" width=\"240\" x=\"240\" y=\"0\" /><g transform=\"translate(510.0,30.0)\"><g fill=\"black\" id=\"hlines\" stroke=\"black\"><line stroke-width=\"3.0\" x1=\"0\" x2=\"180\" y1=\"60\" y2=\"60\" /><circle cx=\"0\" cy=\"60\" r=\"0.84\" /><circle cx=\"180\" cy=\"60\" r=\"0.84\" /><line stroke-width=\"3.0\" x1=\"0\" x2=\"180\" y1=\"120\" y2=\"120\" /><circle cx=\"0\" cy=\"120\" r=\"0.84\" /><circle cx=\"180\" cy=\"120\" r=\"0.84\" /></g><g fill=\"black\" id=\"vline\" stroke=\"black\"><line stroke-width=\"3.0\" x1=\"60\" x2=\"60\" y1=\"0\" y2=\"180\" /><circle cx=\"60\" cy=\"0\" r=\"0.84\" /><circle cx=\"60\" cy=\"180\" r=\"0.84\" /><line stroke-width=\"3.0\" x1=\"120\" x2=\"120\" y1=\"0\" y2=\"180\" /><circle cx=\"120\" cy=\"0\" r=\"0.84\" /><circle cx=\"120\" cy=\"180\" r=\"0.84\" /></g><line stroke=\"black\" stroke-width=\"3.0\" x1=\"66.0\" x2=\"114.0\" y1=\"66.0\" y2=\"114.0\" /><line stroke=\"black\" stroke-width=\"3.0\" x1=\"66.0\" x2=\"114.0\" y1=\"114.0\" y2=\"66.0\" /></g><rect fill=\"none\" height=\"240\" stroke=\"gray\" width=\"240\" x=\"480\" y=\"0\" /><g transform=\"translate(750.0,30.0)\"><g fill=\"black\" id=\"hlines\" stroke=\"black\"><line stroke-width=\"3.0\" x1=\"0\" x2=\"180\" y1=\"60\" y2=\"60\" /><circle cx=\"0\" cy=\"60\" r=\"0.84\" /><circle cx=\"180\" cy=\"60\" r=\"0.84\" /><line stroke-width=\"3.0\" x1=\"0\" x2=\"180\" y1=\"120\" y2=\"120\" /><circle cx=\"0\" cy=\"120\" r=\"0.84\" /><circle cx=\"180\" cy=\"120\" r=\"0.84\" /></g><g fill=\"black\" id=\"vline\" stroke=\"black\"><line stroke-width=\"3.0\" x1=\"60\" x2=\"60\" y1=\"0\" y2=\"180\" /><circle cx=\"60\" cy=\"0\" r=\"0.84\" /><circle cx=\"60\" cy=\"180\" r=\"0.84\" /><line stroke-width=\"3.0\" x1=\"120\" x2=\"120\" y1=\"0\" y2=\"180\" /><circle cx=\"120\" cy=\"0\" r=\"0.84\" /><circle cx=\"120\" cy=\"180\" r=\"0.84\" /></g><line stroke=\"black\" stroke-width=\"3.0\" x1=\"66.0\" x2=\"114.0\" y1=\"66.0\" y2=\"114.0\" /><line stroke=\"black\" stroke-width=\"3.0\" x1=\"66.0\" x2=\"114.0\" y1=\"114.0\" y2=\"66.0\" /></g><rect fill=\"none\" height=\"240\" stroke=\"gray\" width=\"240\" x=\"720\" y=\"0\" /><g transform=\"translate(30.0,270.0)\"><g fill=\"black\" id=\"hlines\" stroke=\"black\"><line stroke-width=\"3.0\" x1=\"0\" x2=\"180\" y1=\"60\" y2=\"60\" /><circle cx=\"0\" cy=\"60\" r=\"0.84\" /><circle cx=\"180\" cy=\"60\" r=\"0.84\" /><line stroke-width=\"3.0\" x1=\"0\" x2=\"180\" y1=\"120\" y2=\"120\" /><circle cx=\"0\" cy=\"120\" r=\"0.84\" /><circle cx=\"180\" cy=\"120\" r=\"0.84\" /></g><g fill=\"black\" id=\"vline\" stroke=\"black\"><line stroke-width=\"3.0\" x1=\"60\" x2=\"60\" y1=\"0\" y2=\"180\" /><circle cx=\"60\" cy=\"0\" r=\"0.84\" /><circle cx=\"60\" cy=\"180\" r=\"0.84\" /><line stroke-width=\"3.0\" x1=\"120\" x2=\"120\" y1=\"0\" y2=\"180\" /><circle cx=\"120\" cy=\"0\" r=\"0.84\" /><circle cx=\"120\" cy=\"180\" r=\"0.84\" /></g><line stroke=\"black\" stroke-width=\"3.0\" x1=\"66.0\" x2=\"114.0\" y1=\"66.0\" y2=\"114.0\" /><line stroke=\"black\" stroke-width=\"3.0\" x1=\"66.0\" x2=\"114.0\" y1=\"114.0\" y2=\"66.0\" /></g><rect fill=\"none\" height=\"240\" stroke=\"gray\" width=\"240\" x=\"0\" y=\"240\" /><g transform=\"translate(270.0,270.0)\"><g fill=\"black\" id=\"hlines\" stroke=\"black\"><line stroke-width=\"3.0\" x1=\"0\" x2=\"180\" y1=\"60\" y2=\"60\" /><circle cx=\"0\" cy=\"60\" r=\"0.84\" /><circle cx=\"180\" cy=\"60\" r=\"0.84\" /><line stroke-width=\"3.0\" x1=\"0\" x2=\"180\" y1=\"120\" y2=\"120\" /><circle cx=\"0\" cy=\"120\" r=\"0.84\" /><circle cx=\"180\" cy=\"120\" r=\"0.84\" /></g><g fill=\"black\" id=\"vline\" stroke=\"black\"><line stroke-width=\"3.0\" x1=\"60\" x2=\"60\" y1=\"0\" y2=\"180\" /><circle cx=\"60\" cy=\"0\" r=\"0.84\" /><circle cx=\"60\" cy=\"180\" r=\"0.84\" /><line stroke-width=\"3.0\" x1=\"120\" x2=\"120\" y1=\"0\" y2=\"180\" /><circle cx=\"120\" cy=\"0\" r=\"0.84\" /><circle cx=\"120\" cy=\"180\" r=\"0.84\" /></g><line stroke=\"black\" stroke-width=\"3.0\" x1=\"66.0\" x2=\"114.0\" y1=\"66.0\" y2=\"114.0\" /><line stroke=\"black\" stroke-width=\"3.0\" x1=\"66.0\" x2=\"114.0\" y1=\"114.0\" y2=\"66.0\" /></g><rect fill=\"none\" height=\"240\" stroke=\"gray\" width=\"240\" x=\"240\" y=\"240\" /><g transform=\"translate(510.0,270.0)\"><g fill=\"black\" id=\"hlines\" stroke=\"black\"><line stroke-width=\"3.0\" x1=\"0\" x2=\"180\" y1=\"60\" y2=\"60\" /><circle cx=\"0\" cy=\"60\" r=\"0.84\" /><circle cx=\"180\" cy=\"60\" r=\"0.84\" /><line stroke-width=\"3.0\" x1=\"0\" x2=\"180\" y1=\"120\" y2=\"120\" /><circle cx=\"0\" cy=\"120\" r=\"0.84\" /><circle cx=\"180\" cy=\"120\" r=\"0.84\" /></g><g fill=\"black\" id=\"vline\" stroke=\"black\"><line stroke-width=\"3.0\" x1=\"60\" x2=\"60\" y1=\"0\" y2=\"180\" /><circle cx=\"60\" cy=\"0\" r=\"0.84\" /><circle cx=\"60\" cy=\"180\" r=\"0.84\" /><line stroke-width=\"3.0\" x1=\"120\" x2=\"120\" y1=\"0\" y2=\"180\" /><circle cx=\"120\" cy=\"0\" r=\"0.84\" /><circle cx=\"120\" cy=\"180\" r=\"0.84\" /></g><line stroke=\"black\" stroke-width=\"3.0\" x1=\"66.0\" x2=\"114.0\" y1=\"66.0\" y2=\"114.0\" /><line stroke=\"black\" stroke-width=\"3.0\" x1=\"66.0\" x2=\"114.0\" y1=\"114.0\" y2=\"66.0\" /></g><rect fill=\"none\" height=\"240\" stroke=\"gray\" width=\"240\" x=\"480\" y=\"240\" /><g transform=\"translate(750.0,270.0)\"><g fill=\"black\" id=\"hlines\" stroke=\"black\"><line stroke-width=\"3.0\" x1=\"0\" x2=\"180\" y1=\"60\" y2=\"60\" /><circle cx=\"0\" cy=\"60\" r=\"0.84\" /><circle cx=\"180\" cy=\"60\" r=\"0.84\" /><line stroke-width=\"3.0\" x1=\"0\" x2=\"180\" y1=\"120\" y2=\"120\" /><circle cx=\"0\" cy=\"120\" r=\"0.84\" /><circle cx=\"180\" cy=\"120\" r=\"0.84\" /></g><g fill=\"black\" id=\"vline\" stroke=\"black\"><line stroke-width=\"3.0\" x1=\"60\" x2=\"60\" y1=\"0\" y2=\"180\" /><circle cx=\"60\" cy=\"0\" r=\"0.84\" /><circle cx=\"60\" cy=\"180\" r=\"0.84\" /><line stroke-width=\"3.0\" x1=\"120\" x2=\"120\" y1=\"0\" y2=\"180\" /><circle cx=\"120\" cy=\"0\" r=\"0.84\" /><circle cx=\"120\" cy=\"180\" r=\"0.84\" /></g><line stroke=\"black\" stroke-width=\"3.0\" x1=\"66.0\" x2=\"114.0\" y1=\"66.0\" y2=\"114.0\" /><line stroke=\"black\" stroke-width=\"3.0\" x1=\"66.0\" x2=\"114.0\" y1=\"114.0\" y2=\"66.0\" /></g><rect fill=\"none\" height=\"240\" stroke=\"gray\" width=\"240\" x=\"720\" y=\"240\" /><g transform=\"translate(30.0,510.0)\"><g fill=\"black\" id=\"hlines\" stroke=\"black\"><line stroke-width=\"3.0\" x1=\"0\" x2=\"180\" y1=\"60\" y2=\"60\" /><circle cx=\"0\" cy=\"60\" r=\"0.84\" /><circle cx=\"180\" cy=\"60\" r=\"0.84\" /><line stroke-width=\"3.0\" x1=\"0\" x2=\"180\" y1=\"120\" y2=\"120\" /><circle cx=\"0\" cy=\"120\" r=\"0.84\" /><circle cx=\"180\" cy=\"120\" r=\"0.84\" /></g><g fill=\"black\" id=\"vline\" stroke=\"black\"><line stroke-width=\"3.0\" x1=\"60\" x2=\"60\" y1=\"0\" y2=\"180\" /><circle cx=\"60\" cy=\"0\" r=\"0.84\" /><circle cx=\"60\" cy=\"180\" r=\"0.84\" /><line stroke-width=\"3.0\" x1=\"120\" x2=\"120\" y1=\"0\" y2=\"180\" /><circle cx=\"120\" cy=\"0\" r=\"0.84\" /><circle cx=\"120\" cy=\"180\" r=\"0.84\" /></g><line stroke=\"black\" stroke-width=\"3.0\" x1=\"66.0\" x2=\"114.0\" y1=\"66.0\" y2=\"114.0\" /><line stroke=\"black\" stroke-width=\"3.0\" x1=\"66.0\" x2=\"114.0\" y1=\"114.0\" y2=\"66.0\" /></g><rect fill=\"none\" height=\"240\" stroke=\"gray\" width=\"240\" x=\"0\" y=\"480\" /><g transform=\"translate(270.0,510.0)\"><g fill=\"black\" id=\"hlines\" stroke=\"black\"><line stroke-width=\"3.0\" x1=\"0\" x2=\"180\" y1=\"60\" y2=\"60\" /><circle cx=\"0\" cy=\"60\" r=\"0.84\" /><circle cx=\"180\" cy=\"60\" r=\"0.84\" /><line stroke-width=\"3.0\" x1=\"0\" x2=\"180\" y1=\"120\" y2=\"120\" /><circle cx=\"0\" cy=\"120\" r=\"0.84\" /><circle cx=\"180\" cy=\"120\" r=\"0.84\" /></g><g fill=\"black\" id=\"vline\" stroke=\"black\"><line stroke-width=\"3.0\" x1=\"60\" x2=\"60\" y1=\"0\" y2=\"180\" /><circle cx=\"60\" cy=\"0\" r=\"0.84\" /><circle cx=\"60\" cy=\"180\" r=\"0.84\" /><line stroke-width=\"3.0\" x1=\"120\" x2=\"120\" y1=\"0\" y2=\"180\" /><circle cx=\"120\" cy=\"0\" r=\"0.84\" /><circle cx=\"120\" cy=\"180\" r=\"0.84\" /></g><line stroke=\"black\" stroke-width=\"3.0\" x1=\"66.0\" x2=\"114.0\" y1=\"66.0\" y2=\"114.0\" /><line stroke=\"black\" stroke-width=\"3.0\" x1=\"66.0\" x2=\"114.0\" y1=\"114.0\" y2=\"66.0\" /></g><rect fill=\"none\" height=\"240\" stroke=\"gray\" width=\"240\" x=\"240\" y=\"480\" /></g></svg>"
          },
          "metadata": {}
        },
        {
          "output_type": "stream",
          "name": "stdout",
          "text": [
            "1\n"
          ]
        },
        {
          "output_type": "display_data",
          "data": {
            "image/svg+xml": "<svg baseProfile=\"full\" height=\"720.0\" version=\"1.1\" width=\"960.0\" xmlns=\"http://www.w3.org/2000/svg\" xmlns:ev=\"http://www.w3.org/2001/xml-events\" xmlns:xlink=\"http://www.w3.org/1999/xlink\"><defs /><g transform=\"scale(1.0)\"><rect fill=\"white\" height=\"720\" width=\"960\" x=\"0\" y=\"0\" /><g transform=\"translate(30.0,30.0)\"><g fill=\"black\" id=\"hlines\" stroke=\"black\"><line stroke-width=\"3.0\" x1=\"0\" x2=\"180\" y1=\"60\" y2=\"60\" /><circle cx=\"0\" cy=\"60\" r=\"0.84\" /><circle cx=\"180\" cy=\"60\" r=\"0.84\" /><line stroke-width=\"3.0\" x1=\"0\" x2=\"180\" y1=\"120\" y2=\"120\" /><circle cx=\"0\" cy=\"120\" r=\"0.84\" /><circle cx=\"180\" cy=\"120\" r=\"0.84\" /></g><g fill=\"black\" id=\"vline\" stroke=\"black\"><line stroke-width=\"3.0\" x1=\"60\" x2=\"60\" y1=\"0\" y2=\"180\" /><circle cx=\"60\" cy=\"0\" r=\"0.84\" /><circle cx=\"60\" cy=\"180\" r=\"0.84\" /><line stroke-width=\"3.0\" x1=\"120\" x2=\"120\" y1=\"0\" y2=\"180\" /><circle cx=\"120\" cy=\"0\" r=\"0.84\" /><circle cx=\"120\" cy=\"180\" r=\"0.84\" /></g><line stroke=\"black\" stroke-width=\"3.0\" x1=\"66.0\" x2=\"114.0\" y1=\"66.0\" y2=\"114.0\" /><line stroke=\"black\" stroke-width=\"3.0\" x1=\"66.0\" x2=\"114.0\" y1=\"114.0\" y2=\"66.0\" /><circle cx=\"150.0\" cy=\"90.0\" fill=\"none\" r=\"24.0\" stroke=\"black\" stroke-width=\"3.0\" /></g><rect fill=\"none\" height=\"240\" stroke=\"gray\" width=\"240\" x=\"0\" y=\"0\" /><g transform=\"translate(270.0,30.0)\"><g fill=\"black\" id=\"hlines\" stroke=\"black\"><line stroke-width=\"3.0\" x1=\"0\" x2=\"180\" y1=\"60\" y2=\"60\" /><circle cx=\"0\" cy=\"60\" r=\"0.84\" /><circle cx=\"180\" cy=\"60\" r=\"0.84\" /><line stroke-width=\"3.0\" x1=\"0\" x2=\"180\" y1=\"120\" y2=\"120\" /><circle cx=\"0\" cy=\"120\" r=\"0.84\" /><circle cx=\"180\" cy=\"120\" r=\"0.84\" /></g><g fill=\"black\" id=\"vline\" stroke=\"black\"><line stroke-width=\"3.0\" x1=\"60\" x2=\"60\" y1=\"0\" y2=\"180\" /><circle cx=\"60\" cy=\"0\" r=\"0.84\" /><circle cx=\"60\" cy=\"180\" r=\"0.84\" /><line stroke-width=\"3.0\" x1=\"120\" x2=\"120\" y1=\"0\" y2=\"180\" /><circle cx=\"120\" cy=\"0\" r=\"0.84\" /><circle cx=\"120\" cy=\"180\" r=\"0.84\" /></g><line stroke=\"black\" stroke-width=\"3.0\" x1=\"66.0\" x2=\"114.0\" y1=\"66.0\" y2=\"114.0\" /><line stroke=\"black\" stroke-width=\"3.0\" x1=\"66.0\" x2=\"114.0\" y1=\"114.0\" y2=\"66.0\" /><circle cx=\"150.0\" cy=\"150.0\" fill=\"none\" r=\"24.0\" stroke=\"black\" stroke-width=\"3.0\" /></g><rect fill=\"none\" height=\"240\" stroke=\"gray\" width=\"240\" x=\"240\" y=\"0\" /><g transform=\"translate(510.0,30.0)\"><g fill=\"black\" id=\"hlines\" stroke=\"black\"><line stroke-width=\"3.0\" x1=\"0\" x2=\"180\" y1=\"60\" y2=\"60\" /><circle cx=\"0\" cy=\"60\" r=\"0.84\" /><circle cx=\"180\" cy=\"60\" r=\"0.84\" /><line stroke-width=\"3.0\" x1=\"0\" x2=\"180\" y1=\"120\" y2=\"120\" /><circle cx=\"0\" cy=\"120\" r=\"0.84\" /><circle cx=\"180\" cy=\"120\" r=\"0.84\" /></g><g fill=\"black\" id=\"vline\" stroke=\"black\"><line stroke-width=\"3.0\" x1=\"60\" x2=\"60\" y1=\"0\" y2=\"180\" /><circle cx=\"60\" cy=\"0\" r=\"0.84\" /><circle cx=\"60\" cy=\"180\" r=\"0.84\" /><line stroke-width=\"3.0\" x1=\"120\" x2=\"120\" y1=\"0\" y2=\"180\" /><circle cx=\"120\" cy=\"0\" r=\"0.84\" /><circle cx=\"120\" cy=\"180\" r=\"0.84\" /></g><circle cx=\"30.0\" cy=\"90.0\" fill=\"none\" r=\"24.0\" stroke=\"black\" stroke-width=\"3.0\" /><line stroke=\"black\" stroke-width=\"3.0\" x1=\"66.0\" x2=\"114.0\" y1=\"66.0\" y2=\"114.0\" /><line stroke=\"black\" stroke-width=\"3.0\" x1=\"66.0\" x2=\"114.0\" y1=\"114.0\" y2=\"66.0\" /></g><rect fill=\"none\" height=\"240\" stroke=\"gray\" width=\"240\" x=\"480\" y=\"0\" /><g transform=\"translate(750.0,30.0)\"><g fill=\"black\" id=\"hlines\" stroke=\"black\"><line stroke-width=\"3.0\" x1=\"0\" x2=\"180\" y1=\"60\" y2=\"60\" /><circle cx=\"0\" cy=\"60\" r=\"0.84\" /><circle cx=\"180\" cy=\"60\" r=\"0.84\" /><line stroke-width=\"3.0\" x1=\"0\" x2=\"180\" y1=\"120\" y2=\"120\" /><circle cx=\"0\" cy=\"120\" r=\"0.84\" /><circle cx=\"180\" cy=\"120\" r=\"0.84\" /></g><g fill=\"black\" id=\"vline\" stroke=\"black\"><line stroke-width=\"3.0\" x1=\"60\" x2=\"60\" y1=\"0\" y2=\"180\" /><circle cx=\"60\" cy=\"0\" r=\"0.84\" /><circle cx=\"60\" cy=\"180\" r=\"0.84\" /><line stroke-width=\"3.0\" x1=\"120\" x2=\"120\" y1=\"0\" y2=\"180\" /><circle cx=\"120\" cy=\"0\" r=\"0.84\" /><circle cx=\"120\" cy=\"180\" r=\"0.84\" /></g><circle cx=\"150.0\" cy=\"30.0\" fill=\"none\" r=\"24.0\" stroke=\"black\" stroke-width=\"3.0\" /><line stroke=\"black\" stroke-width=\"3.0\" x1=\"66.0\" x2=\"114.0\" y1=\"66.0\" y2=\"114.0\" /><line stroke=\"black\" stroke-width=\"3.0\" x1=\"66.0\" x2=\"114.0\" y1=\"114.0\" y2=\"66.0\" /></g><rect fill=\"none\" height=\"240\" stroke=\"gray\" width=\"240\" x=\"720\" y=\"0\" /><g transform=\"translate(30.0,270.0)\"><g fill=\"black\" id=\"hlines\" stroke=\"black\"><line stroke-width=\"3.0\" x1=\"0\" x2=\"180\" y1=\"60\" y2=\"60\" /><circle cx=\"0\" cy=\"60\" r=\"0.84\" /><circle cx=\"180\" cy=\"60\" r=\"0.84\" /><line stroke-width=\"3.0\" x1=\"0\" x2=\"180\" y1=\"120\" y2=\"120\" /><circle cx=\"0\" cy=\"120\" r=\"0.84\" /><circle cx=\"180\" cy=\"120\" r=\"0.84\" /></g><g fill=\"black\" id=\"vline\" stroke=\"black\"><line stroke-width=\"3.0\" x1=\"60\" x2=\"60\" y1=\"0\" y2=\"180\" /><circle cx=\"60\" cy=\"0\" r=\"0.84\" /><circle cx=\"60\" cy=\"180\" r=\"0.84\" /><line stroke-width=\"3.0\" x1=\"120\" x2=\"120\" y1=\"0\" y2=\"180\" /><circle cx=\"120\" cy=\"0\" r=\"0.84\" /><circle cx=\"120\" cy=\"180\" r=\"0.84\" /></g><line stroke=\"black\" stroke-width=\"3.0\" x1=\"66.0\" x2=\"114.0\" y1=\"66.0\" y2=\"114.0\" /><line stroke=\"black\" stroke-width=\"3.0\" x1=\"66.0\" x2=\"114.0\" y1=\"114.0\" y2=\"66.0\" /><circle cx=\"150.0\" cy=\"150.0\" fill=\"none\" r=\"24.0\" stroke=\"black\" stroke-width=\"3.0\" /></g><rect fill=\"none\" height=\"240\" stroke=\"gray\" width=\"240\" x=\"0\" y=\"240\" /><g transform=\"translate(270.0,270.0)\"><g fill=\"black\" id=\"hlines\" stroke=\"black\"><line stroke-width=\"3.0\" x1=\"0\" x2=\"180\" y1=\"60\" y2=\"60\" /><circle cx=\"0\" cy=\"60\" r=\"0.84\" /><circle cx=\"180\" cy=\"60\" r=\"0.84\" /><line stroke-width=\"3.0\" x1=\"0\" x2=\"180\" y1=\"120\" y2=\"120\" /><circle cx=\"0\" cy=\"120\" r=\"0.84\" /><circle cx=\"180\" cy=\"120\" r=\"0.84\" /></g><g fill=\"black\" id=\"vline\" stroke=\"black\"><line stroke-width=\"3.0\" x1=\"60\" x2=\"60\" y1=\"0\" y2=\"180\" /><circle cx=\"60\" cy=\"0\" r=\"0.84\" /><circle cx=\"60\" cy=\"180\" r=\"0.84\" /><line stroke-width=\"3.0\" x1=\"120\" x2=\"120\" y1=\"0\" y2=\"180\" /><circle cx=\"120\" cy=\"0\" r=\"0.84\" /><circle cx=\"120\" cy=\"180\" r=\"0.84\" /></g><circle cx=\"30.0\" cy=\"90.0\" fill=\"none\" r=\"24.0\" stroke=\"black\" stroke-width=\"3.0\" /><line stroke=\"black\" stroke-width=\"3.0\" x1=\"66.0\" x2=\"114.0\" y1=\"66.0\" y2=\"114.0\" /><line stroke=\"black\" stroke-width=\"3.0\" x1=\"66.0\" x2=\"114.0\" y1=\"114.0\" y2=\"66.0\" /></g><rect fill=\"none\" height=\"240\" stroke=\"gray\" width=\"240\" x=\"240\" y=\"240\" /><g transform=\"translate(510.0,270.0)\"><g fill=\"black\" id=\"hlines\" stroke=\"black\"><line stroke-width=\"3.0\" x1=\"0\" x2=\"180\" y1=\"60\" y2=\"60\" /><circle cx=\"0\" cy=\"60\" r=\"0.84\" /><circle cx=\"180\" cy=\"60\" r=\"0.84\" /><line stroke-width=\"3.0\" x1=\"0\" x2=\"180\" y1=\"120\" y2=\"120\" /><circle cx=\"0\" cy=\"120\" r=\"0.84\" /><circle cx=\"180\" cy=\"120\" r=\"0.84\" /></g><g fill=\"black\" id=\"vline\" stroke=\"black\"><line stroke-width=\"3.0\" x1=\"60\" x2=\"60\" y1=\"0\" y2=\"180\" /><circle cx=\"60\" cy=\"0\" r=\"0.84\" /><circle cx=\"60\" cy=\"180\" r=\"0.84\" /><line stroke-width=\"3.0\" x1=\"120\" x2=\"120\" y1=\"0\" y2=\"180\" /><circle cx=\"120\" cy=\"0\" r=\"0.84\" /><circle cx=\"120\" cy=\"180\" r=\"0.84\" /></g><circle cx=\"30.0\" cy=\"30.0\" fill=\"none\" r=\"24.0\" stroke=\"black\" stroke-width=\"3.0\" /><line stroke=\"black\" stroke-width=\"3.0\" x1=\"66.0\" x2=\"114.0\" y1=\"66.0\" y2=\"114.0\" /><line stroke=\"black\" stroke-width=\"3.0\" x1=\"66.0\" x2=\"114.0\" y1=\"114.0\" y2=\"66.0\" /></g><rect fill=\"none\" height=\"240\" stroke=\"gray\" width=\"240\" x=\"480\" y=\"240\" /><g transform=\"translate(750.0,270.0)\"><g fill=\"black\" id=\"hlines\" stroke=\"black\"><line stroke-width=\"3.0\" x1=\"0\" x2=\"180\" y1=\"60\" y2=\"60\" /><circle cx=\"0\" cy=\"60\" r=\"0.84\" /><circle cx=\"180\" cy=\"60\" r=\"0.84\" /><line stroke-width=\"3.0\" x1=\"0\" x2=\"180\" y1=\"120\" y2=\"120\" /><circle cx=\"0\" cy=\"120\" r=\"0.84\" /><circle cx=\"180\" cy=\"120\" r=\"0.84\" /></g><g fill=\"black\" id=\"vline\" stroke=\"black\"><line stroke-width=\"3.0\" x1=\"60\" x2=\"60\" y1=\"0\" y2=\"180\" /><circle cx=\"60\" cy=\"0\" r=\"0.84\" /><circle cx=\"60\" cy=\"180\" r=\"0.84\" /><line stroke-width=\"3.0\" x1=\"120\" x2=\"120\" y1=\"0\" y2=\"180\" /><circle cx=\"120\" cy=\"0\" r=\"0.84\" /><circle cx=\"120\" cy=\"180\" r=\"0.84\" /></g><circle cx=\"30.0\" cy=\"30.0\" fill=\"none\" r=\"24.0\" stroke=\"black\" stroke-width=\"3.0\" /><line stroke=\"black\" stroke-width=\"3.0\" x1=\"66.0\" x2=\"114.0\" y1=\"66.0\" y2=\"114.0\" /><line stroke=\"black\" stroke-width=\"3.0\" x1=\"66.0\" x2=\"114.0\" y1=\"114.0\" y2=\"66.0\" /></g><rect fill=\"none\" height=\"240\" stroke=\"gray\" width=\"240\" x=\"720\" y=\"240\" /><g transform=\"translate(30.0,510.0)\"><g fill=\"black\" id=\"hlines\" stroke=\"black\"><line stroke-width=\"3.0\" x1=\"0\" x2=\"180\" y1=\"60\" y2=\"60\" /><circle cx=\"0\" cy=\"60\" r=\"0.84\" /><circle cx=\"180\" cy=\"60\" r=\"0.84\" /><line stroke-width=\"3.0\" x1=\"0\" x2=\"180\" y1=\"120\" y2=\"120\" /><circle cx=\"0\" cy=\"120\" r=\"0.84\" /><circle cx=\"180\" cy=\"120\" r=\"0.84\" /></g><g fill=\"black\" id=\"vline\" stroke=\"black\"><line stroke-width=\"3.0\" x1=\"60\" x2=\"60\" y1=\"0\" y2=\"180\" /><circle cx=\"60\" cy=\"0\" r=\"0.84\" /><circle cx=\"60\" cy=\"180\" r=\"0.84\" /><line stroke-width=\"3.0\" x1=\"120\" x2=\"120\" y1=\"0\" y2=\"180\" /><circle cx=\"120\" cy=\"0\" r=\"0.84\" /><circle cx=\"120\" cy=\"180\" r=\"0.84\" /></g><line stroke=\"black\" stroke-width=\"3.0\" x1=\"66.0\" x2=\"114.0\" y1=\"66.0\" y2=\"114.0\" /><line stroke=\"black\" stroke-width=\"3.0\" x1=\"66.0\" x2=\"114.0\" y1=\"114.0\" y2=\"66.0\" /><circle cx=\"150.0\" cy=\"90.0\" fill=\"none\" r=\"24.0\" stroke=\"black\" stroke-width=\"3.0\" /></g><rect fill=\"none\" height=\"240\" stroke=\"gray\" width=\"240\" x=\"0\" y=\"480\" /><g transform=\"translate(270.0,510.0)\"><g fill=\"black\" id=\"hlines\" stroke=\"black\"><line stroke-width=\"3.0\" x1=\"0\" x2=\"180\" y1=\"60\" y2=\"60\" /><circle cx=\"0\" cy=\"60\" r=\"0.84\" /><circle cx=\"180\" cy=\"60\" r=\"0.84\" /><line stroke-width=\"3.0\" x1=\"0\" x2=\"180\" y1=\"120\" y2=\"120\" /><circle cx=\"0\" cy=\"120\" r=\"0.84\" /><circle cx=\"180\" cy=\"120\" r=\"0.84\" /></g><g fill=\"black\" id=\"vline\" stroke=\"black\"><line stroke-width=\"3.0\" x1=\"60\" x2=\"60\" y1=\"0\" y2=\"180\" /><circle cx=\"60\" cy=\"0\" r=\"0.84\" /><circle cx=\"60\" cy=\"180\" r=\"0.84\" /><line stroke-width=\"3.0\" x1=\"120\" x2=\"120\" y1=\"0\" y2=\"180\" /><circle cx=\"120\" cy=\"0\" r=\"0.84\" /><circle cx=\"120\" cy=\"180\" r=\"0.84\" /></g><circle cx=\"90.0\" cy=\"30.0\" fill=\"none\" r=\"24.0\" stroke=\"black\" stroke-width=\"3.0\" /><line stroke=\"black\" stroke-width=\"3.0\" x1=\"66.0\" x2=\"114.0\" y1=\"66.0\" y2=\"114.0\" /><line stroke=\"black\" stroke-width=\"3.0\" x1=\"66.0\" x2=\"114.0\" y1=\"114.0\" y2=\"66.0\" /></g><rect fill=\"none\" height=\"240\" stroke=\"gray\" width=\"240\" x=\"240\" y=\"480\" /></g></svg>"
          },
          "metadata": {}
        },
        {
          "output_type": "stream",
          "name": "stdout",
          "text": [
            "2\n"
          ]
        },
        {
          "output_type": "display_data",
          "data": {
            "image/svg+xml": "<svg baseProfile=\"full\" height=\"720.0\" version=\"1.1\" width=\"960.0\" xmlns=\"http://www.w3.org/2000/svg\" xmlns:ev=\"http://www.w3.org/2001/xml-events\" xmlns:xlink=\"http://www.w3.org/1999/xlink\"><defs /><g transform=\"scale(1.0)\"><rect fill=\"white\" height=\"720\" width=\"960\" x=\"0\" y=\"0\" /><g transform=\"translate(30.0,30.0)\"><g fill=\"black\" id=\"hlines\" stroke=\"black\"><line stroke-width=\"3.0\" x1=\"0\" x2=\"180\" y1=\"60\" y2=\"60\" /><circle cx=\"0\" cy=\"60\" r=\"0.84\" /><circle cx=\"180\" cy=\"60\" r=\"0.84\" /><line stroke-width=\"3.0\" x1=\"0\" x2=\"180\" y1=\"120\" y2=\"120\" /><circle cx=\"0\" cy=\"120\" r=\"0.84\" /><circle cx=\"180\" cy=\"120\" r=\"0.84\" /></g><g fill=\"black\" id=\"vline\" stroke=\"black\"><line stroke-width=\"3.0\" x1=\"60\" x2=\"60\" y1=\"0\" y2=\"180\" /><circle cx=\"60\" cy=\"0\" r=\"0.84\" /><circle cx=\"60\" cy=\"180\" r=\"0.84\" /><line stroke-width=\"3.0\" x1=\"120\" x2=\"120\" y1=\"0\" y2=\"180\" /><circle cx=\"120\" cy=\"0\" r=\"0.84\" /><circle cx=\"120\" cy=\"180\" r=\"0.84\" /></g><line stroke=\"black\" stroke-width=\"3.0\" x1=\"66.0\" x2=\"114.0\" y1=\"6.0\" y2=\"54.0\" /><line stroke=\"black\" stroke-width=\"3.0\" x1=\"66.0\" x2=\"114.0\" y1=\"54.0\" y2=\"6.0\" /><line stroke=\"black\" stroke-width=\"3.0\" x1=\"66.0\" x2=\"114.0\" y1=\"66.0\" y2=\"114.0\" /><line stroke=\"black\" stroke-width=\"3.0\" x1=\"66.0\" x2=\"114.0\" y1=\"114.0\" y2=\"66.0\" /><circle cx=\"150.0\" cy=\"90.0\" fill=\"none\" r=\"24.0\" stroke=\"black\" stroke-width=\"3.0\" /></g><rect fill=\"none\" height=\"240\" stroke=\"gray\" width=\"240\" x=\"0\" y=\"0\" /><g transform=\"translate(270.0,30.0)\"><g fill=\"black\" id=\"hlines\" stroke=\"black\"><line stroke-width=\"3.0\" x1=\"0\" x2=\"180\" y1=\"60\" y2=\"60\" /><circle cx=\"0\" cy=\"60\" r=\"0.84\" /><circle cx=\"180\" cy=\"60\" r=\"0.84\" /><line stroke-width=\"3.0\" x1=\"0\" x2=\"180\" y1=\"120\" y2=\"120\" /><circle cx=\"0\" cy=\"120\" r=\"0.84\" /><circle cx=\"180\" cy=\"120\" r=\"0.84\" /></g><g fill=\"black\" id=\"vline\" stroke=\"black\"><line stroke-width=\"3.0\" x1=\"60\" x2=\"60\" y1=\"0\" y2=\"180\" /><circle cx=\"60\" cy=\"0\" r=\"0.84\" /><circle cx=\"60\" cy=\"180\" r=\"0.84\" /><line stroke-width=\"3.0\" x1=\"120\" x2=\"120\" y1=\"0\" y2=\"180\" /><circle cx=\"120\" cy=\"0\" r=\"0.84\" /><circle cx=\"120\" cy=\"180\" r=\"0.84\" /></g><line stroke=\"black\" stroke-width=\"3.0\" x1=\"66.0\" x2=\"114.0\" y1=\"66.0\" y2=\"114.0\" /><line stroke=\"black\" stroke-width=\"3.0\" x1=\"66.0\" x2=\"114.0\" y1=\"114.0\" y2=\"66.0\" /><line stroke=\"black\" stroke-width=\"3.0\" x1=\"66.0\" x2=\"114.0\" y1=\"126.0\" y2=\"174.0\" /><line stroke=\"black\" stroke-width=\"3.0\" x1=\"66.0\" x2=\"114.0\" y1=\"174.0\" y2=\"126.0\" /><circle cx=\"150.0\" cy=\"150.0\" fill=\"none\" r=\"24.0\" stroke=\"black\" stroke-width=\"3.0\" /></g><rect fill=\"none\" height=\"240\" stroke=\"gray\" width=\"240\" x=\"240\" y=\"0\" /><g transform=\"translate(510.0,30.0)\"><g fill=\"black\" id=\"hlines\" stroke=\"black\"><line stroke-width=\"3.0\" x1=\"0\" x2=\"180\" y1=\"60\" y2=\"60\" /><circle cx=\"0\" cy=\"60\" r=\"0.84\" /><circle cx=\"180\" cy=\"60\" r=\"0.84\" /><line stroke-width=\"3.0\" x1=\"0\" x2=\"180\" y1=\"120\" y2=\"120\" /><circle cx=\"0\" cy=\"120\" r=\"0.84\" /><circle cx=\"180\" cy=\"120\" r=\"0.84\" /></g><g fill=\"black\" id=\"vline\" stroke=\"black\"><line stroke-width=\"3.0\" x1=\"60\" x2=\"60\" y1=\"0\" y2=\"180\" /><circle cx=\"60\" cy=\"0\" r=\"0.84\" /><circle cx=\"60\" cy=\"180\" r=\"0.84\" /><line stroke-width=\"3.0\" x1=\"120\" x2=\"120\" y1=\"0\" y2=\"180\" /><circle cx=\"120\" cy=\"0\" r=\"0.84\" /><circle cx=\"120\" cy=\"180\" r=\"0.84\" /></g><line stroke=\"black\" stroke-width=\"3.0\" x1=\"6.0\" x2=\"54.0\" y1=\"6.0\" y2=\"54.0\" /><line stroke=\"black\" stroke-width=\"3.0\" x1=\"6.0\" x2=\"54.0\" y1=\"54.0\" y2=\"6.0\" /><circle cx=\"30.0\" cy=\"90.0\" fill=\"none\" r=\"24.0\" stroke=\"black\" stroke-width=\"3.0\" /><line stroke=\"black\" stroke-width=\"3.0\" x1=\"66.0\" x2=\"114.0\" y1=\"66.0\" y2=\"114.0\" /><line stroke=\"black\" stroke-width=\"3.0\" x1=\"66.0\" x2=\"114.0\" y1=\"114.0\" y2=\"66.0\" /></g><rect fill=\"none\" height=\"240\" stroke=\"gray\" width=\"240\" x=\"480\" y=\"0\" /><g transform=\"translate(750.0,30.0)\"><g fill=\"black\" id=\"hlines\" stroke=\"black\"><line stroke-width=\"3.0\" x1=\"0\" x2=\"180\" y1=\"60\" y2=\"60\" /><circle cx=\"0\" cy=\"60\" r=\"0.84\" /><circle cx=\"180\" cy=\"60\" r=\"0.84\" /><line stroke-width=\"3.0\" x1=\"0\" x2=\"180\" y1=\"120\" y2=\"120\" /><circle cx=\"0\" cy=\"120\" r=\"0.84\" /><circle cx=\"180\" cy=\"120\" r=\"0.84\" /></g><g fill=\"black\" id=\"vline\" stroke=\"black\"><line stroke-width=\"3.0\" x1=\"60\" x2=\"60\" y1=\"0\" y2=\"180\" /><circle cx=\"60\" cy=\"0\" r=\"0.84\" /><circle cx=\"60\" cy=\"180\" r=\"0.84\" /><line stroke-width=\"3.0\" x1=\"120\" x2=\"120\" y1=\"0\" y2=\"180\" /><circle cx=\"120\" cy=\"0\" r=\"0.84\" /><circle cx=\"120\" cy=\"180\" r=\"0.84\" /></g><circle cx=\"150.0\" cy=\"30.0\" fill=\"none\" r=\"24.0\" stroke=\"black\" stroke-width=\"3.0\" /><line stroke=\"black\" stroke-width=\"3.0\" x1=\"6.0\" x2=\"54.0\" y1=\"66.0\" y2=\"114.0\" /><line stroke=\"black\" stroke-width=\"3.0\" x1=\"6.0\" x2=\"54.0\" y1=\"114.0\" y2=\"66.0\" /><line stroke=\"black\" stroke-width=\"3.0\" x1=\"66.0\" x2=\"114.0\" y1=\"66.0\" y2=\"114.0\" /><line stroke=\"black\" stroke-width=\"3.0\" x1=\"66.0\" x2=\"114.0\" y1=\"114.0\" y2=\"66.0\" /></g><rect fill=\"none\" height=\"240\" stroke=\"gray\" width=\"240\" x=\"720\" y=\"0\" /><g transform=\"translate(30.0,270.0)\"><g fill=\"black\" id=\"hlines\" stroke=\"black\"><line stroke-width=\"3.0\" x1=\"0\" x2=\"180\" y1=\"60\" y2=\"60\" /><circle cx=\"0\" cy=\"60\" r=\"0.84\" /><circle cx=\"180\" cy=\"60\" r=\"0.84\" /><line stroke-width=\"3.0\" x1=\"0\" x2=\"180\" y1=\"120\" y2=\"120\" /><circle cx=\"0\" cy=\"120\" r=\"0.84\" /><circle cx=\"180\" cy=\"120\" r=\"0.84\" /></g><g fill=\"black\" id=\"vline\" stroke=\"black\"><line stroke-width=\"3.0\" x1=\"60\" x2=\"60\" y1=\"0\" y2=\"180\" /><circle cx=\"60\" cy=\"0\" r=\"0.84\" /><circle cx=\"60\" cy=\"180\" r=\"0.84\" /><line stroke-width=\"3.0\" x1=\"120\" x2=\"120\" y1=\"0\" y2=\"180\" /><circle cx=\"120\" cy=\"0\" r=\"0.84\" /><circle cx=\"120\" cy=\"180\" r=\"0.84\" /></g><line stroke=\"black\" stroke-width=\"3.0\" x1=\"66.0\" x2=\"114.0\" y1=\"6.0\" y2=\"54.0\" /><line stroke=\"black\" stroke-width=\"3.0\" x1=\"66.0\" x2=\"114.0\" y1=\"54.0\" y2=\"6.0\" /><line stroke=\"black\" stroke-width=\"3.0\" x1=\"66.0\" x2=\"114.0\" y1=\"66.0\" y2=\"114.0\" /><line stroke=\"black\" stroke-width=\"3.0\" x1=\"66.0\" x2=\"114.0\" y1=\"114.0\" y2=\"66.0\" /><circle cx=\"150.0\" cy=\"150.0\" fill=\"none\" r=\"24.0\" stroke=\"black\" stroke-width=\"3.0\" /></g><rect fill=\"none\" height=\"240\" stroke=\"gray\" width=\"240\" x=\"0\" y=\"240\" /><g transform=\"translate(270.0,270.0)\"><g fill=\"black\" id=\"hlines\" stroke=\"black\"><line stroke-width=\"3.0\" x1=\"0\" x2=\"180\" y1=\"60\" y2=\"60\" /><circle cx=\"0\" cy=\"60\" r=\"0.84\" /><circle cx=\"180\" cy=\"60\" r=\"0.84\" /><line stroke-width=\"3.0\" x1=\"0\" x2=\"180\" y1=\"120\" y2=\"120\" /><circle cx=\"0\" cy=\"120\" r=\"0.84\" /><circle cx=\"180\" cy=\"120\" r=\"0.84\" /></g><g fill=\"black\" id=\"vline\" stroke=\"black\"><line stroke-width=\"3.0\" x1=\"60\" x2=\"60\" y1=\"0\" y2=\"180\" /><circle cx=\"60\" cy=\"0\" r=\"0.84\" /><circle cx=\"60\" cy=\"180\" r=\"0.84\" /><line stroke-width=\"3.0\" x1=\"120\" x2=\"120\" y1=\"0\" y2=\"180\" /><circle cx=\"120\" cy=\"0\" r=\"0.84\" /><circle cx=\"120\" cy=\"180\" r=\"0.84\" /></g><line stroke=\"black\" stroke-width=\"3.0\" x1=\"6.0\" x2=\"54.0\" y1=\"6.0\" y2=\"54.0\" /><line stroke=\"black\" stroke-width=\"3.0\" x1=\"6.0\" x2=\"54.0\" y1=\"54.0\" y2=\"6.0\" /><circle cx=\"30.0\" cy=\"90.0\" fill=\"none\" r=\"24.0\" stroke=\"black\" stroke-width=\"3.0\" /><line stroke=\"black\" stroke-width=\"3.0\" x1=\"66.0\" x2=\"114.0\" y1=\"66.0\" y2=\"114.0\" /><line stroke=\"black\" stroke-width=\"3.0\" x1=\"66.0\" x2=\"114.0\" y1=\"114.0\" y2=\"66.0\" /></g><rect fill=\"none\" height=\"240\" stroke=\"gray\" width=\"240\" x=\"240\" y=\"240\" /><g transform=\"translate(510.0,270.0)\"><g fill=\"black\" id=\"hlines\" stroke=\"black\"><line stroke-width=\"3.0\" x1=\"0\" x2=\"180\" y1=\"60\" y2=\"60\" /><circle cx=\"0\" cy=\"60\" r=\"0.84\" /><circle cx=\"180\" cy=\"60\" r=\"0.84\" /><line stroke-width=\"3.0\" x1=\"0\" x2=\"180\" y1=\"120\" y2=\"120\" /><circle cx=\"0\" cy=\"120\" r=\"0.84\" /><circle cx=\"180\" cy=\"120\" r=\"0.84\" /></g><g fill=\"black\" id=\"vline\" stroke=\"black\"><line stroke-width=\"3.0\" x1=\"60\" x2=\"60\" y1=\"0\" y2=\"180\" /><circle cx=\"60\" cy=\"0\" r=\"0.84\" /><circle cx=\"60\" cy=\"180\" r=\"0.84\" /><line stroke-width=\"3.0\" x1=\"120\" x2=\"120\" y1=\"0\" y2=\"180\" /><circle cx=\"120\" cy=\"0\" r=\"0.84\" /><circle cx=\"120\" cy=\"180\" r=\"0.84\" /></g><circle cx=\"30.0\" cy=\"30.0\" fill=\"none\" r=\"24.0\" stroke=\"black\" stroke-width=\"3.0\" /><line stroke=\"black\" stroke-width=\"3.0\" x1=\"66.0\" x2=\"114.0\" y1=\"66.0\" y2=\"114.0\" /><line stroke=\"black\" stroke-width=\"3.0\" x1=\"66.0\" x2=\"114.0\" y1=\"114.0\" y2=\"66.0\" /><line stroke=\"black\" stroke-width=\"3.0\" x1=\"126.0\" x2=\"174.0\" y1=\"66.0\" y2=\"114.0\" /><line stroke=\"black\" stroke-width=\"3.0\" x1=\"126.0\" x2=\"174.0\" y1=\"114.0\" y2=\"66.0\" /></g><rect fill=\"none\" height=\"240\" stroke=\"gray\" width=\"240\" x=\"480\" y=\"240\" /><g transform=\"translate(750.0,270.0)\"><g fill=\"black\" id=\"hlines\" stroke=\"black\"><line stroke-width=\"3.0\" x1=\"0\" x2=\"180\" y1=\"60\" y2=\"60\" /><circle cx=\"0\" cy=\"60\" r=\"0.84\" /><circle cx=\"180\" cy=\"60\" r=\"0.84\" /><line stroke-width=\"3.0\" x1=\"0\" x2=\"180\" y1=\"120\" y2=\"120\" /><circle cx=\"0\" cy=\"120\" r=\"0.84\" /><circle cx=\"180\" cy=\"120\" r=\"0.84\" /></g><g fill=\"black\" id=\"vline\" stroke=\"black\"><line stroke-width=\"3.0\" x1=\"60\" x2=\"60\" y1=\"0\" y2=\"180\" /><circle cx=\"60\" cy=\"0\" r=\"0.84\" /><circle cx=\"60\" cy=\"180\" r=\"0.84\" /><line stroke-width=\"3.0\" x1=\"120\" x2=\"120\" y1=\"0\" y2=\"180\" /><circle cx=\"120\" cy=\"0\" r=\"0.84\" /><circle cx=\"120\" cy=\"180\" r=\"0.84\" /></g><circle cx=\"30.0\" cy=\"30.0\" fill=\"none\" r=\"24.0\" stroke=\"black\" stroke-width=\"3.0\" /><line stroke=\"black\" stroke-width=\"3.0\" x1=\"66.0\" x2=\"114.0\" y1=\"66.0\" y2=\"114.0\" /><line stroke=\"black\" stroke-width=\"3.0\" x1=\"66.0\" x2=\"114.0\" y1=\"114.0\" y2=\"66.0\" /><line stroke=\"black\" stroke-width=\"3.0\" x1=\"66.0\" x2=\"114.0\" y1=\"126.0\" y2=\"174.0\" /><line stroke=\"black\" stroke-width=\"3.0\" x1=\"66.0\" x2=\"114.0\" y1=\"174.0\" y2=\"126.0\" /></g><rect fill=\"none\" height=\"240\" stroke=\"gray\" width=\"240\" x=\"720\" y=\"240\" /><g transform=\"translate(30.0,510.0)\"><g fill=\"black\" id=\"hlines\" stroke=\"black\"><line stroke-width=\"3.0\" x1=\"0\" x2=\"180\" y1=\"60\" y2=\"60\" /><circle cx=\"0\" cy=\"60\" r=\"0.84\" /><circle cx=\"180\" cy=\"60\" r=\"0.84\" /><line stroke-width=\"3.0\" x1=\"0\" x2=\"180\" y1=\"120\" y2=\"120\" /><circle cx=\"0\" cy=\"120\" r=\"0.84\" /><circle cx=\"180\" cy=\"120\" r=\"0.84\" /></g><g fill=\"black\" id=\"vline\" stroke=\"black\"><line stroke-width=\"3.0\" x1=\"60\" x2=\"60\" y1=\"0\" y2=\"180\" /><circle cx=\"60\" cy=\"0\" r=\"0.84\" /><circle cx=\"60\" cy=\"180\" r=\"0.84\" /><line stroke-width=\"3.0\" x1=\"120\" x2=\"120\" y1=\"0\" y2=\"180\" /><circle cx=\"120\" cy=\"0\" r=\"0.84\" /><circle cx=\"120\" cy=\"180\" r=\"0.84\" /></g><line stroke=\"black\" stroke-width=\"3.0\" x1=\"126.0\" x2=\"174.0\" y1=\"6.0\" y2=\"54.0\" /><line stroke=\"black\" stroke-width=\"3.0\" x1=\"126.0\" x2=\"174.0\" y1=\"54.0\" y2=\"6.0\" /><line stroke=\"black\" stroke-width=\"3.0\" x1=\"66.0\" x2=\"114.0\" y1=\"66.0\" y2=\"114.0\" /><line stroke=\"black\" stroke-width=\"3.0\" x1=\"66.0\" x2=\"114.0\" y1=\"114.0\" y2=\"66.0\" /><circle cx=\"150.0\" cy=\"90.0\" fill=\"none\" r=\"24.0\" stroke=\"black\" stroke-width=\"3.0\" /></g><rect fill=\"none\" height=\"240\" stroke=\"gray\" width=\"240\" x=\"0\" y=\"480\" /><g transform=\"translate(270.0,510.0)\"><g fill=\"black\" id=\"hlines\" stroke=\"black\"><line stroke-width=\"3.0\" x1=\"0\" x2=\"180\" y1=\"60\" y2=\"60\" /><circle cx=\"0\" cy=\"60\" r=\"0.84\" /><circle cx=\"180\" cy=\"60\" r=\"0.84\" /><line stroke-width=\"3.0\" x1=\"0\" x2=\"180\" y1=\"120\" y2=\"120\" /><circle cx=\"0\" cy=\"120\" r=\"0.84\" /><circle cx=\"180\" cy=\"120\" r=\"0.84\" /></g><g fill=\"black\" id=\"vline\" stroke=\"black\"><line stroke-width=\"3.0\" x1=\"60\" x2=\"60\" y1=\"0\" y2=\"180\" /><circle cx=\"60\" cy=\"0\" r=\"0.84\" /><circle cx=\"60\" cy=\"180\" r=\"0.84\" /><line stroke-width=\"3.0\" x1=\"120\" x2=\"120\" y1=\"0\" y2=\"180\" /><circle cx=\"120\" cy=\"0\" r=\"0.84\" /><circle cx=\"120\" cy=\"180\" r=\"0.84\" /></g><circle cx=\"90.0\" cy=\"30.0\" fill=\"none\" r=\"24.0\" stroke=\"black\" stroke-width=\"3.0\" /><line stroke=\"black\" stroke-width=\"3.0\" x1=\"66.0\" x2=\"114.0\" y1=\"66.0\" y2=\"114.0\" /><line stroke=\"black\" stroke-width=\"3.0\" x1=\"66.0\" x2=\"114.0\" y1=\"114.0\" y2=\"66.0\" /><line stroke=\"black\" stroke-width=\"3.0\" x1=\"126.0\" x2=\"174.0\" y1=\"126.0\" y2=\"174.0\" /><line stroke=\"black\" stroke-width=\"3.0\" x1=\"126.0\" x2=\"174.0\" y1=\"174.0\" y2=\"126.0\" /></g><rect fill=\"none\" height=\"240\" stroke=\"gray\" width=\"240\" x=\"240\" y=\"480\" /></g></svg>"
          },
          "metadata": {}
        },
        {
          "output_type": "stream",
          "name": "stdout",
          "text": [
            "3\n"
          ]
        },
        {
          "output_type": "display_data",
          "data": {
            "image/svg+xml": "<svg baseProfile=\"full\" height=\"720.0\" version=\"1.1\" width=\"960.0\" xmlns=\"http://www.w3.org/2000/svg\" xmlns:ev=\"http://www.w3.org/2001/xml-events\" xmlns:xlink=\"http://www.w3.org/1999/xlink\"><defs /><g transform=\"scale(1.0)\"><rect fill=\"white\" height=\"720\" width=\"960\" x=\"0\" y=\"0\" /><g transform=\"translate(30.0,30.0)\"><g fill=\"black\" id=\"hlines\" stroke=\"black\"><line stroke-width=\"3.0\" x1=\"0\" x2=\"180\" y1=\"60\" y2=\"60\" /><circle cx=\"0\" cy=\"60\" r=\"0.84\" /><circle cx=\"180\" cy=\"60\" r=\"0.84\" /><line stroke-width=\"3.0\" x1=\"0\" x2=\"180\" y1=\"120\" y2=\"120\" /><circle cx=\"0\" cy=\"120\" r=\"0.84\" /><circle cx=\"180\" cy=\"120\" r=\"0.84\" /></g><g fill=\"black\" id=\"vline\" stroke=\"black\"><line stroke-width=\"3.0\" x1=\"60\" x2=\"60\" y1=\"0\" y2=\"180\" /><circle cx=\"60\" cy=\"0\" r=\"0.84\" /><circle cx=\"60\" cy=\"180\" r=\"0.84\" /><line stroke-width=\"3.0\" x1=\"120\" x2=\"120\" y1=\"0\" y2=\"180\" /><circle cx=\"120\" cy=\"0\" r=\"0.84\" /><circle cx=\"120\" cy=\"180\" r=\"0.84\" /></g><line stroke=\"black\" stroke-width=\"3.0\" x1=\"66.0\" x2=\"114.0\" y1=\"6.0\" y2=\"54.0\" /><line stroke=\"black\" stroke-width=\"3.0\" x1=\"66.0\" x2=\"114.0\" y1=\"54.0\" y2=\"6.0\" /><line stroke=\"black\" stroke-width=\"3.0\" x1=\"66.0\" x2=\"114.0\" y1=\"66.0\" y2=\"114.0\" /><line stroke=\"black\" stroke-width=\"3.0\" x1=\"66.0\" x2=\"114.0\" y1=\"114.0\" y2=\"66.0\" /><circle cx=\"150.0\" cy=\"90.0\" fill=\"none\" r=\"24.0\" stroke=\"black\" stroke-width=\"3.0\" /><circle cx=\"150.0\" cy=\"150.0\" fill=\"none\" r=\"24.0\" stroke=\"black\" stroke-width=\"3.0\" /></g><rect fill=\"none\" height=\"240\" stroke=\"gray\" width=\"240\" x=\"0\" y=\"0\" /><g transform=\"translate(270.0,30.0)\"><g fill=\"black\" id=\"hlines\" stroke=\"black\"><line stroke-width=\"3.0\" x1=\"0\" x2=\"180\" y1=\"60\" y2=\"60\" /><circle cx=\"0\" cy=\"60\" r=\"0.84\" /><circle cx=\"180\" cy=\"60\" r=\"0.84\" /><line stroke-width=\"3.0\" x1=\"0\" x2=\"180\" y1=\"120\" y2=\"120\" /><circle cx=\"0\" cy=\"120\" r=\"0.84\" /><circle cx=\"180\" cy=\"120\" r=\"0.84\" /></g><g fill=\"black\" id=\"vline\" stroke=\"black\"><line stroke-width=\"3.0\" x1=\"60\" x2=\"60\" y1=\"0\" y2=\"180\" /><circle cx=\"60\" cy=\"0\" r=\"0.84\" /><circle cx=\"60\" cy=\"180\" r=\"0.84\" /><line stroke-width=\"3.0\" x1=\"120\" x2=\"120\" y1=\"0\" y2=\"180\" /><circle cx=\"120\" cy=\"0\" r=\"0.84\" /><circle cx=\"120\" cy=\"180\" r=\"0.84\" /></g><circle cx=\"30.0\" cy=\"30.0\" fill=\"none\" r=\"24.0\" stroke=\"black\" stroke-width=\"3.0\" /><line stroke=\"black\" stroke-width=\"3.0\" x1=\"66.0\" x2=\"114.0\" y1=\"66.0\" y2=\"114.0\" /><line stroke=\"black\" stroke-width=\"3.0\" x1=\"66.0\" x2=\"114.0\" y1=\"114.0\" y2=\"66.0\" /><line stroke=\"black\" stroke-width=\"3.0\" x1=\"66.0\" x2=\"114.0\" y1=\"126.0\" y2=\"174.0\" /><line stroke=\"black\" stroke-width=\"3.0\" x1=\"66.0\" x2=\"114.0\" y1=\"174.0\" y2=\"126.0\" /><circle cx=\"150.0\" cy=\"150.0\" fill=\"none\" r=\"24.0\" stroke=\"black\" stroke-width=\"3.0\" /></g><rect fill=\"none\" height=\"240\" stroke=\"gray\" width=\"240\" x=\"240\" y=\"0\" /><g transform=\"translate(510.0,30.0)\"><g fill=\"black\" id=\"hlines\" stroke=\"black\"><line stroke-width=\"3.0\" x1=\"0\" x2=\"180\" y1=\"60\" y2=\"60\" /><circle cx=\"0\" cy=\"60\" r=\"0.84\" /><circle cx=\"180\" cy=\"60\" r=\"0.84\" /><line stroke-width=\"3.0\" x1=\"0\" x2=\"180\" y1=\"120\" y2=\"120\" /><circle cx=\"0\" cy=\"120\" r=\"0.84\" /><circle cx=\"180\" cy=\"120\" r=\"0.84\" /></g><g fill=\"black\" id=\"vline\" stroke=\"black\"><line stroke-width=\"3.0\" x1=\"60\" x2=\"60\" y1=\"0\" y2=\"180\" /><circle cx=\"60\" cy=\"0\" r=\"0.84\" /><circle cx=\"60\" cy=\"180\" r=\"0.84\" /><line stroke-width=\"3.0\" x1=\"120\" x2=\"120\" y1=\"0\" y2=\"180\" /><circle cx=\"120\" cy=\"0\" r=\"0.84\" /><circle cx=\"120\" cy=\"180\" r=\"0.84\" /></g><line stroke=\"black\" stroke-width=\"3.0\" x1=\"6.0\" x2=\"54.0\" y1=\"6.0\" y2=\"54.0\" /><line stroke=\"black\" stroke-width=\"3.0\" x1=\"6.0\" x2=\"54.0\" y1=\"54.0\" y2=\"6.0\" /><circle cx=\"30.0\" cy=\"90.0\" fill=\"none\" r=\"24.0\" stroke=\"black\" stroke-width=\"3.0\" /><line stroke=\"black\" stroke-width=\"3.0\" x1=\"66.0\" x2=\"114.0\" y1=\"66.0\" y2=\"114.0\" /><line stroke=\"black\" stroke-width=\"3.0\" x1=\"66.0\" x2=\"114.0\" y1=\"114.0\" y2=\"66.0\" /><circle cx=\"150.0\" cy=\"150.0\" fill=\"none\" r=\"24.0\" stroke=\"black\" stroke-width=\"3.0\" /></g><rect fill=\"none\" height=\"240\" stroke=\"gray\" width=\"240\" x=\"480\" y=\"0\" /><g transform=\"translate(750.0,30.0)\"><g fill=\"black\" id=\"hlines\" stroke=\"black\"><line stroke-width=\"3.0\" x1=\"0\" x2=\"180\" y1=\"60\" y2=\"60\" /><circle cx=\"0\" cy=\"60\" r=\"0.84\" /><circle cx=\"180\" cy=\"60\" r=\"0.84\" /><line stroke-width=\"3.0\" x1=\"0\" x2=\"180\" y1=\"120\" y2=\"120\" /><circle cx=\"0\" cy=\"120\" r=\"0.84\" /><circle cx=\"180\" cy=\"120\" r=\"0.84\" /></g><g fill=\"black\" id=\"vline\" stroke=\"black\"><line stroke-width=\"3.0\" x1=\"60\" x2=\"60\" y1=\"0\" y2=\"180\" /><circle cx=\"60\" cy=\"0\" r=\"0.84\" /><circle cx=\"60\" cy=\"180\" r=\"0.84\" /><line stroke-width=\"3.0\" x1=\"120\" x2=\"120\" y1=\"0\" y2=\"180\" /><circle cx=\"120\" cy=\"0\" r=\"0.84\" /><circle cx=\"120\" cy=\"180\" r=\"0.84\" /></g><circle cx=\"90.0\" cy=\"30.0\" fill=\"none\" r=\"24.0\" stroke=\"black\" stroke-width=\"3.0\" /><circle cx=\"150.0\" cy=\"30.0\" fill=\"none\" r=\"24.0\" stroke=\"black\" stroke-width=\"3.0\" /><line stroke=\"black\" stroke-width=\"3.0\" x1=\"6.0\" x2=\"54.0\" y1=\"66.0\" y2=\"114.0\" /><line stroke=\"black\" stroke-width=\"3.0\" x1=\"6.0\" x2=\"54.0\" y1=\"114.0\" y2=\"66.0\" /><line stroke=\"black\" stroke-width=\"3.0\" x1=\"66.0\" x2=\"114.0\" y1=\"66.0\" y2=\"114.0\" /><line stroke=\"black\" stroke-width=\"3.0\" x1=\"66.0\" x2=\"114.0\" y1=\"114.0\" y2=\"66.0\" /></g><rect fill=\"none\" height=\"240\" stroke=\"gray\" width=\"240\" x=\"720\" y=\"0\" /><g transform=\"translate(30.0,270.0)\"><g fill=\"black\" id=\"hlines\" stroke=\"black\"><line stroke-width=\"3.0\" x1=\"0\" x2=\"180\" y1=\"60\" y2=\"60\" /><circle cx=\"0\" cy=\"60\" r=\"0.84\" /><circle cx=\"180\" cy=\"60\" r=\"0.84\" /><line stroke-width=\"3.0\" x1=\"0\" x2=\"180\" y1=\"120\" y2=\"120\" /><circle cx=\"0\" cy=\"120\" r=\"0.84\" /><circle cx=\"180\" cy=\"120\" r=\"0.84\" /></g><g fill=\"black\" id=\"vline\" stroke=\"black\"><line stroke-width=\"3.0\" x1=\"60\" x2=\"60\" y1=\"0\" y2=\"180\" /><circle cx=\"60\" cy=\"0\" r=\"0.84\" /><circle cx=\"60\" cy=\"180\" r=\"0.84\" /><line stroke-width=\"3.0\" x1=\"120\" x2=\"120\" y1=\"0\" y2=\"180\" /><circle cx=\"120\" cy=\"0\" r=\"0.84\" /><circle cx=\"120\" cy=\"180\" r=\"0.84\" /></g><line stroke=\"black\" stroke-width=\"3.0\" x1=\"66.0\" x2=\"114.0\" y1=\"6.0\" y2=\"54.0\" /><line stroke=\"black\" stroke-width=\"3.0\" x1=\"66.0\" x2=\"114.0\" y1=\"54.0\" y2=\"6.0\" /><circle cx=\"150.0\" cy=\"30.0\" fill=\"none\" r=\"24.0\" stroke=\"black\" stroke-width=\"3.0\" /><line stroke=\"black\" stroke-width=\"3.0\" x1=\"66.0\" x2=\"114.0\" y1=\"66.0\" y2=\"114.0\" /><line stroke=\"black\" stroke-width=\"3.0\" x1=\"66.0\" x2=\"114.0\" y1=\"114.0\" y2=\"66.0\" /><circle cx=\"150.0\" cy=\"150.0\" fill=\"none\" r=\"24.0\" stroke=\"black\" stroke-width=\"3.0\" /></g><rect fill=\"none\" height=\"240\" stroke=\"gray\" width=\"240\" x=\"0\" y=\"240\" /><g transform=\"translate(270.0,270.0)\"><g fill=\"black\" id=\"hlines\" stroke=\"black\"><line stroke-width=\"3.0\" x1=\"0\" x2=\"180\" y1=\"60\" y2=\"60\" /><circle cx=\"0\" cy=\"60\" r=\"0.84\" /><circle cx=\"180\" cy=\"60\" r=\"0.84\" /><line stroke-width=\"3.0\" x1=\"0\" x2=\"180\" y1=\"120\" y2=\"120\" /><circle cx=\"0\" cy=\"120\" r=\"0.84\" /><circle cx=\"180\" cy=\"120\" r=\"0.84\" /></g><g fill=\"black\" id=\"vline\" stroke=\"black\"><line stroke-width=\"3.0\" x1=\"60\" x2=\"60\" y1=\"0\" y2=\"180\" /><circle cx=\"60\" cy=\"0\" r=\"0.84\" /><circle cx=\"60\" cy=\"180\" r=\"0.84\" /><line stroke-width=\"3.0\" x1=\"120\" x2=\"120\" y1=\"0\" y2=\"180\" /><circle cx=\"120\" cy=\"0\" r=\"0.84\" /><circle cx=\"120\" cy=\"180\" r=\"0.84\" /></g><line stroke=\"black\" stroke-width=\"3.0\" x1=\"6.0\" x2=\"54.0\" y1=\"6.0\" y2=\"54.0\" /><line stroke=\"black\" stroke-width=\"3.0\" x1=\"6.0\" x2=\"54.0\" y1=\"54.0\" y2=\"6.0\" /><circle cx=\"30.0\" cy=\"90.0\" fill=\"none\" r=\"24.0\" stroke=\"black\" stroke-width=\"3.0\" /><line stroke=\"black\" stroke-width=\"3.0\" x1=\"66.0\" x2=\"114.0\" y1=\"66.0\" y2=\"114.0\" /><line stroke=\"black\" stroke-width=\"3.0\" x1=\"66.0\" x2=\"114.0\" y1=\"114.0\" y2=\"66.0\" /><circle cx=\"30.0\" cy=\"150.0\" fill=\"none\" r=\"24.0\" stroke=\"black\" stroke-width=\"3.0\" /></g><rect fill=\"none\" height=\"240\" stroke=\"gray\" width=\"240\" x=\"240\" y=\"240\" /><g transform=\"translate(510.0,270.0)\"><g fill=\"black\" id=\"hlines\" stroke=\"black\"><line stroke-width=\"3.0\" x1=\"0\" x2=\"180\" y1=\"60\" y2=\"60\" /><circle cx=\"0\" cy=\"60\" r=\"0.84\" /><circle cx=\"180\" cy=\"60\" r=\"0.84\" /><line stroke-width=\"3.0\" x1=\"0\" x2=\"180\" y1=\"120\" y2=\"120\" /><circle cx=\"0\" cy=\"120\" r=\"0.84\" /><circle cx=\"180\" cy=\"120\" r=\"0.84\" /></g><g fill=\"black\" id=\"vline\" stroke=\"black\"><line stroke-width=\"3.0\" x1=\"60\" x2=\"60\" y1=\"0\" y2=\"180\" /><circle cx=\"60\" cy=\"0\" r=\"0.84\" /><circle cx=\"60\" cy=\"180\" r=\"0.84\" /><line stroke-width=\"3.0\" x1=\"120\" x2=\"120\" y1=\"0\" y2=\"180\" /><circle cx=\"120\" cy=\"0\" r=\"0.84\" /><circle cx=\"120\" cy=\"180\" r=\"0.84\" /></g><circle cx=\"30.0\" cy=\"30.0\" fill=\"none\" r=\"24.0\" stroke=\"black\" stroke-width=\"3.0\" /><circle cx=\"30.0\" cy=\"90.0\" fill=\"none\" r=\"24.0\" stroke=\"black\" stroke-width=\"3.0\" /><line stroke=\"black\" stroke-width=\"3.0\" x1=\"66.0\" x2=\"114.0\" y1=\"66.0\" y2=\"114.0\" /><line stroke=\"black\" stroke-width=\"3.0\" x1=\"66.0\" x2=\"114.0\" y1=\"114.0\" y2=\"66.0\" /><line stroke=\"black\" stroke-width=\"3.0\" x1=\"126.0\" x2=\"174.0\" y1=\"66.0\" y2=\"114.0\" /><line stroke=\"black\" stroke-width=\"3.0\" x1=\"126.0\" x2=\"174.0\" y1=\"114.0\" y2=\"66.0\" /></g><rect fill=\"none\" height=\"240\" stroke=\"gray\" width=\"240\" x=\"480\" y=\"240\" /><g transform=\"translate(750.0,270.0)\"><g fill=\"black\" id=\"hlines\" stroke=\"black\"><line stroke-width=\"3.0\" x1=\"0\" x2=\"180\" y1=\"60\" y2=\"60\" /><circle cx=\"0\" cy=\"60\" r=\"0.84\" /><circle cx=\"180\" cy=\"60\" r=\"0.84\" /><line stroke-width=\"3.0\" x1=\"0\" x2=\"180\" y1=\"120\" y2=\"120\" /><circle cx=\"0\" cy=\"120\" r=\"0.84\" /><circle cx=\"180\" cy=\"120\" r=\"0.84\" /></g><g fill=\"black\" id=\"vline\" stroke=\"black\"><line stroke-width=\"3.0\" x1=\"60\" x2=\"60\" y1=\"0\" y2=\"180\" /><circle cx=\"60\" cy=\"0\" r=\"0.84\" /><circle cx=\"60\" cy=\"180\" r=\"0.84\" /><line stroke-width=\"3.0\" x1=\"120\" x2=\"120\" y1=\"0\" y2=\"180\" /><circle cx=\"120\" cy=\"0\" r=\"0.84\" /><circle cx=\"120\" cy=\"180\" r=\"0.84\" /></g><circle cx=\"30.0\" cy=\"30.0\" fill=\"none\" r=\"24.0\" stroke=\"black\" stroke-width=\"3.0\" /><circle cx=\"90.0\" cy=\"30.0\" fill=\"none\" r=\"24.0\" stroke=\"black\" stroke-width=\"3.0\" /><line stroke=\"black\" stroke-width=\"3.0\" x1=\"66.0\" x2=\"114.0\" y1=\"66.0\" y2=\"114.0\" /><line stroke=\"black\" stroke-width=\"3.0\" x1=\"66.0\" x2=\"114.0\" y1=\"114.0\" y2=\"66.0\" /><line stroke=\"black\" stroke-width=\"3.0\" x1=\"66.0\" x2=\"114.0\" y1=\"126.0\" y2=\"174.0\" /><line stroke=\"black\" stroke-width=\"3.0\" x1=\"66.0\" x2=\"114.0\" y1=\"174.0\" y2=\"126.0\" /></g><rect fill=\"none\" height=\"240\" stroke=\"gray\" width=\"240\" x=\"720\" y=\"240\" /><g transform=\"translate(30.0,510.0)\"><g fill=\"black\" id=\"hlines\" stroke=\"black\"><line stroke-width=\"3.0\" x1=\"0\" x2=\"180\" y1=\"60\" y2=\"60\" /><circle cx=\"0\" cy=\"60\" r=\"0.84\" /><circle cx=\"180\" cy=\"60\" r=\"0.84\" /><line stroke-width=\"3.0\" x1=\"0\" x2=\"180\" y1=\"120\" y2=\"120\" /><circle cx=\"0\" cy=\"120\" r=\"0.84\" /><circle cx=\"180\" cy=\"120\" r=\"0.84\" /></g><g fill=\"black\" id=\"vline\" stroke=\"black\"><line stroke-width=\"3.0\" x1=\"60\" x2=\"60\" y1=\"0\" y2=\"180\" /><circle cx=\"60\" cy=\"0\" r=\"0.84\" /><circle cx=\"60\" cy=\"180\" r=\"0.84\" /><line stroke-width=\"3.0\" x1=\"120\" x2=\"120\" y1=\"0\" y2=\"180\" /><circle cx=\"120\" cy=\"0\" r=\"0.84\" /><circle cx=\"120\" cy=\"180\" r=\"0.84\" /></g><circle cx=\"30.0\" cy=\"30.0\" fill=\"none\" r=\"24.0\" stroke=\"black\" stroke-width=\"3.0\" /><line stroke=\"black\" stroke-width=\"3.0\" x1=\"126.0\" x2=\"174.0\" y1=\"6.0\" y2=\"54.0\" /><line stroke=\"black\" stroke-width=\"3.0\" x1=\"126.0\" x2=\"174.0\" y1=\"54.0\" y2=\"6.0\" /><line stroke=\"black\" stroke-width=\"3.0\" x1=\"66.0\" x2=\"114.0\" y1=\"66.0\" y2=\"114.0\" /><line stroke=\"black\" stroke-width=\"3.0\" x1=\"66.0\" x2=\"114.0\" y1=\"114.0\" y2=\"66.0\" /><circle cx=\"150.0\" cy=\"90.0\" fill=\"none\" r=\"24.0\" stroke=\"black\" stroke-width=\"3.0\" /></g><rect fill=\"none\" height=\"240\" stroke=\"gray\" width=\"240\" x=\"0\" y=\"480\" /><g transform=\"translate(270.0,510.0)\"><g fill=\"black\" id=\"hlines\" stroke=\"black\"><line stroke-width=\"3.0\" x1=\"0\" x2=\"180\" y1=\"60\" y2=\"60\" /><circle cx=\"0\" cy=\"60\" r=\"0.84\" /><circle cx=\"180\" cy=\"60\" r=\"0.84\" /><line stroke-width=\"3.0\" x1=\"0\" x2=\"180\" y1=\"120\" y2=\"120\" /><circle cx=\"0\" cy=\"120\" r=\"0.84\" /><circle cx=\"180\" cy=\"120\" r=\"0.84\" /></g><g fill=\"black\" id=\"vline\" stroke=\"black\"><line stroke-width=\"3.0\" x1=\"60\" x2=\"60\" y1=\"0\" y2=\"180\" /><circle cx=\"60\" cy=\"0\" r=\"0.84\" /><circle cx=\"60\" cy=\"180\" r=\"0.84\" /><line stroke-width=\"3.0\" x1=\"120\" x2=\"120\" y1=\"0\" y2=\"180\" /><circle cx=\"120\" cy=\"0\" r=\"0.84\" /><circle cx=\"120\" cy=\"180\" r=\"0.84\" /></g><circle cx=\"90.0\" cy=\"30.0\" fill=\"none\" r=\"24.0\" stroke=\"black\" stroke-width=\"3.0\" /><circle cx=\"30.0\" cy=\"90.0\" fill=\"none\" r=\"24.0\" stroke=\"black\" stroke-width=\"3.0\" /><line stroke=\"black\" stroke-width=\"3.0\" x1=\"66.0\" x2=\"114.0\" y1=\"66.0\" y2=\"114.0\" /><line stroke=\"black\" stroke-width=\"3.0\" x1=\"66.0\" x2=\"114.0\" y1=\"114.0\" y2=\"66.0\" /><line stroke=\"black\" stroke-width=\"3.0\" x1=\"126.0\" x2=\"174.0\" y1=\"126.0\" y2=\"174.0\" /><line stroke=\"black\" stroke-width=\"3.0\" x1=\"126.0\" x2=\"174.0\" y1=\"174.0\" y2=\"126.0\" /></g><rect fill=\"none\" height=\"240\" stroke=\"gray\" width=\"240\" x=\"240\" y=\"480\" /></g></svg>"
          },
          "metadata": {}
        },
        {
          "output_type": "stream",
          "name": "stdout",
          "text": [
            "4\n"
          ]
        },
        {
          "output_type": "display_data",
          "data": {
            "image/svg+xml": "<svg baseProfile=\"full\" height=\"720.0\" version=\"1.1\" width=\"960.0\" xmlns=\"http://www.w3.org/2000/svg\" xmlns:ev=\"http://www.w3.org/2001/xml-events\" xmlns:xlink=\"http://www.w3.org/1999/xlink\"><defs /><g transform=\"scale(1.0)\"><rect fill=\"white\" height=\"720\" width=\"960\" x=\"0\" y=\"0\" /><g transform=\"translate(30.0,30.0)\"><g fill=\"black\" id=\"hlines\" stroke=\"black\"><line stroke-width=\"3.0\" x1=\"0\" x2=\"180\" y1=\"60\" y2=\"60\" /><circle cx=\"0\" cy=\"60\" r=\"0.84\" /><circle cx=\"180\" cy=\"60\" r=\"0.84\" /><line stroke-width=\"3.0\" x1=\"0\" x2=\"180\" y1=\"120\" y2=\"120\" /><circle cx=\"0\" cy=\"120\" r=\"0.84\" /><circle cx=\"180\" cy=\"120\" r=\"0.84\" /></g><g fill=\"black\" id=\"vline\" stroke=\"black\"><line stroke-width=\"3.0\" x1=\"60\" x2=\"60\" y1=\"0\" y2=\"180\" /><circle cx=\"60\" cy=\"0\" r=\"0.84\" /><circle cx=\"60\" cy=\"180\" r=\"0.84\" /><line stroke-width=\"3.0\" x1=\"120\" x2=\"120\" y1=\"0\" y2=\"180\" /><circle cx=\"120\" cy=\"0\" r=\"0.84\" /><circle cx=\"120\" cy=\"180\" r=\"0.84\" /></g><line stroke=\"black\" stroke-width=\"3.0\" x1=\"66.0\" x2=\"114.0\" y1=\"6.0\" y2=\"54.0\" /><line stroke=\"black\" stroke-width=\"3.0\" x1=\"66.0\" x2=\"114.0\" y1=\"54.0\" y2=\"6.0\" /><line stroke=\"black\" stroke-width=\"3.0\" x1=\"66.0\" x2=\"114.0\" y1=\"66.0\" y2=\"114.0\" /><line stroke=\"black\" stroke-width=\"3.0\" x1=\"66.0\" x2=\"114.0\" y1=\"114.0\" y2=\"66.0\" /><circle cx=\"150.0\" cy=\"90.0\" fill=\"none\" r=\"24.0\" stroke=\"black\" stroke-width=\"3.0\" /><line stroke=\"black\" stroke-width=\"3.0\" x1=\"6.0\" x2=\"54.0\" y1=\"126.0\" y2=\"174.0\" /><line stroke=\"black\" stroke-width=\"3.0\" x1=\"6.0\" x2=\"54.0\" y1=\"174.0\" y2=\"126.0\" /><circle cx=\"150.0\" cy=\"150.0\" fill=\"none\" r=\"24.0\" stroke=\"black\" stroke-width=\"3.0\" /></g><rect fill=\"none\" height=\"240\" stroke=\"gray\" width=\"240\" x=\"0\" y=\"0\" /><g transform=\"translate(270.0,30.0)\"><g fill=\"black\" id=\"hlines\" stroke=\"black\"><line stroke-width=\"3.0\" x1=\"0\" x2=\"180\" y1=\"60\" y2=\"60\" /><circle cx=\"0\" cy=\"60\" r=\"0.84\" /><circle cx=\"180\" cy=\"60\" r=\"0.84\" /><line stroke-width=\"3.0\" x1=\"0\" x2=\"180\" y1=\"120\" y2=\"120\" /><circle cx=\"0\" cy=\"120\" r=\"0.84\" /><circle cx=\"180\" cy=\"120\" r=\"0.84\" /></g><g fill=\"black\" id=\"vline\" stroke=\"black\"><line stroke-width=\"3.0\" x1=\"60\" x2=\"60\" y1=\"0\" y2=\"180\" /><circle cx=\"60\" cy=\"0\" r=\"0.84\" /><circle cx=\"60\" cy=\"180\" r=\"0.84\" /><line stroke-width=\"3.0\" x1=\"120\" x2=\"120\" y1=\"0\" y2=\"180\" /><circle cx=\"120\" cy=\"0\" r=\"0.84\" /><circle cx=\"120\" cy=\"180\" r=\"0.84\" /></g><circle cx=\"30.0\" cy=\"30.0\" fill=\"none\" r=\"24.0\" stroke=\"black\" stroke-width=\"3.0\" /><line stroke=\"black\" stroke-width=\"3.0\" x1=\"66.0\" x2=\"114.0\" y1=\"66.0\" y2=\"114.0\" /><line stroke=\"black\" stroke-width=\"3.0\" x1=\"66.0\" x2=\"114.0\" y1=\"114.0\" y2=\"66.0\" /><line stroke=\"black\" stroke-width=\"3.0\" x1=\"126.0\" x2=\"174.0\" y1=\"66.0\" y2=\"114.0\" /><line stroke=\"black\" stroke-width=\"3.0\" x1=\"126.0\" x2=\"174.0\" y1=\"114.0\" y2=\"66.0\" /><line stroke=\"black\" stroke-width=\"3.0\" x1=\"66.0\" x2=\"114.0\" y1=\"126.0\" y2=\"174.0\" /><line stroke=\"black\" stroke-width=\"3.0\" x1=\"66.0\" x2=\"114.0\" y1=\"174.0\" y2=\"126.0\" /><circle cx=\"150.0\" cy=\"150.0\" fill=\"none\" r=\"24.0\" stroke=\"black\" stroke-width=\"3.0\" /></g><rect fill=\"none\" height=\"240\" stroke=\"gray\" width=\"240\" x=\"240\" y=\"0\" /><g transform=\"translate(510.0,30.0)\"><g fill=\"black\" id=\"hlines\" stroke=\"black\"><line stroke-width=\"3.0\" x1=\"0\" x2=\"180\" y1=\"60\" y2=\"60\" /><circle cx=\"0\" cy=\"60\" r=\"0.84\" /><circle cx=\"180\" cy=\"60\" r=\"0.84\" /><line stroke-width=\"3.0\" x1=\"0\" x2=\"180\" y1=\"120\" y2=\"120\" /><circle cx=\"0\" cy=\"120\" r=\"0.84\" /><circle cx=\"180\" cy=\"120\" r=\"0.84\" /></g><g fill=\"black\" id=\"vline\" stroke=\"black\"><line stroke-width=\"3.0\" x1=\"60\" x2=\"60\" y1=\"0\" y2=\"180\" /><circle cx=\"60\" cy=\"0\" r=\"0.84\" /><circle cx=\"60\" cy=\"180\" r=\"0.84\" /><line stroke-width=\"3.0\" x1=\"120\" x2=\"120\" y1=\"0\" y2=\"180\" /><circle cx=\"120\" cy=\"0\" r=\"0.84\" /><circle cx=\"120\" cy=\"180\" r=\"0.84\" /></g><line stroke=\"black\" stroke-width=\"3.0\" x1=\"6.0\" x2=\"54.0\" y1=\"6.0\" y2=\"54.0\" /><line stroke=\"black\" stroke-width=\"3.0\" x1=\"6.0\" x2=\"54.0\" y1=\"54.0\" y2=\"6.0\" /><line stroke=\"black\" stroke-width=\"3.0\" x1=\"66.0\" x2=\"114.0\" y1=\"6.0\" y2=\"54.0\" /><line stroke=\"black\" stroke-width=\"3.0\" x1=\"66.0\" x2=\"114.0\" y1=\"54.0\" y2=\"6.0\" /><circle cx=\"30.0\" cy=\"90.0\" fill=\"none\" r=\"24.0\" stroke=\"black\" stroke-width=\"3.0\" /><line stroke=\"black\" stroke-width=\"3.0\" x1=\"66.0\" x2=\"114.0\" y1=\"66.0\" y2=\"114.0\" /><line stroke=\"black\" stroke-width=\"3.0\" x1=\"66.0\" x2=\"114.0\" y1=\"114.0\" y2=\"66.0\" /><circle cx=\"150.0\" cy=\"150.0\" fill=\"none\" r=\"24.0\" stroke=\"black\" stroke-width=\"3.0\" /></g><rect fill=\"none\" height=\"240\" stroke=\"gray\" width=\"240\" x=\"480\" y=\"0\" /><g transform=\"translate(750.0,30.0)\"><g fill=\"black\" id=\"hlines\" stroke=\"black\"><line stroke-width=\"3.0\" x1=\"0\" x2=\"180\" y1=\"60\" y2=\"60\" /><circle cx=\"0\" cy=\"60\" r=\"0.84\" /><circle cx=\"180\" cy=\"60\" r=\"0.84\" /><line stroke-width=\"3.0\" x1=\"0\" x2=\"180\" y1=\"120\" y2=\"120\" /><circle cx=\"0\" cy=\"120\" r=\"0.84\" /><circle cx=\"180\" cy=\"120\" r=\"0.84\" /></g><g fill=\"black\" id=\"vline\" stroke=\"black\"><line stroke-width=\"3.0\" x1=\"60\" x2=\"60\" y1=\"0\" y2=\"180\" /><circle cx=\"60\" cy=\"0\" r=\"0.84\" /><circle cx=\"60\" cy=\"180\" r=\"0.84\" /><line stroke-width=\"3.0\" x1=\"120\" x2=\"120\" y1=\"0\" y2=\"180\" /><circle cx=\"120\" cy=\"0\" r=\"0.84\" /><circle cx=\"120\" cy=\"180\" r=\"0.84\" /></g><circle cx=\"90.0\" cy=\"30.0\" fill=\"none\" r=\"24.0\" stroke=\"black\" stroke-width=\"3.0\" /><circle cx=\"150.0\" cy=\"30.0\" fill=\"none\" r=\"24.0\" stroke=\"black\" stroke-width=\"3.0\" /><line stroke=\"black\" stroke-width=\"3.0\" x1=\"6.0\" x2=\"54.0\" y1=\"66.0\" y2=\"114.0\" /><line stroke=\"black\" stroke-width=\"3.0\" x1=\"6.0\" x2=\"54.0\" y1=\"114.0\" y2=\"66.0\" /><line stroke=\"black\" stroke-width=\"3.0\" x1=\"66.0\" x2=\"114.0\" y1=\"66.0\" y2=\"114.0\" /><line stroke=\"black\" stroke-width=\"3.0\" x1=\"66.0\" x2=\"114.0\" y1=\"114.0\" y2=\"66.0\" /><line stroke=\"black\" stroke-width=\"3.0\" x1=\"126.0\" x2=\"174.0\" y1=\"66.0\" y2=\"114.0\" /><line stroke=\"black\" stroke-width=\"3.0\" x1=\"126.0\" x2=\"174.0\" y1=\"114.0\" y2=\"66.0\" /></g><rect fill=\"none\" height=\"240\" stroke=\"gray\" width=\"240\" x=\"720\" y=\"0\" /><g transform=\"translate(30.0,270.0)\"><g fill=\"black\" id=\"hlines\" stroke=\"black\"><line stroke-width=\"3.0\" x1=\"0\" x2=\"180\" y1=\"60\" y2=\"60\" /><circle cx=\"0\" cy=\"60\" r=\"0.84\" /><circle cx=\"180\" cy=\"60\" r=\"0.84\" /><line stroke-width=\"3.0\" x1=\"0\" x2=\"180\" y1=\"120\" y2=\"120\" /><circle cx=\"0\" cy=\"120\" r=\"0.84\" /><circle cx=\"180\" cy=\"120\" r=\"0.84\" /></g><g fill=\"black\" id=\"vline\" stroke=\"black\"><line stroke-width=\"3.0\" x1=\"60\" x2=\"60\" y1=\"0\" y2=\"180\" /><circle cx=\"60\" cy=\"0\" r=\"0.84\" /><circle cx=\"60\" cy=\"180\" r=\"0.84\" /><line stroke-width=\"3.0\" x1=\"120\" x2=\"120\" y1=\"0\" y2=\"180\" /><circle cx=\"120\" cy=\"0\" r=\"0.84\" /><circle cx=\"120\" cy=\"180\" r=\"0.84\" /></g><line stroke=\"black\" stroke-width=\"3.0\" x1=\"66.0\" x2=\"114.0\" y1=\"6.0\" y2=\"54.0\" /><line stroke=\"black\" stroke-width=\"3.0\" x1=\"66.0\" x2=\"114.0\" y1=\"54.0\" y2=\"6.0\" /><circle cx=\"150.0\" cy=\"30.0\" fill=\"none\" r=\"24.0\" stroke=\"black\" stroke-width=\"3.0\" /><line stroke=\"black\" stroke-width=\"3.0\" x1=\"66.0\" x2=\"114.0\" y1=\"66.0\" y2=\"114.0\" /><line stroke=\"black\" stroke-width=\"3.0\" x1=\"66.0\" x2=\"114.0\" y1=\"114.0\" y2=\"66.0\" /><line stroke=\"black\" stroke-width=\"3.0\" x1=\"126.0\" x2=\"174.0\" y1=\"66.0\" y2=\"114.0\" /><line stroke=\"black\" stroke-width=\"3.0\" x1=\"126.0\" x2=\"174.0\" y1=\"114.0\" y2=\"66.0\" /><circle cx=\"150.0\" cy=\"150.0\" fill=\"none\" r=\"24.0\" stroke=\"black\" stroke-width=\"3.0\" /></g><rect fill=\"none\" height=\"240\" stroke=\"gray\" width=\"240\" x=\"0\" y=\"240\" /><g transform=\"translate(270.0,270.0)\"><g fill=\"black\" id=\"hlines\" stroke=\"black\"><line stroke-width=\"3.0\" x1=\"0\" x2=\"180\" y1=\"60\" y2=\"60\" /><circle cx=\"0\" cy=\"60\" r=\"0.84\" /><circle cx=\"180\" cy=\"60\" r=\"0.84\" /><line stroke-width=\"3.0\" x1=\"0\" x2=\"180\" y1=\"120\" y2=\"120\" /><circle cx=\"0\" cy=\"120\" r=\"0.84\" /><circle cx=\"180\" cy=\"120\" r=\"0.84\" /></g><g fill=\"black\" id=\"vline\" stroke=\"black\"><line stroke-width=\"3.0\" x1=\"60\" x2=\"60\" y1=\"0\" y2=\"180\" /><circle cx=\"60\" cy=\"0\" r=\"0.84\" /><circle cx=\"60\" cy=\"180\" r=\"0.84\" /><line stroke-width=\"3.0\" x1=\"120\" x2=\"120\" y1=\"0\" y2=\"180\" /><circle cx=\"120\" cy=\"0\" r=\"0.84\" /><circle cx=\"120\" cy=\"180\" r=\"0.84\" /></g><line stroke=\"black\" stroke-width=\"3.0\" x1=\"6.0\" x2=\"54.0\" y1=\"6.0\" y2=\"54.0\" /><line stroke=\"black\" stroke-width=\"3.0\" x1=\"6.0\" x2=\"54.0\" y1=\"54.0\" y2=\"6.0\" /><line stroke=\"black\" stroke-width=\"3.0\" x1=\"126.0\" x2=\"174.0\" y1=\"6.0\" y2=\"54.0\" /><line stroke=\"black\" stroke-width=\"3.0\" x1=\"126.0\" x2=\"174.0\" y1=\"54.0\" y2=\"6.0\" /><circle cx=\"30.0\" cy=\"90.0\" fill=\"none\" r=\"24.0\" stroke=\"black\" stroke-width=\"3.0\" /><line stroke=\"black\" stroke-width=\"3.0\" x1=\"66.0\" x2=\"114.0\" y1=\"66.0\" y2=\"114.0\" /><line stroke=\"black\" stroke-width=\"3.0\" x1=\"66.0\" x2=\"114.0\" y1=\"114.0\" y2=\"66.0\" /><circle cx=\"30.0\" cy=\"150.0\" fill=\"none\" r=\"24.0\" stroke=\"black\" stroke-width=\"3.0\" /></g><rect fill=\"none\" height=\"240\" stroke=\"gray\" width=\"240\" x=\"240\" y=\"240\" /><g transform=\"translate(510.0,270.0)\"><g fill=\"black\" id=\"hlines\" stroke=\"black\"><line stroke-width=\"3.0\" x1=\"0\" x2=\"180\" y1=\"60\" y2=\"60\" /><circle cx=\"0\" cy=\"60\" r=\"0.84\" /><circle cx=\"180\" cy=\"60\" r=\"0.84\" /><line stroke-width=\"3.0\" x1=\"0\" x2=\"180\" y1=\"120\" y2=\"120\" /><circle cx=\"0\" cy=\"120\" r=\"0.84\" /><circle cx=\"180\" cy=\"120\" r=\"0.84\" /></g><g fill=\"black\" id=\"vline\" stroke=\"black\"><line stroke-width=\"3.0\" x1=\"60\" x2=\"60\" y1=\"0\" y2=\"180\" /><circle cx=\"60\" cy=\"0\" r=\"0.84\" /><circle cx=\"60\" cy=\"180\" r=\"0.84\" /><line stroke-width=\"3.0\" x1=\"120\" x2=\"120\" y1=\"0\" y2=\"180\" /><circle cx=\"120\" cy=\"0\" r=\"0.84\" /><circle cx=\"120\" cy=\"180\" r=\"0.84\" /></g><circle cx=\"30.0\" cy=\"30.0\" fill=\"none\" r=\"24.0\" stroke=\"black\" stroke-width=\"3.0\" /><line stroke=\"black\" stroke-width=\"3.0\" x1=\"126.0\" x2=\"174.0\" y1=\"6.0\" y2=\"54.0\" /><line stroke=\"black\" stroke-width=\"3.0\" x1=\"126.0\" x2=\"174.0\" y1=\"54.0\" y2=\"6.0\" /><circle cx=\"30.0\" cy=\"90.0\" fill=\"none\" r=\"24.0\" stroke=\"black\" stroke-width=\"3.0\" /><line stroke=\"black\" stroke-width=\"3.0\" x1=\"66.0\" x2=\"114.0\" y1=\"66.0\" y2=\"114.0\" /><line stroke=\"black\" stroke-width=\"3.0\" x1=\"66.0\" x2=\"114.0\" y1=\"114.0\" y2=\"66.0\" /><line stroke=\"black\" stroke-width=\"3.0\" x1=\"126.0\" x2=\"174.0\" y1=\"66.0\" y2=\"114.0\" /><line stroke=\"black\" stroke-width=\"3.0\" x1=\"126.0\" x2=\"174.0\" y1=\"114.0\" y2=\"66.0\" /></g><rect fill=\"none\" height=\"240\" stroke=\"gray\" width=\"240\" x=\"480\" y=\"240\" /><g transform=\"translate(750.0,270.0)\"><g fill=\"black\" id=\"hlines\" stroke=\"black\"><line stroke-width=\"3.0\" x1=\"0\" x2=\"180\" y1=\"60\" y2=\"60\" /><circle cx=\"0\" cy=\"60\" r=\"0.84\" /><circle cx=\"180\" cy=\"60\" r=\"0.84\" /><line stroke-width=\"3.0\" x1=\"0\" x2=\"180\" y1=\"120\" y2=\"120\" /><circle cx=\"0\" cy=\"120\" r=\"0.84\" /><circle cx=\"180\" cy=\"120\" r=\"0.84\" /></g><g fill=\"black\" id=\"vline\" stroke=\"black\"><line stroke-width=\"3.0\" x1=\"60\" x2=\"60\" y1=\"0\" y2=\"180\" /><circle cx=\"60\" cy=\"0\" r=\"0.84\" /><circle cx=\"60\" cy=\"180\" r=\"0.84\" /><line stroke-width=\"3.0\" x1=\"120\" x2=\"120\" y1=\"0\" y2=\"180\" /><circle cx=\"120\" cy=\"0\" r=\"0.84\" /><circle cx=\"120\" cy=\"180\" r=\"0.84\" /></g><circle cx=\"30.0\" cy=\"30.0\" fill=\"none\" r=\"24.0\" stroke=\"black\" stroke-width=\"3.0\" /><circle cx=\"90.0\" cy=\"30.0\" fill=\"none\" r=\"24.0\" stroke=\"black\" stroke-width=\"3.0\" /><line stroke=\"black\" stroke-width=\"3.0\" x1=\"126.0\" x2=\"174.0\" y1=\"6.0\" y2=\"54.0\" /><line stroke=\"black\" stroke-width=\"3.0\" x1=\"126.0\" x2=\"174.0\" y1=\"54.0\" y2=\"6.0\" /><line stroke=\"black\" stroke-width=\"3.0\" x1=\"66.0\" x2=\"114.0\" y1=\"66.0\" y2=\"114.0\" /><line stroke=\"black\" stroke-width=\"3.0\" x1=\"66.0\" x2=\"114.0\" y1=\"114.0\" y2=\"66.0\" /><line stroke=\"black\" stroke-width=\"3.0\" x1=\"66.0\" x2=\"114.0\" y1=\"126.0\" y2=\"174.0\" /><line stroke=\"black\" stroke-width=\"3.0\" x1=\"66.0\" x2=\"114.0\" y1=\"174.0\" y2=\"126.0\" /></g><rect fill=\"none\" height=\"240\" stroke=\"gray\" width=\"240\" x=\"720\" y=\"240\" /><g transform=\"translate(30.0,510.0)\"><g fill=\"black\" id=\"hlines\" stroke=\"black\"><line stroke-width=\"3.0\" x1=\"0\" x2=\"180\" y1=\"60\" y2=\"60\" /><circle cx=\"0\" cy=\"60\" r=\"0.84\" /><circle cx=\"180\" cy=\"60\" r=\"0.84\" /><line stroke-width=\"3.0\" x1=\"0\" x2=\"180\" y1=\"120\" y2=\"120\" /><circle cx=\"0\" cy=\"120\" r=\"0.84\" /><circle cx=\"180\" cy=\"120\" r=\"0.84\" /></g><g fill=\"black\" id=\"vline\" stroke=\"black\"><line stroke-width=\"3.0\" x1=\"60\" x2=\"60\" y1=\"0\" y2=\"180\" /><circle cx=\"60\" cy=\"0\" r=\"0.84\" /><circle cx=\"60\" cy=\"180\" r=\"0.84\" /><line stroke-width=\"3.0\" x1=\"120\" x2=\"120\" y1=\"0\" y2=\"180\" /><circle cx=\"120\" cy=\"0\" r=\"0.84\" /><circle cx=\"120\" cy=\"180\" r=\"0.84\" /></g><circle cx=\"30.0\" cy=\"30.0\" fill=\"none\" r=\"24.0\" stroke=\"black\" stroke-width=\"3.0\" /><line stroke=\"black\" stroke-width=\"3.0\" x1=\"126.0\" x2=\"174.0\" y1=\"6.0\" y2=\"54.0\" /><line stroke=\"black\" stroke-width=\"3.0\" x1=\"126.0\" x2=\"174.0\" y1=\"54.0\" y2=\"6.0\" /><line stroke=\"black\" stroke-width=\"3.0\" x1=\"66.0\" x2=\"114.0\" y1=\"66.0\" y2=\"114.0\" /><line stroke=\"black\" stroke-width=\"3.0\" x1=\"66.0\" x2=\"114.0\" y1=\"114.0\" y2=\"66.0\" /><circle cx=\"150.0\" cy=\"90.0\" fill=\"none\" r=\"24.0\" stroke=\"black\" stroke-width=\"3.0\" /><line stroke=\"black\" stroke-width=\"3.0\" x1=\"6.0\" x2=\"54.0\" y1=\"126.0\" y2=\"174.0\" /><line stroke=\"black\" stroke-width=\"3.0\" x1=\"6.0\" x2=\"54.0\" y1=\"174.0\" y2=\"126.0\" /></g><rect fill=\"none\" height=\"240\" stroke=\"gray\" width=\"240\" x=\"0\" y=\"480\" /><g transform=\"translate(270.0,510.0)\"><g fill=\"black\" id=\"hlines\" stroke=\"black\"><line stroke-width=\"3.0\" x1=\"0\" x2=\"180\" y1=\"60\" y2=\"60\" /><circle cx=\"0\" cy=\"60\" r=\"0.84\" /><circle cx=\"180\" cy=\"60\" r=\"0.84\" /><line stroke-width=\"3.0\" x1=\"0\" x2=\"180\" y1=\"120\" y2=\"120\" /><circle cx=\"0\" cy=\"120\" r=\"0.84\" /><circle cx=\"180\" cy=\"120\" r=\"0.84\" /></g><g fill=\"black\" id=\"vline\" stroke=\"black\"><line stroke-width=\"3.0\" x1=\"60\" x2=\"60\" y1=\"0\" y2=\"180\" /><circle cx=\"60\" cy=\"0\" r=\"0.84\" /><circle cx=\"60\" cy=\"180\" r=\"0.84\" /><line stroke-width=\"3.0\" x1=\"120\" x2=\"120\" y1=\"0\" y2=\"180\" /><circle cx=\"120\" cy=\"0\" r=\"0.84\" /><circle cx=\"120\" cy=\"180\" r=\"0.84\" /></g><line stroke=\"black\" stroke-width=\"3.0\" x1=\"6.0\" x2=\"54.0\" y1=\"6.0\" y2=\"54.0\" /><line stroke=\"black\" stroke-width=\"3.0\" x1=\"6.0\" x2=\"54.0\" y1=\"54.0\" y2=\"6.0\" /><circle cx=\"90.0\" cy=\"30.0\" fill=\"none\" r=\"24.0\" stroke=\"black\" stroke-width=\"3.0\" /><circle cx=\"30.0\" cy=\"90.0\" fill=\"none\" r=\"24.0\" stroke=\"black\" stroke-width=\"3.0\" /><line stroke=\"black\" stroke-width=\"3.0\" x1=\"66.0\" x2=\"114.0\" y1=\"66.0\" y2=\"114.0\" /><line stroke=\"black\" stroke-width=\"3.0\" x1=\"66.0\" x2=\"114.0\" y1=\"114.0\" y2=\"66.0\" /><line stroke=\"black\" stroke-width=\"3.0\" x1=\"126.0\" x2=\"174.0\" y1=\"126.0\" y2=\"174.0\" /><line stroke=\"black\" stroke-width=\"3.0\" x1=\"126.0\" x2=\"174.0\" y1=\"174.0\" y2=\"126.0\" /></g><rect fill=\"none\" height=\"240\" stroke=\"gray\" width=\"240\" x=\"240\" y=\"480\" /></g></svg>"
          },
          "metadata": {}
        },
        {
          "output_type": "stream",
          "name": "stdout",
          "text": [
            "5\n"
          ]
        },
        {
          "output_type": "display_data",
          "data": {
            "image/svg+xml": "<svg baseProfile=\"full\" height=\"720.0\" version=\"1.1\" width=\"960.0\" xmlns=\"http://www.w3.org/2000/svg\" xmlns:ev=\"http://www.w3.org/2001/xml-events\" xmlns:xlink=\"http://www.w3.org/1999/xlink\"><defs /><g transform=\"scale(1.0)\"><rect fill=\"white\" height=\"720\" width=\"960\" x=\"0\" y=\"0\" /><g transform=\"translate(30.0,30.0)\"><g fill=\"black\" id=\"hlines\" stroke=\"black\"><line stroke-width=\"3.0\" x1=\"0\" x2=\"180\" y1=\"60\" y2=\"60\" /><circle cx=\"0\" cy=\"60\" r=\"0.84\" /><circle cx=\"180\" cy=\"60\" r=\"0.84\" /><line stroke-width=\"3.0\" x1=\"0\" x2=\"180\" y1=\"120\" y2=\"120\" /><circle cx=\"0\" cy=\"120\" r=\"0.84\" /><circle cx=\"180\" cy=\"120\" r=\"0.84\" /></g><g fill=\"black\" id=\"vline\" stroke=\"black\"><line stroke-width=\"3.0\" x1=\"60\" x2=\"60\" y1=\"0\" y2=\"180\" /><circle cx=\"60\" cy=\"0\" r=\"0.84\" /><circle cx=\"60\" cy=\"180\" r=\"0.84\" /><line stroke-width=\"3.0\" x1=\"120\" x2=\"120\" y1=\"0\" y2=\"180\" /><circle cx=\"120\" cy=\"0\" r=\"0.84\" /><circle cx=\"120\" cy=\"180\" r=\"0.84\" /></g><circle cx=\"30.0\" cy=\"30.0\" fill=\"none\" r=\"24.0\" stroke=\"black\" stroke-width=\"3.0\" /><line stroke=\"black\" stroke-width=\"3.0\" x1=\"66.0\" x2=\"114.0\" y1=\"6.0\" y2=\"54.0\" /><line stroke=\"black\" stroke-width=\"3.0\" x1=\"66.0\" x2=\"114.0\" y1=\"54.0\" y2=\"6.0\" /><line stroke=\"black\" stroke-width=\"3.0\" x1=\"66.0\" x2=\"114.0\" y1=\"66.0\" y2=\"114.0\" /><line stroke=\"black\" stroke-width=\"3.0\" x1=\"66.0\" x2=\"114.0\" y1=\"114.0\" y2=\"66.0\" /><circle cx=\"150.0\" cy=\"90.0\" fill=\"none\" r=\"24.0\" stroke=\"black\" stroke-width=\"3.0\" /><line stroke=\"black\" stroke-width=\"3.0\" x1=\"6.0\" x2=\"54.0\" y1=\"126.0\" y2=\"174.0\" /><line stroke=\"black\" stroke-width=\"3.0\" x1=\"6.0\" x2=\"54.0\" y1=\"174.0\" y2=\"126.0\" /><circle cx=\"150.0\" cy=\"150.0\" fill=\"none\" r=\"24.0\" stroke=\"black\" stroke-width=\"3.0\" /></g><rect fill=\"none\" height=\"240\" stroke=\"gray\" width=\"240\" x=\"0\" y=\"0\" /><g transform=\"translate(270.0,30.0)\"><g fill=\"black\" id=\"hlines\" stroke=\"black\"><line stroke-width=\"3.0\" x1=\"0\" x2=\"180\" y1=\"60\" y2=\"60\" /><circle cx=\"0\" cy=\"60\" r=\"0.84\" /><circle cx=\"180\" cy=\"60\" r=\"0.84\" /><line stroke-width=\"3.0\" x1=\"0\" x2=\"180\" y1=\"120\" y2=\"120\" /><circle cx=\"0\" cy=\"120\" r=\"0.84\" /><circle cx=\"180\" cy=\"120\" r=\"0.84\" /></g><g fill=\"black\" id=\"vline\" stroke=\"black\"><line stroke-width=\"3.0\" x1=\"60\" x2=\"60\" y1=\"0\" y2=\"180\" /><circle cx=\"60\" cy=\"0\" r=\"0.84\" /><circle cx=\"60\" cy=\"180\" r=\"0.84\" /><line stroke-width=\"3.0\" x1=\"120\" x2=\"120\" y1=\"0\" y2=\"180\" /><circle cx=\"120\" cy=\"0\" r=\"0.84\" /><circle cx=\"120\" cy=\"180\" r=\"0.84\" /></g><circle cx=\"30.0\" cy=\"30.0\" fill=\"none\" r=\"24.0\" stroke=\"black\" stroke-width=\"3.0\" /><circle cx=\"150.0\" cy=\"30.0\" fill=\"none\" r=\"24.0\" stroke=\"black\" stroke-width=\"3.0\" /><line stroke=\"black\" stroke-width=\"3.0\" x1=\"66.0\" x2=\"114.0\" y1=\"66.0\" y2=\"114.0\" /><line stroke=\"black\" stroke-width=\"3.0\" x1=\"66.0\" x2=\"114.0\" y1=\"114.0\" y2=\"66.0\" /><line stroke=\"black\" stroke-width=\"3.0\" x1=\"126.0\" x2=\"174.0\" y1=\"66.0\" y2=\"114.0\" /><line stroke=\"black\" stroke-width=\"3.0\" x1=\"126.0\" x2=\"174.0\" y1=\"114.0\" y2=\"66.0\" /><line stroke=\"black\" stroke-width=\"3.0\" x1=\"66.0\" x2=\"114.0\" y1=\"126.0\" y2=\"174.0\" /><line stroke=\"black\" stroke-width=\"3.0\" x1=\"66.0\" x2=\"114.0\" y1=\"174.0\" y2=\"126.0\" /><circle cx=\"150.0\" cy=\"150.0\" fill=\"none\" r=\"24.0\" stroke=\"black\" stroke-width=\"3.0\" /></g><rect fill=\"none\" height=\"240\" stroke=\"gray\" width=\"240\" x=\"240\" y=\"0\" /><g transform=\"translate(510.0,30.0)\"><g fill=\"black\" id=\"hlines\" stroke=\"black\"><line stroke-width=\"3.0\" x1=\"0\" x2=\"180\" y1=\"60\" y2=\"60\" /><circle cx=\"0\" cy=\"60\" r=\"0.84\" /><circle cx=\"180\" cy=\"60\" r=\"0.84\" /><line stroke-width=\"3.0\" x1=\"0\" x2=\"180\" y1=\"120\" y2=\"120\" /><circle cx=\"0\" cy=\"120\" r=\"0.84\" /><circle cx=\"180\" cy=\"120\" r=\"0.84\" /></g><g fill=\"black\" id=\"vline\" stroke=\"black\"><line stroke-width=\"3.0\" x1=\"60\" x2=\"60\" y1=\"0\" y2=\"180\" /><circle cx=\"60\" cy=\"0\" r=\"0.84\" /><circle cx=\"60\" cy=\"180\" r=\"0.84\" /><line stroke-width=\"3.0\" x1=\"120\" x2=\"120\" y1=\"0\" y2=\"180\" /><circle cx=\"120\" cy=\"0\" r=\"0.84\" /><circle cx=\"120\" cy=\"180\" r=\"0.84\" /></g><line stroke=\"black\" stroke-width=\"3.0\" x1=\"6.0\" x2=\"54.0\" y1=\"6.0\" y2=\"54.0\" /><line stroke=\"black\" stroke-width=\"3.0\" x1=\"6.0\" x2=\"54.0\" y1=\"54.0\" y2=\"6.0\" /><line stroke=\"black\" stroke-width=\"3.0\" x1=\"66.0\" x2=\"114.0\" y1=\"6.0\" y2=\"54.0\" /><line stroke=\"black\" stroke-width=\"3.0\" x1=\"66.0\" x2=\"114.0\" y1=\"54.0\" y2=\"6.0\" /><circle cx=\"30.0\" cy=\"90.0\" fill=\"none\" r=\"24.0\" stroke=\"black\" stroke-width=\"3.0\" /><line stroke=\"black\" stroke-width=\"3.0\" x1=\"66.0\" x2=\"114.0\" y1=\"66.0\" y2=\"114.0\" /><line stroke=\"black\" stroke-width=\"3.0\" x1=\"66.0\" x2=\"114.0\" y1=\"114.0\" y2=\"66.0\" /><circle cx=\"30.0\" cy=\"150.0\" fill=\"none\" r=\"24.0\" stroke=\"black\" stroke-width=\"3.0\" /><circle cx=\"150.0\" cy=\"150.0\" fill=\"none\" r=\"24.0\" stroke=\"black\" stroke-width=\"3.0\" /></g><rect fill=\"none\" height=\"240\" stroke=\"gray\" width=\"240\" x=\"480\" y=\"0\" /><g transform=\"translate(750.0,30.0)\"><g fill=\"black\" id=\"hlines\" stroke=\"black\"><line stroke-width=\"3.0\" x1=\"0\" x2=\"180\" y1=\"60\" y2=\"60\" /><circle cx=\"0\" cy=\"60\" r=\"0.84\" /><circle cx=\"180\" cy=\"60\" r=\"0.84\" /><line stroke-width=\"3.0\" x1=\"0\" x2=\"180\" y1=\"120\" y2=\"120\" /><circle cx=\"0\" cy=\"120\" r=\"0.84\" /><circle cx=\"180\" cy=\"120\" r=\"0.84\" /></g><g fill=\"black\" id=\"vline\" stroke=\"black\"><line stroke-width=\"3.0\" x1=\"60\" x2=\"60\" y1=\"0\" y2=\"180\" /><circle cx=\"60\" cy=\"0\" r=\"0.84\" /><circle cx=\"60\" cy=\"180\" r=\"0.84\" /><line stroke-width=\"3.0\" x1=\"120\" x2=\"120\" y1=\"0\" y2=\"180\" /><circle cx=\"120\" cy=\"0\" r=\"0.84\" /><circle cx=\"120\" cy=\"180\" r=\"0.84\" /></g><circle cx=\"90.0\" cy=\"30.0\" fill=\"none\" r=\"24.0\" stroke=\"black\" stroke-width=\"3.0\" /><circle cx=\"150.0\" cy=\"30.0\" fill=\"none\" r=\"24.0\" stroke=\"black\" stroke-width=\"3.0\" /><line stroke=\"black\" stroke-width=\"3.0\" x1=\"6.0\" x2=\"54.0\" y1=\"66.0\" y2=\"114.0\" /><line stroke=\"black\" stroke-width=\"3.0\" x1=\"6.0\" x2=\"54.0\" y1=\"114.0\" y2=\"66.0\" /><line stroke=\"black\" stroke-width=\"3.0\" x1=\"66.0\" x2=\"114.0\" y1=\"66.0\" y2=\"114.0\" /><line stroke=\"black\" stroke-width=\"3.0\" x1=\"66.0\" x2=\"114.0\" y1=\"114.0\" y2=\"66.0\" /><line stroke=\"black\" stroke-width=\"3.0\" x1=\"126.0\" x2=\"174.0\" y1=\"66.0\" y2=\"114.0\" /><line stroke=\"black\" stroke-width=\"3.0\" x1=\"126.0\" x2=\"174.0\" y1=\"114.0\" y2=\"66.0\" /></g><rect fill=\"none\" height=\"240\" stroke=\"gray\" width=\"240\" x=\"720\" y=\"0\" /><g transform=\"translate(30.0,270.0)\"><g fill=\"black\" id=\"hlines\" stroke=\"black\"><line stroke-width=\"3.0\" x1=\"0\" x2=\"180\" y1=\"60\" y2=\"60\" /><circle cx=\"0\" cy=\"60\" r=\"0.84\" /><circle cx=\"180\" cy=\"60\" r=\"0.84\" /><line stroke-width=\"3.0\" x1=\"0\" x2=\"180\" y1=\"120\" y2=\"120\" /><circle cx=\"0\" cy=\"120\" r=\"0.84\" /><circle cx=\"180\" cy=\"120\" r=\"0.84\" /></g><g fill=\"black\" id=\"vline\" stroke=\"black\"><line stroke-width=\"3.0\" x1=\"60\" x2=\"60\" y1=\"0\" y2=\"180\" /><circle cx=\"60\" cy=\"0\" r=\"0.84\" /><circle cx=\"60\" cy=\"180\" r=\"0.84\" /><line stroke-width=\"3.0\" x1=\"120\" x2=\"120\" y1=\"0\" y2=\"180\" /><circle cx=\"120\" cy=\"0\" r=\"0.84\" /><circle cx=\"120\" cy=\"180\" r=\"0.84\" /></g><line stroke=\"black\" stroke-width=\"3.0\" x1=\"66.0\" x2=\"114.0\" y1=\"6.0\" y2=\"54.0\" /><line stroke=\"black\" stroke-width=\"3.0\" x1=\"66.0\" x2=\"114.0\" y1=\"54.0\" y2=\"6.0\" /><circle cx=\"150.0\" cy=\"30.0\" fill=\"none\" r=\"24.0\" stroke=\"black\" stroke-width=\"3.0\" /><line stroke=\"black\" stroke-width=\"3.0\" x1=\"66.0\" x2=\"114.0\" y1=\"66.0\" y2=\"114.0\" /><line stroke=\"black\" stroke-width=\"3.0\" x1=\"66.0\" x2=\"114.0\" y1=\"114.0\" y2=\"66.0\" /><line stroke=\"black\" stroke-width=\"3.0\" x1=\"126.0\" x2=\"174.0\" y1=\"66.0\" y2=\"114.0\" /><line stroke=\"black\" stroke-width=\"3.0\" x1=\"126.0\" x2=\"174.0\" y1=\"114.0\" y2=\"66.0\" /><circle cx=\"30.0\" cy=\"150.0\" fill=\"none\" r=\"24.0\" stroke=\"black\" stroke-width=\"3.0\" /><circle cx=\"150.0\" cy=\"150.0\" fill=\"none\" r=\"24.0\" stroke=\"black\" stroke-width=\"3.0\" /></g><rect fill=\"none\" height=\"240\" stroke=\"gray\" width=\"240\" x=\"0\" y=\"240\" /><g transform=\"translate(270.0,270.0)\"><g fill=\"black\" id=\"hlines\" stroke=\"black\"><line stroke-width=\"3.0\" x1=\"0\" x2=\"180\" y1=\"60\" y2=\"60\" /><circle cx=\"0\" cy=\"60\" r=\"0.84\" /><circle cx=\"180\" cy=\"60\" r=\"0.84\" /><line stroke-width=\"3.0\" x1=\"0\" x2=\"180\" y1=\"120\" y2=\"120\" /><circle cx=\"0\" cy=\"120\" r=\"0.84\" /><circle cx=\"180\" cy=\"120\" r=\"0.84\" /></g><g fill=\"black\" id=\"vline\" stroke=\"black\"><line stroke-width=\"3.0\" x1=\"60\" x2=\"60\" y1=\"0\" y2=\"180\" /><circle cx=\"60\" cy=\"0\" r=\"0.84\" /><circle cx=\"60\" cy=\"180\" r=\"0.84\" /><line stroke-width=\"3.0\" x1=\"120\" x2=\"120\" y1=\"0\" y2=\"180\" /><circle cx=\"120\" cy=\"0\" r=\"0.84\" /><circle cx=\"120\" cy=\"180\" r=\"0.84\" /></g><line stroke=\"black\" stroke-width=\"3.0\" x1=\"6.0\" x2=\"54.0\" y1=\"6.0\" y2=\"54.0\" /><line stroke=\"black\" stroke-width=\"3.0\" x1=\"6.0\" x2=\"54.0\" y1=\"54.0\" y2=\"6.0\" /><line stroke=\"black\" stroke-width=\"3.0\" x1=\"126.0\" x2=\"174.0\" y1=\"6.0\" y2=\"54.0\" /><line stroke=\"black\" stroke-width=\"3.0\" x1=\"126.0\" x2=\"174.0\" y1=\"54.0\" y2=\"6.0\" /><circle cx=\"30.0\" cy=\"90.0\" fill=\"none\" r=\"24.0\" stroke=\"black\" stroke-width=\"3.0\" /><line stroke=\"black\" stroke-width=\"3.0\" x1=\"66.0\" x2=\"114.0\" y1=\"66.0\" y2=\"114.0\" /><line stroke=\"black\" stroke-width=\"3.0\" x1=\"66.0\" x2=\"114.0\" y1=\"114.0\" y2=\"66.0\" /><circle cx=\"30.0\" cy=\"150.0\" fill=\"none\" r=\"24.0\" stroke=\"black\" stroke-width=\"3.0\" /><circle cx=\"150.0\" cy=\"150.0\" fill=\"none\" r=\"24.0\" stroke=\"black\" stroke-width=\"3.0\" /></g><rect fill=\"none\" height=\"240\" stroke=\"gray\" width=\"240\" x=\"240\" y=\"240\" /><g transform=\"translate(510.0,270.0)\"><g fill=\"black\" id=\"hlines\" stroke=\"black\"><line stroke-width=\"3.0\" x1=\"0\" x2=\"180\" y1=\"60\" y2=\"60\" /><circle cx=\"0\" cy=\"60\" r=\"0.84\" /><circle cx=\"180\" cy=\"60\" r=\"0.84\" /><line stroke-width=\"3.0\" x1=\"0\" x2=\"180\" y1=\"120\" y2=\"120\" /><circle cx=\"0\" cy=\"120\" r=\"0.84\" /><circle cx=\"180\" cy=\"120\" r=\"0.84\" /></g><g fill=\"black\" id=\"vline\" stroke=\"black\"><line stroke-width=\"3.0\" x1=\"60\" x2=\"60\" y1=\"0\" y2=\"180\" /><circle cx=\"60\" cy=\"0\" r=\"0.84\" /><circle cx=\"60\" cy=\"180\" r=\"0.84\" /><line stroke-width=\"3.0\" x1=\"120\" x2=\"120\" y1=\"0\" y2=\"180\" /><circle cx=\"120\" cy=\"0\" r=\"0.84\" /><circle cx=\"120\" cy=\"180\" r=\"0.84\" /></g><circle cx=\"30.0\" cy=\"30.0\" fill=\"none\" r=\"24.0\" stroke=\"black\" stroke-width=\"3.0\" /><line stroke=\"black\" stroke-width=\"3.0\" x1=\"126.0\" x2=\"174.0\" y1=\"6.0\" y2=\"54.0\" /><line stroke=\"black\" stroke-width=\"3.0\" x1=\"126.0\" x2=\"174.0\" y1=\"54.0\" y2=\"6.0\" /><circle cx=\"30.0\" cy=\"90.0\" fill=\"none\" r=\"24.0\" stroke=\"black\" stroke-width=\"3.0\" /><line stroke=\"black\" stroke-width=\"3.0\" x1=\"66.0\" x2=\"114.0\" y1=\"66.0\" y2=\"114.0\" /><line stroke=\"black\" stroke-width=\"3.0\" x1=\"66.0\" x2=\"114.0\" y1=\"114.0\" y2=\"66.0\" /><line stroke=\"black\" stroke-width=\"3.0\" x1=\"126.0\" x2=\"174.0\" y1=\"66.0\" y2=\"114.0\" /><line stroke=\"black\" stroke-width=\"3.0\" x1=\"126.0\" x2=\"174.0\" y1=\"114.0\" y2=\"66.0\" /><circle cx=\"90.0\" cy=\"150.0\" fill=\"none\" r=\"24.0\" stroke=\"black\" stroke-width=\"3.0\" /></g><rect fill=\"none\" height=\"240\" stroke=\"gray\" width=\"240\" x=\"480\" y=\"240\" /><g transform=\"translate(750.0,270.0)\"><g fill=\"black\" id=\"hlines\" stroke=\"black\"><line stroke-width=\"3.0\" x1=\"0\" x2=\"180\" y1=\"60\" y2=\"60\" /><circle cx=\"0\" cy=\"60\" r=\"0.84\" /><circle cx=\"180\" cy=\"60\" r=\"0.84\" /><line stroke-width=\"3.0\" x1=\"0\" x2=\"180\" y1=\"120\" y2=\"120\" /><circle cx=\"0\" cy=\"120\" r=\"0.84\" /><circle cx=\"180\" cy=\"120\" r=\"0.84\" /></g><g fill=\"black\" id=\"vline\" stroke=\"black\"><line stroke-width=\"3.0\" x1=\"60\" x2=\"60\" y1=\"0\" y2=\"180\" /><circle cx=\"60\" cy=\"0\" r=\"0.84\" /><circle cx=\"60\" cy=\"180\" r=\"0.84\" /><line stroke-width=\"3.0\" x1=\"120\" x2=\"120\" y1=\"0\" y2=\"180\" /><circle cx=\"120\" cy=\"0\" r=\"0.84\" /><circle cx=\"120\" cy=\"180\" r=\"0.84\" /></g><circle cx=\"30.0\" cy=\"30.0\" fill=\"none\" r=\"24.0\" stroke=\"black\" stroke-width=\"3.0\" /><circle cx=\"90.0\" cy=\"30.0\" fill=\"none\" r=\"24.0\" stroke=\"black\" stroke-width=\"3.0\" /><line stroke=\"black\" stroke-width=\"3.0\" x1=\"126.0\" x2=\"174.0\" y1=\"6.0\" y2=\"54.0\" /><line stroke=\"black\" stroke-width=\"3.0\" x1=\"126.0\" x2=\"174.0\" y1=\"54.0\" y2=\"6.0\" /><line stroke=\"black\" stroke-width=\"3.0\" x1=\"66.0\" x2=\"114.0\" y1=\"66.0\" y2=\"114.0\" /><line stroke=\"black\" stroke-width=\"3.0\" x1=\"66.0\" x2=\"114.0\" y1=\"114.0\" y2=\"66.0\" /><line stroke=\"black\" stroke-width=\"3.0\" x1=\"66.0\" x2=\"114.0\" y1=\"126.0\" y2=\"174.0\" /><line stroke=\"black\" stroke-width=\"3.0\" x1=\"66.0\" x2=\"114.0\" y1=\"174.0\" y2=\"126.0\" /><circle cx=\"150.0\" cy=\"150.0\" fill=\"none\" r=\"24.0\" stroke=\"black\" stroke-width=\"3.0\" /></g><rect fill=\"none\" height=\"240\" stroke=\"gray\" width=\"240\" x=\"720\" y=\"240\" /><g transform=\"translate(30.0,510.0)\"><g fill=\"black\" id=\"hlines\" stroke=\"black\"><line stroke-width=\"3.0\" x1=\"0\" x2=\"180\" y1=\"60\" y2=\"60\" /><circle cx=\"0\" cy=\"60\" r=\"0.84\" /><circle cx=\"180\" cy=\"60\" r=\"0.84\" /><line stroke-width=\"3.0\" x1=\"0\" x2=\"180\" y1=\"120\" y2=\"120\" /><circle cx=\"0\" cy=\"120\" r=\"0.84\" /><circle cx=\"180\" cy=\"120\" r=\"0.84\" /></g><g fill=\"black\" id=\"vline\" stroke=\"black\"><line stroke-width=\"3.0\" x1=\"60\" x2=\"60\" y1=\"0\" y2=\"180\" /><circle cx=\"60\" cy=\"0\" r=\"0.84\" /><circle cx=\"60\" cy=\"180\" r=\"0.84\" /><line stroke-width=\"3.0\" x1=\"120\" x2=\"120\" y1=\"0\" y2=\"180\" /><circle cx=\"120\" cy=\"0\" r=\"0.84\" /><circle cx=\"120\" cy=\"180\" r=\"0.84\" /></g><circle cx=\"30.0\" cy=\"30.0\" fill=\"none\" r=\"24.0\" stroke=\"black\" stroke-width=\"3.0\" /><line stroke=\"black\" stroke-width=\"3.0\" x1=\"126.0\" x2=\"174.0\" y1=\"6.0\" y2=\"54.0\" /><line stroke=\"black\" stroke-width=\"3.0\" x1=\"126.0\" x2=\"174.0\" y1=\"54.0\" y2=\"6.0\" /><line stroke=\"black\" stroke-width=\"3.0\" x1=\"66.0\" x2=\"114.0\" y1=\"66.0\" y2=\"114.0\" /><line stroke=\"black\" stroke-width=\"3.0\" x1=\"66.0\" x2=\"114.0\" y1=\"114.0\" y2=\"66.0\" /><circle cx=\"150.0\" cy=\"90.0\" fill=\"none\" r=\"24.0\" stroke=\"black\" stroke-width=\"3.0\" /><line stroke=\"black\" stroke-width=\"3.0\" x1=\"6.0\" x2=\"54.0\" y1=\"126.0\" y2=\"174.0\" /><line stroke=\"black\" stroke-width=\"3.0\" x1=\"6.0\" x2=\"54.0\" y1=\"174.0\" y2=\"126.0\" /></g><rect fill=\"none\" height=\"240\" stroke=\"gray\" width=\"240\" x=\"0\" y=\"480\" /><g transform=\"translate(270.0,510.0)\"><g fill=\"black\" id=\"hlines\" stroke=\"black\"><line stroke-width=\"3.0\" x1=\"0\" x2=\"180\" y1=\"60\" y2=\"60\" /><circle cx=\"0\" cy=\"60\" r=\"0.84\" /><circle cx=\"180\" cy=\"60\" r=\"0.84\" /><line stroke-width=\"3.0\" x1=\"0\" x2=\"180\" y1=\"120\" y2=\"120\" /><circle cx=\"0\" cy=\"120\" r=\"0.84\" /><circle cx=\"180\" cy=\"120\" r=\"0.84\" /></g><g fill=\"black\" id=\"vline\" stroke=\"black\"><line stroke-width=\"3.0\" x1=\"60\" x2=\"60\" y1=\"0\" y2=\"180\" /><circle cx=\"60\" cy=\"0\" r=\"0.84\" /><circle cx=\"60\" cy=\"180\" r=\"0.84\" /><line stroke-width=\"3.0\" x1=\"120\" x2=\"120\" y1=\"0\" y2=\"180\" /><circle cx=\"120\" cy=\"0\" r=\"0.84\" /><circle cx=\"120\" cy=\"180\" r=\"0.84\" /></g><line stroke=\"black\" stroke-width=\"3.0\" x1=\"6.0\" x2=\"54.0\" y1=\"6.0\" y2=\"54.0\" /><line stroke=\"black\" stroke-width=\"3.0\" x1=\"6.0\" x2=\"54.0\" y1=\"54.0\" y2=\"6.0\" /><circle cx=\"90.0\" cy=\"30.0\" fill=\"none\" r=\"24.0\" stroke=\"black\" stroke-width=\"3.0\" /><circle cx=\"30.0\" cy=\"90.0\" fill=\"none\" r=\"24.0\" stroke=\"black\" stroke-width=\"3.0\" /><line stroke=\"black\" stroke-width=\"3.0\" x1=\"66.0\" x2=\"114.0\" y1=\"66.0\" y2=\"114.0\" /><line stroke=\"black\" stroke-width=\"3.0\" x1=\"66.0\" x2=\"114.0\" y1=\"114.0\" y2=\"66.0\" /><line stroke=\"black\" stroke-width=\"3.0\" x1=\"126.0\" x2=\"174.0\" y1=\"126.0\" y2=\"174.0\" /><line stroke=\"black\" stroke-width=\"3.0\" x1=\"126.0\" x2=\"174.0\" y1=\"174.0\" y2=\"126.0\" /></g><rect fill=\"none\" height=\"240\" stroke=\"gray\" width=\"240\" x=\"240\" y=\"480\" /></g></svg>"
          },
          "metadata": {}
        },
        {
          "output_type": "stream",
          "name": "stdout",
          "text": [
            "6\n"
          ]
        },
        {
          "output_type": "display_data",
          "data": {
            "image/svg+xml": "<svg baseProfile=\"full\" height=\"720.0\" version=\"1.1\" width=\"960.0\" xmlns=\"http://www.w3.org/2000/svg\" xmlns:ev=\"http://www.w3.org/2001/xml-events\" xmlns:xlink=\"http://www.w3.org/1999/xlink\"><defs /><g transform=\"scale(1.0)\"><rect fill=\"white\" height=\"720\" width=\"960\" x=\"0\" y=\"0\" /><g transform=\"translate(30.0,30.0)\"><g fill=\"black\" id=\"hlines\" stroke=\"black\"><line stroke-width=\"3.0\" x1=\"0\" x2=\"180\" y1=\"60\" y2=\"60\" /><circle cx=\"0\" cy=\"60\" r=\"0.84\" /><circle cx=\"180\" cy=\"60\" r=\"0.84\" /><line stroke-width=\"3.0\" x1=\"0\" x2=\"180\" y1=\"120\" y2=\"120\" /><circle cx=\"0\" cy=\"120\" r=\"0.84\" /><circle cx=\"180\" cy=\"120\" r=\"0.84\" /></g><g fill=\"black\" id=\"vline\" stroke=\"black\"><line stroke-width=\"3.0\" x1=\"60\" x2=\"60\" y1=\"0\" y2=\"180\" /><circle cx=\"60\" cy=\"0\" r=\"0.84\" /><circle cx=\"60\" cy=\"180\" r=\"0.84\" /><line stroke-width=\"3.0\" x1=\"120\" x2=\"120\" y1=\"0\" y2=\"180\" /><circle cx=\"120\" cy=\"0\" r=\"0.84\" /><circle cx=\"120\" cy=\"180\" r=\"0.84\" /></g><circle cx=\"30.0\" cy=\"30.0\" fill=\"none\" r=\"24.0\" stroke=\"black\" stroke-width=\"3.0\" /><line stroke=\"black\" stroke-width=\"3.0\" x1=\"66.0\" x2=\"114.0\" y1=\"6.0\" y2=\"54.0\" /><line stroke=\"black\" stroke-width=\"3.0\" x1=\"66.0\" x2=\"114.0\" y1=\"54.0\" y2=\"6.0\" /><line stroke=\"black\" stroke-width=\"3.0\" x1=\"66.0\" x2=\"114.0\" y1=\"66.0\" y2=\"114.0\" /><line stroke=\"black\" stroke-width=\"3.0\" x1=\"66.0\" x2=\"114.0\" y1=\"114.0\" y2=\"66.0\" /><circle cx=\"150.0\" cy=\"90.0\" fill=\"none\" r=\"24.0\" stroke=\"black\" stroke-width=\"3.0\" /><line stroke=\"black\" stroke-width=\"3.0\" x1=\"6.0\" x2=\"54.0\" y1=\"126.0\" y2=\"174.0\" /><line stroke=\"black\" stroke-width=\"3.0\" x1=\"6.0\" x2=\"54.0\" y1=\"174.0\" y2=\"126.0\" /><line stroke=\"black\" stroke-width=\"3.0\" x1=\"66.0\" x2=\"114.0\" y1=\"126.0\" y2=\"174.0\" /><line stroke=\"black\" stroke-width=\"3.0\" x1=\"66.0\" x2=\"114.0\" y1=\"174.0\" y2=\"126.0\" /><circle cx=\"150.0\" cy=\"150.0\" fill=\"none\" r=\"24.0\" stroke=\"black\" stroke-width=\"3.0\" /></g><rect fill=\"none\" height=\"240\" stroke=\"gray\" width=\"240\" x=\"0\" y=\"0\" /><g transform=\"translate(270.0,30.0)\"><g fill=\"black\" id=\"hlines\" stroke=\"black\"><line stroke-width=\"3.0\" x1=\"0\" x2=\"180\" y1=\"60\" y2=\"60\" /><circle cx=\"0\" cy=\"60\" r=\"0.84\" /><circle cx=\"180\" cy=\"60\" r=\"0.84\" /><line stroke-width=\"3.0\" x1=\"0\" x2=\"180\" y1=\"120\" y2=\"120\" /><circle cx=\"0\" cy=\"120\" r=\"0.84\" /><circle cx=\"180\" cy=\"120\" r=\"0.84\" /></g><g fill=\"black\" id=\"vline\" stroke=\"black\"><line stroke-width=\"3.0\" x1=\"60\" x2=\"60\" y1=\"0\" y2=\"180\" /><circle cx=\"60\" cy=\"0\" r=\"0.84\" /><circle cx=\"60\" cy=\"180\" r=\"0.84\" /><line stroke-width=\"3.0\" x1=\"120\" x2=\"120\" y1=\"0\" y2=\"180\" /><circle cx=\"120\" cy=\"0\" r=\"0.84\" /><circle cx=\"120\" cy=\"180\" r=\"0.84\" /></g><circle cx=\"30.0\" cy=\"30.0\" fill=\"none\" r=\"24.0\" stroke=\"black\" stroke-width=\"3.0\" /><line stroke=\"black\" stroke-width=\"3.0\" x1=\"66.0\" x2=\"114.0\" y1=\"6.0\" y2=\"54.0\" /><line stroke=\"black\" stroke-width=\"3.0\" x1=\"66.0\" x2=\"114.0\" y1=\"54.0\" y2=\"6.0\" /><circle cx=\"150.0\" cy=\"30.0\" fill=\"none\" r=\"24.0\" stroke=\"black\" stroke-width=\"3.0\" /><line stroke=\"black\" stroke-width=\"3.0\" x1=\"66.0\" x2=\"114.0\" y1=\"66.0\" y2=\"114.0\" /><line stroke=\"black\" stroke-width=\"3.0\" x1=\"66.0\" x2=\"114.0\" y1=\"114.0\" y2=\"66.0\" /><line stroke=\"black\" stroke-width=\"3.0\" x1=\"126.0\" x2=\"174.0\" y1=\"66.0\" y2=\"114.0\" /><line stroke=\"black\" stroke-width=\"3.0\" x1=\"126.0\" x2=\"174.0\" y1=\"114.0\" y2=\"66.0\" /><line stroke=\"black\" stroke-width=\"3.0\" x1=\"66.0\" x2=\"114.0\" y1=\"126.0\" y2=\"174.0\" /><line stroke=\"black\" stroke-width=\"3.0\" x1=\"66.0\" x2=\"114.0\" y1=\"174.0\" y2=\"126.0\" /><circle cx=\"150.0\" cy=\"150.0\" fill=\"none\" r=\"24.0\" stroke=\"black\" stroke-width=\"3.0\" /></g><rect fill=\"none\" height=\"240\" stroke=\"gray\" width=\"240\" x=\"240\" y=\"0\" /><g transform=\"translate(510.0,30.0)\"><g fill=\"black\" id=\"hlines\" stroke=\"black\"><line stroke-width=\"3.0\" x1=\"0\" x2=\"180\" y1=\"60\" y2=\"60\" /><circle cx=\"0\" cy=\"60\" r=\"0.84\" /><circle cx=\"180\" cy=\"60\" r=\"0.84\" /><line stroke-width=\"3.0\" x1=\"0\" x2=\"180\" y1=\"120\" y2=\"120\" /><circle cx=\"0\" cy=\"120\" r=\"0.84\" /><circle cx=\"180\" cy=\"120\" r=\"0.84\" /></g><g fill=\"black\" id=\"vline\" stroke=\"black\"><line stroke-width=\"3.0\" x1=\"60\" x2=\"60\" y1=\"0\" y2=\"180\" /><circle cx=\"60\" cy=\"0\" r=\"0.84\" /><circle cx=\"60\" cy=\"180\" r=\"0.84\" /><line stroke-width=\"3.0\" x1=\"120\" x2=\"120\" y1=\"0\" y2=\"180\" /><circle cx=\"120\" cy=\"0\" r=\"0.84\" /><circle cx=\"120\" cy=\"180\" r=\"0.84\" /></g><line stroke=\"black\" stroke-width=\"3.0\" x1=\"6.0\" x2=\"54.0\" y1=\"6.0\" y2=\"54.0\" /><line stroke=\"black\" stroke-width=\"3.0\" x1=\"6.0\" x2=\"54.0\" y1=\"54.0\" y2=\"6.0\" /><line stroke=\"black\" stroke-width=\"3.0\" x1=\"66.0\" x2=\"114.0\" y1=\"6.0\" y2=\"54.0\" /><line stroke=\"black\" stroke-width=\"3.0\" x1=\"66.0\" x2=\"114.0\" y1=\"54.0\" y2=\"6.0\" /><circle cx=\"30.0\" cy=\"90.0\" fill=\"none\" r=\"24.0\" stroke=\"black\" stroke-width=\"3.0\" /><line stroke=\"black\" stroke-width=\"3.0\" x1=\"66.0\" x2=\"114.0\" y1=\"66.0\" y2=\"114.0\" /><line stroke=\"black\" stroke-width=\"3.0\" x1=\"66.0\" x2=\"114.0\" y1=\"114.0\" y2=\"66.0\" /><circle cx=\"30.0\" cy=\"150.0\" fill=\"none\" r=\"24.0\" stroke=\"black\" stroke-width=\"3.0\" /><line stroke=\"black\" stroke-width=\"3.0\" x1=\"66.0\" x2=\"114.0\" y1=\"126.0\" y2=\"174.0\" /><line stroke=\"black\" stroke-width=\"3.0\" x1=\"66.0\" x2=\"114.0\" y1=\"174.0\" y2=\"126.0\" /><circle cx=\"150.0\" cy=\"150.0\" fill=\"none\" r=\"24.0\" stroke=\"black\" stroke-width=\"3.0\" /></g><rect fill=\"none\" height=\"240\" stroke=\"gray\" width=\"240\" x=\"480\" y=\"0\" /><g transform=\"translate(750.0,30.0)\"><g fill=\"black\" id=\"hlines\" stroke=\"black\"><line stroke-width=\"3.0\" x1=\"0\" x2=\"180\" y1=\"60\" y2=\"60\" /><circle cx=\"0\" cy=\"60\" r=\"0.84\" /><circle cx=\"180\" cy=\"60\" r=\"0.84\" /><line stroke-width=\"3.0\" x1=\"0\" x2=\"180\" y1=\"120\" y2=\"120\" /><circle cx=\"0\" cy=\"120\" r=\"0.84\" /><circle cx=\"180\" cy=\"120\" r=\"0.84\" /></g><g fill=\"black\" id=\"vline\" stroke=\"black\"><line stroke-width=\"3.0\" x1=\"60\" x2=\"60\" y1=\"0\" y2=\"180\" /><circle cx=\"60\" cy=\"0\" r=\"0.84\" /><circle cx=\"60\" cy=\"180\" r=\"0.84\" /><line stroke-width=\"3.0\" x1=\"120\" x2=\"120\" y1=\"0\" y2=\"180\" /><circle cx=\"120\" cy=\"0\" r=\"0.84\" /><circle cx=\"120\" cy=\"180\" r=\"0.84\" /></g><circle cx=\"90.0\" cy=\"30.0\" fill=\"none\" r=\"24.0\" stroke=\"black\" stroke-width=\"3.0\" /><circle cx=\"150.0\" cy=\"30.0\" fill=\"none\" r=\"24.0\" stroke=\"black\" stroke-width=\"3.0\" /><line stroke=\"black\" stroke-width=\"3.0\" x1=\"6.0\" x2=\"54.0\" y1=\"66.0\" y2=\"114.0\" /><line stroke=\"black\" stroke-width=\"3.0\" x1=\"6.0\" x2=\"54.0\" y1=\"114.0\" y2=\"66.0\" /><line stroke=\"black\" stroke-width=\"3.0\" x1=\"66.0\" x2=\"114.0\" y1=\"66.0\" y2=\"114.0\" /><line stroke=\"black\" stroke-width=\"3.0\" x1=\"66.0\" x2=\"114.0\" y1=\"114.0\" y2=\"66.0\" /><line stroke=\"black\" stroke-width=\"3.0\" x1=\"126.0\" x2=\"174.0\" y1=\"66.0\" y2=\"114.0\" /><line stroke=\"black\" stroke-width=\"3.0\" x1=\"126.0\" x2=\"174.0\" y1=\"114.0\" y2=\"66.0\" /></g><rect fill=\"none\" height=\"240\" stroke=\"gray\" width=\"240\" x=\"720\" y=\"0\" /><g transform=\"translate(30.0,270.0)\"><g fill=\"black\" id=\"hlines\" stroke=\"black\"><line stroke-width=\"3.0\" x1=\"0\" x2=\"180\" y1=\"60\" y2=\"60\" /><circle cx=\"0\" cy=\"60\" r=\"0.84\" /><circle cx=\"180\" cy=\"60\" r=\"0.84\" /><line stroke-width=\"3.0\" x1=\"0\" x2=\"180\" y1=\"120\" y2=\"120\" /><circle cx=\"0\" cy=\"120\" r=\"0.84\" /><circle cx=\"180\" cy=\"120\" r=\"0.84\" /></g><g fill=\"black\" id=\"vline\" stroke=\"black\"><line stroke-width=\"3.0\" x1=\"60\" x2=\"60\" y1=\"0\" y2=\"180\" /><circle cx=\"60\" cy=\"0\" r=\"0.84\" /><circle cx=\"60\" cy=\"180\" r=\"0.84\" /><line stroke-width=\"3.0\" x1=\"120\" x2=\"120\" y1=\"0\" y2=\"180\" /><circle cx=\"120\" cy=\"0\" r=\"0.84\" /><circle cx=\"120\" cy=\"180\" r=\"0.84\" /></g><line stroke=\"black\" stroke-width=\"3.0\" x1=\"66.0\" x2=\"114.0\" y1=\"6.0\" y2=\"54.0\" /><line stroke=\"black\" stroke-width=\"3.0\" x1=\"66.0\" x2=\"114.0\" y1=\"54.0\" y2=\"6.0\" /><circle cx=\"150.0\" cy=\"30.0\" fill=\"none\" r=\"24.0\" stroke=\"black\" stroke-width=\"3.0\" /><line stroke=\"black\" stroke-width=\"3.0\" x1=\"6.0\" x2=\"54.0\" y1=\"66.0\" y2=\"114.0\" /><line stroke=\"black\" stroke-width=\"3.0\" x1=\"6.0\" x2=\"54.0\" y1=\"114.0\" y2=\"66.0\" /><line stroke=\"black\" stroke-width=\"3.0\" x1=\"66.0\" x2=\"114.0\" y1=\"66.0\" y2=\"114.0\" /><line stroke=\"black\" stroke-width=\"3.0\" x1=\"66.0\" x2=\"114.0\" y1=\"114.0\" y2=\"66.0\" /><line stroke=\"black\" stroke-width=\"3.0\" x1=\"126.0\" x2=\"174.0\" y1=\"66.0\" y2=\"114.0\" /><line stroke=\"black\" stroke-width=\"3.0\" x1=\"126.0\" x2=\"174.0\" y1=\"114.0\" y2=\"66.0\" /><circle cx=\"30.0\" cy=\"150.0\" fill=\"none\" r=\"24.0\" stroke=\"black\" stroke-width=\"3.0\" /><circle cx=\"150.0\" cy=\"150.0\" fill=\"none\" r=\"24.0\" stroke=\"black\" stroke-width=\"3.0\" /></g><rect fill=\"none\" height=\"240\" stroke=\"gray\" width=\"240\" x=\"0\" y=\"240\" /><g transform=\"translate(270.0,270.0)\"><g fill=\"black\" id=\"hlines\" stroke=\"black\"><line stroke-width=\"3.0\" x1=\"0\" x2=\"180\" y1=\"60\" y2=\"60\" /><circle cx=\"0\" cy=\"60\" r=\"0.84\" /><circle cx=\"180\" cy=\"60\" r=\"0.84\" /><line stroke-width=\"3.0\" x1=\"0\" x2=\"180\" y1=\"120\" y2=\"120\" /><circle cx=\"0\" cy=\"120\" r=\"0.84\" /><circle cx=\"180\" cy=\"120\" r=\"0.84\" /></g><g fill=\"black\" id=\"vline\" stroke=\"black\"><line stroke-width=\"3.0\" x1=\"60\" x2=\"60\" y1=\"0\" y2=\"180\" /><circle cx=\"60\" cy=\"0\" r=\"0.84\" /><circle cx=\"60\" cy=\"180\" r=\"0.84\" /><line stroke-width=\"3.0\" x1=\"120\" x2=\"120\" y1=\"0\" y2=\"180\" /><circle cx=\"120\" cy=\"0\" r=\"0.84\" /><circle cx=\"120\" cy=\"180\" r=\"0.84\" /></g><line stroke=\"black\" stroke-width=\"3.0\" x1=\"6.0\" x2=\"54.0\" y1=\"6.0\" y2=\"54.0\" /><line stroke=\"black\" stroke-width=\"3.0\" x1=\"6.0\" x2=\"54.0\" y1=\"54.0\" y2=\"6.0\" /><line stroke=\"black\" stroke-width=\"3.0\" x1=\"66.0\" x2=\"114.0\" y1=\"6.0\" y2=\"54.0\" /><line stroke=\"black\" stroke-width=\"3.0\" x1=\"66.0\" x2=\"114.0\" y1=\"54.0\" y2=\"6.0\" /><line stroke=\"black\" stroke-width=\"3.0\" x1=\"126.0\" x2=\"174.0\" y1=\"6.0\" y2=\"54.0\" /><line stroke=\"black\" stroke-width=\"3.0\" x1=\"126.0\" x2=\"174.0\" y1=\"54.0\" y2=\"6.0\" /><circle cx=\"30.0\" cy=\"90.0\" fill=\"none\" r=\"24.0\" stroke=\"black\" stroke-width=\"3.0\" /><line stroke=\"black\" stroke-width=\"3.0\" x1=\"66.0\" x2=\"114.0\" y1=\"66.0\" y2=\"114.0\" /><line stroke=\"black\" stroke-width=\"3.0\" x1=\"66.0\" x2=\"114.0\" y1=\"114.0\" y2=\"66.0\" /><circle cx=\"30.0\" cy=\"150.0\" fill=\"none\" r=\"24.0\" stroke=\"black\" stroke-width=\"3.0\" /><circle cx=\"150.0\" cy=\"150.0\" fill=\"none\" r=\"24.0\" stroke=\"black\" stroke-width=\"3.0\" /></g><rect fill=\"none\" height=\"240\" stroke=\"gray\" width=\"240\" x=\"240\" y=\"240\" /><g transform=\"translate(510.0,270.0)\"><g fill=\"black\" id=\"hlines\" stroke=\"black\"><line stroke-width=\"3.0\" x1=\"0\" x2=\"180\" y1=\"60\" y2=\"60\" /><circle cx=\"0\" cy=\"60\" r=\"0.84\" /><circle cx=\"180\" cy=\"60\" r=\"0.84\" /><line stroke-width=\"3.0\" x1=\"0\" x2=\"180\" y1=\"120\" y2=\"120\" /><circle cx=\"0\" cy=\"120\" r=\"0.84\" /><circle cx=\"180\" cy=\"120\" r=\"0.84\" /></g><g fill=\"black\" id=\"vline\" stroke=\"black\"><line stroke-width=\"3.0\" x1=\"60\" x2=\"60\" y1=\"0\" y2=\"180\" /><circle cx=\"60\" cy=\"0\" r=\"0.84\" /><circle cx=\"60\" cy=\"180\" r=\"0.84\" /><line stroke-width=\"3.0\" x1=\"120\" x2=\"120\" y1=\"0\" y2=\"180\" /><circle cx=\"120\" cy=\"0\" r=\"0.84\" /><circle cx=\"120\" cy=\"180\" r=\"0.84\" /></g><circle cx=\"30.0\" cy=\"30.0\" fill=\"none\" r=\"24.0\" stroke=\"black\" stroke-width=\"3.0\" /><line stroke=\"black\" stroke-width=\"3.0\" x1=\"126.0\" x2=\"174.0\" y1=\"6.0\" y2=\"54.0\" /><line stroke=\"black\" stroke-width=\"3.0\" x1=\"126.0\" x2=\"174.0\" y1=\"54.0\" y2=\"6.0\" /><circle cx=\"30.0\" cy=\"90.0\" fill=\"none\" r=\"24.0\" stroke=\"black\" stroke-width=\"3.0\" /><line stroke=\"black\" stroke-width=\"3.0\" x1=\"66.0\" x2=\"114.0\" y1=\"66.0\" y2=\"114.0\" /><line stroke=\"black\" stroke-width=\"3.0\" x1=\"66.0\" x2=\"114.0\" y1=\"114.0\" y2=\"66.0\" /><line stroke=\"black\" stroke-width=\"3.0\" x1=\"126.0\" x2=\"174.0\" y1=\"66.0\" y2=\"114.0\" /><line stroke=\"black\" stroke-width=\"3.0\" x1=\"126.0\" x2=\"174.0\" y1=\"114.0\" y2=\"66.0\" /><circle cx=\"90.0\" cy=\"150.0\" fill=\"none\" r=\"24.0\" stroke=\"black\" stroke-width=\"3.0\" /><line stroke=\"black\" stroke-width=\"3.0\" x1=\"126.0\" x2=\"174.0\" y1=\"126.0\" y2=\"174.0\" /><line stroke=\"black\" stroke-width=\"3.0\" x1=\"126.0\" x2=\"174.0\" y1=\"174.0\" y2=\"126.0\" /></g><rect fill=\"none\" height=\"240\" stroke=\"gray\" width=\"240\" x=\"480\" y=\"240\" /><g transform=\"translate(750.0,270.0)\"><g fill=\"black\" id=\"hlines\" stroke=\"black\"><line stroke-width=\"3.0\" x1=\"0\" x2=\"180\" y1=\"60\" y2=\"60\" /><circle cx=\"0\" cy=\"60\" r=\"0.84\" /><circle cx=\"180\" cy=\"60\" r=\"0.84\" /><line stroke-width=\"3.0\" x1=\"0\" x2=\"180\" y1=\"120\" y2=\"120\" /><circle cx=\"0\" cy=\"120\" r=\"0.84\" /><circle cx=\"180\" cy=\"120\" r=\"0.84\" /></g><g fill=\"black\" id=\"vline\" stroke=\"black\"><line stroke-width=\"3.0\" x1=\"60\" x2=\"60\" y1=\"0\" y2=\"180\" /><circle cx=\"60\" cy=\"0\" r=\"0.84\" /><circle cx=\"60\" cy=\"180\" r=\"0.84\" /><line stroke-width=\"3.0\" x1=\"120\" x2=\"120\" y1=\"0\" y2=\"180\" /><circle cx=\"120\" cy=\"0\" r=\"0.84\" /><circle cx=\"120\" cy=\"180\" r=\"0.84\" /></g><circle cx=\"30.0\" cy=\"30.0\" fill=\"none\" r=\"24.0\" stroke=\"black\" stroke-width=\"3.0\" /><circle cx=\"90.0\" cy=\"30.0\" fill=\"none\" r=\"24.0\" stroke=\"black\" stroke-width=\"3.0\" /><line stroke=\"black\" stroke-width=\"3.0\" x1=\"126.0\" x2=\"174.0\" y1=\"6.0\" y2=\"54.0\" /><line stroke=\"black\" stroke-width=\"3.0\" x1=\"126.0\" x2=\"174.0\" y1=\"54.0\" y2=\"6.0\" /><line stroke=\"black\" stroke-width=\"3.0\" x1=\"66.0\" x2=\"114.0\" y1=\"66.0\" y2=\"114.0\" /><line stroke=\"black\" stroke-width=\"3.0\" x1=\"66.0\" x2=\"114.0\" y1=\"114.0\" y2=\"66.0\" /><line stroke=\"black\" stroke-width=\"3.0\" x1=\"6.0\" x2=\"54.0\" y1=\"126.0\" y2=\"174.0\" /><line stroke=\"black\" stroke-width=\"3.0\" x1=\"6.0\" x2=\"54.0\" y1=\"174.0\" y2=\"126.0\" /><line stroke=\"black\" stroke-width=\"3.0\" x1=\"66.0\" x2=\"114.0\" y1=\"126.0\" y2=\"174.0\" /><line stroke=\"black\" stroke-width=\"3.0\" x1=\"66.0\" x2=\"114.0\" y1=\"174.0\" y2=\"126.0\" /><circle cx=\"150.0\" cy=\"150.0\" fill=\"none\" r=\"24.0\" stroke=\"black\" stroke-width=\"3.0\" /></g><rect fill=\"none\" height=\"240\" stroke=\"gray\" width=\"240\" x=\"720\" y=\"240\" /><g transform=\"translate(30.0,510.0)\"><g fill=\"black\" id=\"hlines\" stroke=\"black\"><line stroke-width=\"3.0\" x1=\"0\" x2=\"180\" y1=\"60\" y2=\"60\" /><circle cx=\"0\" cy=\"60\" r=\"0.84\" /><circle cx=\"180\" cy=\"60\" r=\"0.84\" /><line stroke-width=\"3.0\" x1=\"0\" x2=\"180\" y1=\"120\" y2=\"120\" /><circle cx=\"0\" cy=\"120\" r=\"0.84\" /><circle cx=\"180\" cy=\"120\" r=\"0.84\" /></g><g fill=\"black\" id=\"vline\" stroke=\"black\"><line stroke-width=\"3.0\" x1=\"60\" x2=\"60\" y1=\"0\" y2=\"180\" /><circle cx=\"60\" cy=\"0\" r=\"0.84\" /><circle cx=\"60\" cy=\"180\" r=\"0.84\" /><line stroke-width=\"3.0\" x1=\"120\" x2=\"120\" y1=\"0\" y2=\"180\" /><circle cx=\"120\" cy=\"0\" r=\"0.84\" /><circle cx=\"120\" cy=\"180\" r=\"0.84\" /></g><circle cx=\"30.0\" cy=\"30.0\" fill=\"none\" r=\"24.0\" stroke=\"black\" stroke-width=\"3.0\" /><line stroke=\"black\" stroke-width=\"3.0\" x1=\"126.0\" x2=\"174.0\" y1=\"6.0\" y2=\"54.0\" /><line stroke=\"black\" stroke-width=\"3.0\" x1=\"126.0\" x2=\"174.0\" y1=\"54.0\" y2=\"6.0\" /><line stroke=\"black\" stroke-width=\"3.0\" x1=\"66.0\" x2=\"114.0\" y1=\"66.0\" y2=\"114.0\" /><line stroke=\"black\" stroke-width=\"3.0\" x1=\"66.0\" x2=\"114.0\" y1=\"114.0\" y2=\"66.0\" /><circle cx=\"150.0\" cy=\"90.0\" fill=\"none\" r=\"24.0\" stroke=\"black\" stroke-width=\"3.0\" /><line stroke=\"black\" stroke-width=\"3.0\" x1=\"6.0\" x2=\"54.0\" y1=\"126.0\" y2=\"174.0\" /><line stroke=\"black\" stroke-width=\"3.0\" x1=\"6.0\" x2=\"54.0\" y1=\"174.0\" y2=\"126.0\" /></g><rect fill=\"none\" height=\"240\" stroke=\"gray\" width=\"240\" x=\"0\" y=\"480\" /><g transform=\"translate(270.0,510.0)\"><g fill=\"black\" id=\"hlines\" stroke=\"black\"><line stroke-width=\"3.0\" x1=\"0\" x2=\"180\" y1=\"60\" y2=\"60\" /><circle cx=\"0\" cy=\"60\" r=\"0.84\" /><circle cx=\"180\" cy=\"60\" r=\"0.84\" /><line stroke-width=\"3.0\" x1=\"0\" x2=\"180\" y1=\"120\" y2=\"120\" /><circle cx=\"0\" cy=\"120\" r=\"0.84\" /><circle cx=\"180\" cy=\"120\" r=\"0.84\" /></g><g fill=\"black\" id=\"vline\" stroke=\"black\"><line stroke-width=\"3.0\" x1=\"60\" x2=\"60\" y1=\"0\" y2=\"180\" /><circle cx=\"60\" cy=\"0\" r=\"0.84\" /><circle cx=\"60\" cy=\"180\" r=\"0.84\" /><line stroke-width=\"3.0\" x1=\"120\" x2=\"120\" y1=\"0\" y2=\"180\" /><circle cx=\"120\" cy=\"0\" r=\"0.84\" /><circle cx=\"120\" cy=\"180\" r=\"0.84\" /></g><line stroke=\"black\" stroke-width=\"3.0\" x1=\"6.0\" x2=\"54.0\" y1=\"6.0\" y2=\"54.0\" /><line stroke=\"black\" stroke-width=\"3.0\" x1=\"6.0\" x2=\"54.0\" y1=\"54.0\" y2=\"6.0\" /><circle cx=\"90.0\" cy=\"30.0\" fill=\"none\" r=\"24.0\" stroke=\"black\" stroke-width=\"3.0\" /><circle cx=\"30.0\" cy=\"90.0\" fill=\"none\" r=\"24.0\" stroke=\"black\" stroke-width=\"3.0\" /><line stroke=\"black\" stroke-width=\"3.0\" x1=\"66.0\" x2=\"114.0\" y1=\"66.0\" y2=\"114.0\" /><line stroke=\"black\" stroke-width=\"3.0\" x1=\"66.0\" x2=\"114.0\" y1=\"114.0\" y2=\"66.0\" /><line stroke=\"black\" stroke-width=\"3.0\" x1=\"126.0\" x2=\"174.0\" y1=\"126.0\" y2=\"174.0\" /><line stroke=\"black\" stroke-width=\"3.0\" x1=\"126.0\" x2=\"174.0\" y1=\"174.0\" y2=\"126.0\" /></g><rect fill=\"none\" height=\"240\" stroke=\"gray\" width=\"240\" x=\"240\" y=\"480\" /></g></svg>"
          },
          "metadata": {}
        },
        {
          "output_type": "stream",
          "name": "stdout",
          "text": [
            "average return of mcts agent 1.0 , average return of random agent -1.0\n"
          ]
        }
      ]
    }
  ]
}