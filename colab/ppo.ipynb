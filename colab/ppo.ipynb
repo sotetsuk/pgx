{
  "nbformat": 4,
  "nbformat_minor": 0,
  "metadata": {
    "colab": {
      "provenance": [],
      "gpuType": "A100"
    },
    "kernelspec": {
      "name": "python3",
      "display_name": "Python 3"
    },
    "language_info": {
      "name": "python"
    },
    "accelerator": "GPU",
    "widgets": {
      "application/vnd.jupyter.widget-state+json": {
        "1b3bcd1fc0a34164809c25d6a6bfe6ea": {
          "model_module": "@jupyter-widgets/output",
          "model_name": "OutputModel",
          "model_module_version": "1.0.0",
          "state": {
            "_dom_classes": [],
            "_model_module": "@jupyter-widgets/output",
            "_model_module_version": "1.0.0",
            "_model_name": "OutputModel",
            "_view_count": null,
            "_view_module": "@jupyter-widgets/output",
            "_view_module_version": "1.0.0",
            "_view_name": "OutputView",
            "layout": "IPY_MODEL_53c65d1524e04881ac8083b6d1590216",
            "msg_id": "",
            "outputs": [
              {
                "output_type": "display_data",
                "data": {
                  "text/plain": "Training 20M frames... \u001b[38;2;114;156;31m━━━━━━━━━━━━━━━━━━━━━━━━━━━━━━━━━━━━━━━━\u001b[0m \u001b[35m100%\u001b[0m \u001b[33m0:00:25\u001b[0m\n",
                  "text/html": "<pre style=\"white-space:pre;overflow-x:auto;line-height:normal;font-family:Menlo,'DejaVu Sans Mono',consolas,'Courier New',monospace\">Training 20M frames... <span style=\"color: #729c1f; text-decoration-color: #729c1f\">━━━━━━━━━━━━━━━━━━━━━━━━━━━━━━━━━━━━━━━━</span> <span style=\"color: #800080; text-decoration-color: #800080\">100%</span> <span style=\"color: #808000; text-decoration-color: #808000\">0:00:25</span>\n</pre>\n"
                },
                "metadata": {}
              }
            ]
          }
        },
        "53c65d1524e04881ac8083b6d1590216": {
          "model_module": "@jupyter-widgets/base",
          "model_name": "LayoutModel",
          "model_module_version": "1.2.0",
          "state": {
            "_model_module": "@jupyter-widgets/base",
            "_model_module_version": "1.2.0",
            "_model_name": "LayoutModel",
            "_view_count": null,
            "_view_module": "@jupyter-widgets/base",
            "_view_module_version": "1.2.0",
            "_view_name": "LayoutView",
            "align_content": null,
            "align_items": null,
            "align_self": null,
            "border": null,
            "bottom": null,
            "display": null,
            "flex": null,
            "flex_flow": null,
            "grid_area": null,
            "grid_auto_columns": null,
            "grid_auto_flow": null,
            "grid_auto_rows": null,
            "grid_column": null,
            "grid_gap": null,
            "grid_row": null,
            "grid_template_areas": null,
            "grid_template_columns": null,
            "grid_template_rows": null,
            "height": null,
            "justify_content": null,
            "justify_items": null,
            "left": null,
            "margin": null,
            "max_height": null,
            "max_width": null,
            "min_height": null,
            "min_width": null,
            "object_fit": null,
            "object_position": null,
            "order": null,
            "overflow": null,
            "overflow_x": null,
            "overflow_y": null,
            "padding": null,
            "right": null,
            "top": null,
            "visibility": null,
            "width": null
          }
        },
        "4b48c073d18b4275897bd70e836430b2": {
          "model_module": "@jupyter-widgets/output",
          "model_name": "OutputModel",
          "model_module_version": "1.0.0",
          "state": {
            "_dom_classes": [],
            "_model_module": "@jupyter-widgets/output",
            "_model_module_version": "1.0.0",
            "_model_name": "OutputModel",
            "_view_count": null,
            "_view_module": "@jupyter-widgets/output",
            "_view_module_version": "1.0.0",
            "_view_name": "OutputView",
            "layout": "IPY_MODEL_3a81da3ef8f24100a463625c00663feb",
            "msg_id": "",
            "outputs": [
              {
                "output_type": "display_data",
                "data": {
                  "text/plain": "Evaluating ... \u001b[38;2;114;156;31m━━━━━━━━━━━━━━━━━━━━━━━━━━━━━━━━━━━━━━━━\u001b[0m \u001b[35m100%\u001b[0m \u001b[33m0:05:44\u001b[0m\n",
                  "text/html": "<pre style=\"white-space:pre;overflow-x:auto;line-height:normal;font-family:Menlo,'DejaVu Sans Mono',consolas,'Courier New',monospace\">Evaluating ... <span style=\"color: #729c1f; text-decoration-color: #729c1f\">━━━━━━━━━━━━━━━━━━━━━━━━━━━━━━━━━━━━━━━━</span> <span style=\"color: #800080; text-decoration-color: #800080\">100%</span> <span style=\"color: #808000; text-decoration-color: #808000\">0:05:44</span>\n</pre>\n"
                },
                "metadata": {}
              }
            ]
          }
        },
        "3a81da3ef8f24100a463625c00663feb": {
          "model_module": "@jupyter-widgets/base",
          "model_name": "LayoutModel",
          "model_module_version": "1.2.0",
          "state": {
            "_model_module": "@jupyter-widgets/base",
            "_model_module_version": "1.2.0",
            "_model_name": "LayoutModel",
            "_view_count": null,
            "_view_module": "@jupyter-widgets/base",
            "_view_module_version": "1.2.0",
            "_view_name": "LayoutView",
            "align_content": null,
            "align_items": null,
            "align_self": null,
            "border": null,
            "bottom": null,
            "display": null,
            "flex": null,
            "flex_flow": null,
            "grid_area": null,
            "grid_auto_columns": null,
            "grid_auto_flow": null,
            "grid_auto_rows": null,
            "grid_column": null,
            "grid_gap": null,
            "grid_row": null,
            "grid_template_areas": null,
            "grid_template_columns": null,
            "grid_template_rows": null,
            "height": null,
            "justify_content": null,
            "justify_items": null,
            "left": null,
            "margin": null,
            "max_height": null,
            "max_width": null,
            "min_height": null,
            "min_width": null,
            "object_fit": null,
            "object_position": null,
            "order": null,
            "overflow": null,
            "overflow_x": null,
            "overflow_y": null,
            "padding": null,
            "right": null,
            "top": null,
            "visibility": null,
            "width": null
          }
        }
      }
    }
  },
  "cells": [
    {
      "cell_type": "markdown",
      "source": [
        "## NOTICE\n",
        "\n",
        "This PPO implementation is modified from [PureJaxRL](https://github.com/luchris429/purejaxrl):\n",
        "\n",
        "- https://github.com/luchris429/purejaxrl\n",
        "\n",
        "Please refer to their work if you use this notebook in your research."
      ],
      "metadata": {
        "id": "F4znSqIvkddn"
      }
    },
    {
      "cell_type": "markdown",
      "source": [
        "TODO:\n",
        "\n",
        "- vectorize original MinAtar validation"
      ],
      "metadata": {
        "id": "3i_eIwKZqYgm"
      }
    },
    {
      "cell_type": "code",
      "execution_count": null,
      "metadata": {
        "id": "XI4xR8M5dmYa"
      },
      "outputs": [],
      "source": [
        "!pip install pgx pgx-minatar dm-haiku optax distrax"
      ]
    },
    {
      "cell_type": "code",
      "source": [
        "!nvidia-smi"
      ],
      "metadata": {
        "colab": {
          "base_uri": "https://localhost:8080/"
        },
        "id": "AKt3OaAWhkGN",
        "outputId": "88b6c9e5-275f-49f7-91ea-1d9133384b75"
      },
      "execution_count": 2,
      "outputs": [
        {
          "output_type": "stream",
          "name": "stdout",
          "text": [
            "Mon Jun 19 04:15:25 2023       \n",
            "+-----------------------------------------------------------------------------+\n",
            "| NVIDIA-SMI 525.85.12    Driver Version: 525.85.12    CUDA Version: 12.0     |\n",
            "|-------------------------------+----------------------+----------------------+\n",
            "| GPU  Name        Persistence-M| Bus-Id        Disp.A | Volatile Uncorr. ECC |\n",
            "| Fan  Temp  Perf  Pwr:Usage/Cap|         Memory-Usage | GPU-Util  Compute M. |\n",
            "|                               |                      |               MIG M. |\n",
            "|===============================+======================+======================|\n",
            "|   0  NVIDIA A100-SXM...  Off  | 00000000:00:04.0 Off |                    0 |\n",
            "| N/A   32C    P0    42W / 400W |      0MiB / 40960MiB |      0%      Default |\n",
            "|                               |                      |             Disabled |\n",
            "+-------------------------------+----------------------+----------------------+\n",
            "                                                                               \n",
            "+-----------------------------------------------------------------------------+\n",
            "| Processes:                                                                  |\n",
            "|  GPU   GI   CI        PID   Type   Process name                  GPU Memory |\n",
            "|        ID   ID                                                   Usage      |\n",
            "|=============================================================================|\n",
            "|  No running processes found                                                 |\n",
            "+-----------------------------------------------------------------------------+\n"
          ]
        }
      ]
    },
    {
      "cell_type": "code",
      "source": [
        "import sys\n",
        "import jax\n",
        "import jax.numpy as jnp\n",
        "import haiku as hk\n",
        "import numpy as np\n",
        "import optax\n",
        "import distrax\n",
        "import pgx\n",
        "\n",
        "from typing import NamedTuple, Literal\n",
        "from dataclasses import dataclass\n",
        "from rich.progress import track\n",
        "\n",
        "print(f\"{pgx.__version__=}\")"
      ],
      "metadata": {
        "colab": {
          "base_uri": "https://localhost:8080/"
        },
        "id": "CpkMETnzdsSh",
        "outputId": "6170b97f-ba8c-4234-f382-5f504849260a"
      },
      "execution_count": 3,
      "outputs": [
        {
          "output_type": "stream",
          "name": "stdout",
          "text": [
            "pgx.__version__='0.9.0'\n"
          ]
        }
      ]
    },
    {
      "cell_type": "code",
      "source": [
        "@dataclass\n",
        "class PPOConfig:\n",
        "    ENV_NAME: Literal[\n",
        "        \"minatar-breakout\",\n",
        "        \"minatar-freeway\",\n",
        "        \"minatar-space_invaders\",\n",
        "        \"minatar-asterix\",\n",
        "        \"minatar-seaquest\",\n",
        "    ] = \"minatar-breakout\"\n",
        "    SEED: int = 0\n",
        "    LR: float = 0.0003\n",
        "    NUM_ENVS: int = 4096\n",
        "    NUM_EVAL_ENVS: int = 100\n",
        "    NUM_STEPS: int = 128\n",
        "    TOTAL_TIMESTEPS: int = 20000000\n",
        "    UPDATE_EPOCHS: int = 3\n",
        "    MINIBATCH_SIZE: int = 4096\n",
        "    GAMMA: float = 0.99\n",
        "    GAE_LAMBDA: float = 0.95\n",
        "    CLIP_EPS: float = 0.2\n",
        "    ENT_COEF: float = 0.01\n",
        "    VF_COEF: float = 0.5\n",
        "    MAX_GRAD_NORM: float = 0.5\n",
        "    ACTIVATION: str = \"tanh\"\n",
        "\n",
        "args = PPOConfig()\n",
        "print(args, file=sys.stderr)\n",
        "\n",
        "NUM_UPDATES = args.TOTAL_TIMESTEPS // args.NUM_ENVS // args.NUM_STEPS\n",
        "NUM_MINIBATCHES = args.NUM_ENVS * args.NUM_STEPS // args.MINIBATCH_SIZE"
      ],
      "metadata": {
        "colab": {
          "base_uri": "https://localhost:8080/"
        },
        "id": "Tq6mjeh9d5iT",
        "outputId": "f72f9aff-19d8-4790-8f41-7ef304ba55d0"
      },
      "execution_count": 4,
      "outputs": [
        {
          "output_type": "stream",
          "name": "stderr",
          "text": [
            "PPOConfig(ENV_NAME='minatar-breakout', SEED=0, LR=0.0003, NUM_ENVS=4096, NUM_EVAL_ENVS=100, NUM_STEPS=128, TOTAL_TIMESTEPS=20000000, UPDATE_EPOCHS=3, MINIBATCH_SIZE=4096, GAMMA=0.99, GAE_LAMBDA=0.95, CLIP_EPS=0.2, ENT_COEF=0.01, VF_COEF=0.5, MAX_GRAD_NORM=0.5, ACTIVATION='tanh')\n"
          ]
        }
      ]
    },
    {
      "cell_type": "code",
      "source": [
        "class ActorCritic(hk.Module):\n",
        "    def __init__(self, num_actions, activation=\"tanh\"):\n",
        "        super().__init__()\n",
        "        self.num_actions = num_actions\n",
        "        self.activation = activation\n",
        "        assert activation in [\"relu\", \"tanh\"]\n",
        "\n",
        "    def __call__(self, x):\n",
        "        x = x.astype(jnp.float32)\n",
        "        if self.activation == \"relu\":\n",
        "            activation = jax.nn.relu\n",
        "        else:\n",
        "            activation = jax.nn.tanh\n",
        "        x = hk.Conv2D(32, kernel_shape=2)(x)\n",
        "        x = jax.nn.relu(x)\n",
        "        x = hk.avg_pool(x, window_shape=(2, 2),\n",
        "                        strides=(2, 2), padding=\"VALID\")\n",
        "        x = x.reshape((x.shape[0], -1))  # flatten\n",
        "        x = hk.Linear(64)(x)\n",
        "        x = jax.nn.relu(x)\n",
        "        actor_mean = hk.Linear(64)(x)\n",
        "        actor_mean = activation(actor_mean)\n",
        "        actor_mean = hk.Linear(64)(actor_mean)\n",
        "        actor_mean = activation(actor_mean)\n",
        "        actor_mean = hk.Linear(self.num_actions)(actor_mean)\n",
        "\n",
        "        critic = hk.Linear(64)(x)\n",
        "        critic = activation(critic)\n",
        "        critic = hk.Linear(64)(critic)\n",
        "        critic = activation(critic)\n",
        "        critic = hk.Linear(1)(critic)\n",
        "\n",
        "        return actor_mean, jnp.squeeze(critic, axis=-1)\n",
        "\n",
        "\n",
        "def forward_fn(x, is_eval=False):\n",
        "    net = ActorCritic(env.num_actions, activation=\"tanh\")\n",
        "    logits, value = net(x)\n",
        "    return logits, value\n",
        "\n",
        "\n",
        "forward = hk.without_apply_rng(hk.transform(forward_fn))\n",
        "\n",
        "\n",
        "optimizer = optax.chain(optax.clip_by_global_norm(\n",
        "    args.MAX_GRAD_NORM), optax.adam(args.LR, eps=1e-5))"
      ],
      "metadata": {
        "id": "x_5yfwnkeRn4"
      },
      "execution_count": 5,
      "outputs": []
    },
    {
      "cell_type": "code",
      "source": [
        "env = pgx.make(str(args.ENV_NAME))\n",
        "print(f\"{env.id=}\")\n",
        "print(f\"{env.version=}\")\n",
        "print(f\"{pgx.__version__=}\")\n",
        "\n",
        "def auto_reset(step_fn, init_fn):\n",
        "    def wrapped_step_fn(state, action):\n",
        "        state = jax.lax.cond(\n",
        "            (state.terminated | state.truncated),\n",
        "            lambda: state.replace(  # type: ignore\n",
        "                terminated=jnp.bool_(False),\n",
        "                truncated=jnp.bool_(False),\n",
        "                rewards=jnp.zeros_like(state.rewards),\n",
        "            ),\n",
        "            lambda: state,\n",
        "        )\n",
        "        state = step_fn(state, action)\n",
        "        state = jax.lax.cond(\n",
        "            (state.terminated | state.truncated),\n",
        "            # state is replaced by initial state,\n",
        "            # but preserve (terminated, truncated, reward)\n",
        "            lambda: init_fn(state._rng_key).replace(\n",
        "                terminated=state.terminated,\n",
        "                truncated=state.truncated,\n",
        "                rewards=state.rewards,\n",
        "            ),\n",
        "            lambda: state,\n",
        "        )\n",
        "        return state\n",
        "    return wrapped_step_fn"
      ],
      "metadata": {
        "colab": {
          "base_uri": "https://localhost:8080/"
        },
        "id": "8-xC7zePef8O",
        "outputId": "57f02fe9-53d0-4a60-cbb4-5476fe6ee052"
      },
      "execution_count": 6,
      "outputs": [
        {
          "output_type": "stream",
          "name": "stdout",
          "text": [
            "env.id='minatar-breakout'\n",
            "env.version='v0'\n",
            "pgx.__version__='0.9.0'\n"
          ]
        }
      ]
    },
    {
      "cell_type": "code",
      "source": [
        "class Transition(NamedTuple):\n",
        "    done: jnp.ndarray\n",
        "    action: jnp.ndarray\n",
        "    value: jnp.ndarray\n",
        "    reward: jnp.ndarray\n",
        "    log_prob: jnp.ndarray\n",
        "    obs: jnp.ndarray\n",
        "    legal_action_mask: jnp.ndarray\n",
        "\n",
        "\n",
        "def make_update_fn():\n",
        "    # TRAIN LOOP\n",
        "    def _update_step(runner_state):\n",
        "        # COLLECT TRAJECTORIES\n",
        "        step_fn = jax.vmap(auto_reset(env.step, env.init))\n",
        "\n",
        "        def _env_step(runner_state, unused):\n",
        "            params, opt_state, env_state, last_obs, rng = runner_state\n",
        "            # SELECT ACTION\n",
        "            rng, _rng = jax.random.split(rng)\n",
        "            logits, value = forward.apply(params, last_obs)\n",
        "            mask = env_state.legal_action_mask\n",
        "            logits = logits + jnp.finfo(np.float64).min * (~mask)\n",
        "            pi = distrax.Categorical(logits=logits)\n",
        "            action = pi.sample(seed=_rng)\n",
        "            log_prob = pi.log_prob(action)\n",
        "\n",
        "            # STEP ENV\n",
        "            rng, _rng = jax.random.split(rng)\n",
        "            env_state = step_fn(\n",
        "                env_state, action\n",
        "            )\n",
        "            transition = Transition(\n",
        "                env_state.terminated, action, value, env_state.rewards[:,\n",
        "                                                                       0], log_prob, last_obs, mask\n",
        "            )\n",
        "            runner_state = (params, opt_state, env_state,\n",
        "                            env_state.observation, rng)\n",
        "            return runner_state, transition\n",
        "\n",
        "        runner_state, traj_batch = jax.lax.scan(\n",
        "            _env_step, runner_state, None, args.NUM_STEPS\n",
        "        )\n",
        "\n",
        "        # CALCULATE ADVANTAGE\n",
        "        params, opt_state, env_state, last_obs, rng = runner_state\n",
        "        _, last_val = forward.apply(params, last_obs)\n",
        "\n",
        "        def _calculate_gae(traj_batch, last_val):\n",
        "            def _get_advantages(gae_and_next_value, transition):\n",
        "                gae, next_value = gae_and_next_value\n",
        "                done, value, reward = (\n",
        "                    transition.done,\n",
        "                    transition.value,\n",
        "                    transition.reward,\n",
        "                )\n",
        "                delta = reward + args.GAMMA * next_value * (1 - done) - value\n",
        "                gae = (\n",
        "                    delta\n",
        "                    + args.GAMMA * args.GAE_LAMBDA * (1 - done) * gae\n",
        "                )\n",
        "                return (gae, value), gae\n",
        "\n",
        "            _, advantages = jax.lax.scan(\n",
        "                _get_advantages,\n",
        "                (jnp.zeros_like(last_val), last_val),\n",
        "                traj_batch,\n",
        "                reverse=True,\n",
        "                unroll=16,\n",
        "            )\n",
        "            return advantages, advantages + traj_batch.value\n",
        "\n",
        "        advantages, targets = _calculate_gae(traj_batch, last_val)\n",
        "\n",
        "        # UPDATE NETWORK\n",
        "        def _update_epoch(update_state, unused):\n",
        "            def _update_minbatch(tup, batch_info):\n",
        "                params, opt_state = tup\n",
        "                traj_batch, advantages, targets = batch_info\n",
        "\n",
        "                def _loss_fn(params, traj_batch, gae, targets):\n",
        "                    # RERUN NETWORK\n",
        "                    logits, value = forward.apply(params, traj_batch.obs)\n",
        "                    mask = traj_batch.legal_action_mask\n",
        "                    logits = logits + jnp.finfo(np.float64).min * (~mask)\n",
        "                    pi = distrax.Categorical(logits=logits)\n",
        "                    log_prob = pi.log_prob(traj_batch.action)\n",
        "\n",
        "                    # CALCULATE VALUE LOSS\n",
        "                    value_pred_clipped = traj_batch.value + (\n",
        "                        value - traj_batch.value\n",
        "                    ).clip(-args.CLIP_EPS, args.CLIP_EPS)\n",
        "                    value_losses = jnp.square(value - targets)\n",
        "                    value_losses_clipped = jnp.square(\n",
        "                        value_pred_clipped - targets)\n",
        "                    value_loss = (\n",
        "                        0.5 * jnp.maximum(value_losses,\n",
        "                                          value_losses_clipped).mean()\n",
        "                    )\n",
        "\n",
        "                    # CALCULATE ACTOR LOSS\n",
        "                    ratio = jnp.exp(log_prob - traj_batch.log_prob)\n",
        "                    gae = (gae - gae.mean()) / (gae.std() + 1e-8)\n",
        "                    loss_actor1 = ratio * gae\n",
        "                    loss_actor2 = (\n",
        "                        jnp.clip(\n",
        "                            ratio,\n",
        "                            1.0 - args.CLIP_EPS,\n",
        "                            1.0 + args.CLIP_EPS,\n",
        "                        )\n",
        "                        * gae\n",
        "                    )\n",
        "                    loss_actor = -jnp.minimum(loss_actor1, loss_actor2)\n",
        "                    loss_actor = loss_actor.mean()\n",
        "                    entropy = pi.entropy().mean()\n",
        "\n",
        "                    total_loss = (\n",
        "                        loss_actor\n",
        "                        + args.VF_COEF * value_loss\n",
        "                        - args.ENT_COEF * entropy\n",
        "                    )\n",
        "                    return total_loss, (value_loss, loss_actor, entropy)\n",
        "\n",
        "                grad_fn = jax.value_and_grad(_loss_fn, has_aux=True)\n",
        "                total_loss, grads = grad_fn(\n",
        "                    params, traj_batch, advantages, targets)\n",
        "                updates, opt_state = optimizer.update(grads, opt_state)\n",
        "                params = optax.apply_updates(params, updates)\n",
        "                return (params, opt_state), total_loss\n",
        "\n",
        "            params, opt_state, traj_batch, advantages, targets, rng = update_state\n",
        "            rng, _rng = jax.random.split(rng)\n",
        "            batch_size = args.MINIBATCH_SIZE * NUM_MINIBATCHES\n",
        "            assert (\n",
        "                batch_size == args.NUM_STEPS * args.NUM_ENVS\n",
        "            ), \"batch size must be equal to number of steps * number of envs\"\n",
        "            permutation = jax.random.permutation(_rng, batch_size)\n",
        "            batch = (traj_batch, advantages, targets)\n",
        "            batch = jax.tree_util.tree_map(\n",
        "                lambda x: x.reshape((batch_size,) + x.shape[2:]), batch\n",
        "            )\n",
        "            shuffled_batch = jax.tree_util.tree_map(\n",
        "                lambda x: jnp.take(x, permutation, axis=0), batch\n",
        "            )\n",
        "            minibatches = jax.tree_util.tree_map(\n",
        "                lambda x: jnp.reshape(\n",
        "                    x, [NUM_MINIBATCHES, -1] + list(x.shape[1:])\n",
        "                ),\n",
        "                shuffled_batch,\n",
        "            )\n",
        "            (params, opt_state),  total_loss = jax.lax.scan(\n",
        "                _update_minbatch, (params, opt_state), minibatches\n",
        "            )\n",
        "            update_state = (params, opt_state, traj_batch,\n",
        "                            advantages, targets, rng)\n",
        "            return update_state, total_loss\n",
        "\n",
        "        update_state = (params, opt_state, traj_batch,\n",
        "                        advantages, targets, rng)\n",
        "        update_state, loss_info = jax.lax.scan(\n",
        "            _update_epoch, update_state, None, args.UPDATE_EPOCHS\n",
        "        )\n",
        "        params, opt_state, _, _, _, rng = update_state\n",
        "\n",
        "        runner_state = (params, opt_state, env_state, last_obs, rng)\n",
        "        return runner_state, loss_info\n",
        "    return _update_step"
      ],
      "metadata": {
        "id": "oiAUIxpWeujH"
      },
      "execution_count": 7,
      "outputs": []
    },
    {
      "cell_type": "code",
      "source": [
        "rng = jax.random.PRNGKey(args.SEED)\n",
        "rng, _rng = jax.random.split(rng)\n",
        "init_x = jnp.zeros((1, ) + env.observation_shape)\n",
        "params = forward.init(_rng, init_x)\n",
        "opt_state = optimizer.init(params=params)\n",
        "\n",
        "# INIT UPDATE FUNCTION\n",
        "_update_step = make_update_fn()\n",
        "jitted_init = jax.jit(jax.vmap(env.init))\n",
        "jitted_update_step = jax.jit(_update_step)\n",
        "\n",
        "# INIT ENV\n",
        "rng, _rng = jax.random.split(rng)\n",
        "reset_rng = jax.random.split(_rng, args.NUM_ENVS)\n",
        "env_state = jitted_init(reset_rng)\n",
        "\n",
        "rng, _rng = jax.random.split(rng)\n",
        "runner_state = (params, opt_state, env_state, env_state.observation, _rng)\n",
        "_, _ = jitted_update_step(runner_state)  # warming up\n",
        "\n",
        "steps = 0\n",
        "for i in track(range(NUM_UPDATES), description=f\"Training {args.TOTAL_TIMESTEPS // 1_000_000}M frames...\"):\n",
        "    rng, _rng = jax.random.split(rng)\n",
        "    runner_state, loss_info = jitted_update_step(runner_state)\n",
        "    steps += args.NUM_ENVS * args.NUM_STEPS\n",
        "\n",
        "params = runner_state[0]"
      ],
      "metadata": {
        "colab": {
          "base_uri": "https://localhost:8080/",
          "height": 33,
          "referenced_widgets": [
            "1b3bcd1fc0a34164809c25d6a6bfe6ea",
            "53c65d1524e04881ac8083b6d1590216"
          ]
        },
        "id": "lONZ81Zze1Yz",
        "outputId": "62eae719-69b7-4c45-c2f8-028fb8eae6d7"
      },
      "execution_count": 8,
      "outputs": [
        {
          "output_type": "display_data",
          "data": {
            "text/plain": [
              "Output()"
            ],
            "application/vnd.jupyter.widget-view+json": {
              "version_major": 2,
              "version_minor": 0,
              "model_id": "1b3bcd1fc0a34164809c25d6a6bfe6ea"
            }
          },
          "metadata": {}
        },
        {
          "output_type": "display_data",
          "data": {
            "text/plain": [],
            "text/html": [
              "<pre style=\"white-space:pre;overflow-x:auto;line-height:normal;font-family:Menlo,'DejaVu Sans Mono',consolas,'Courier New',monospace\"></pre>\n"
            ]
          },
          "metadata": {}
        },
        {
          "output_type": "display_data",
          "data": {
            "text/plain": [
              "\n"
            ],
            "text/html": [
              "<pre style=\"white-space:pre;overflow-x:auto;line-height:normal;font-family:Menlo,'DejaVu Sans Mono',consolas,'Courier New',monospace\">\n",
              "</pre>\n"
            ]
          },
          "metadata": {}
        }
      ]
    },
    {
      "cell_type": "code",
      "source": [
        "@jax.jit\n",
        "def evaluate(params, rng_key):\n",
        "    step_fn = jax.vmap(env.step)\n",
        "    rng_key, sub_key = jax.random.split(rng_key)\n",
        "    subkeys = jax.random.split(sub_key, args.NUM_EVAL_ENVS)\n",
        "    state = jax.vmap(env.init)(subkeys)\n",
        "    R = jnp.zeros_like(state.rewards)\n",
        "\n",
        "    def cond_fn(tup):\n",
        "        state, _, _ = tup\n",
        "        return ~state.terminated.all()\n",
        "\n",
        "    def loop_fn(tup):\n",
        "        state, R, rng_key = tup\n",
        "        logits, value = forward.apply(params, state.observation)\n",
        "        logits = jnp.where(state.legal_action_mask, logits,\n",
        "                           jnp.finfo(np.float64).min)\n",
        "        pi = distrax.Categorical(logits=logits)\n",
        "        rng_key, _rng = jax.random.split(rng_key)\n",
        "        action = pi.sample(seed=_rng)\n",
        "        rng_key, _rng = jax.random.split(rng_key)\n",
        "        state = step_fn(state, action)\n",
        "        return state, R + state.rewards, rng_key\n",
        "\n",
        "    state, R, _ = jax.lax.while_loop(cond_fn, loop_fn, (state, R, rng_key))\n",
        "    return R"
      ],
      "metadata": {
        "id": "DYfbpJrYgBBc"
      },
      "execution_count": 9,
      "outputs": []
    },
    {
      "cell_type": "code",
      "source": [
        "rng, _rng = jax.random.split(rng)\n",
        "R = evaluate(params, _rng)\n",
        "print(float(R.mean()))"
      ],
      "metadata": {
        "colab": {
          "base_uri": "https://localhost:8080/"
        },
        "id": "tNJjB4LygLlw",
        "outputId": "50b97db3-38b7-42df-bd9c-b928175ccbf9"
      },
      "execution_count": 10,
      "outputs": [
        {
          "output_type": "stream",
          "name": "stdout",
          "text": [
            "32.06999969482422\n"
          ]
        }
      ]
    },
    {
      "cell_type": "code",
      "source": [
        "!pip install minatar"
      ],
      "metadata": {
        "colab": {
          "base_uri": "https://localhost:8080/"
        },
        "id": "G0Dj144jht2N",
        "outputId": "7ea4e2a5-efdd-4557-c1cb-7d1d4dba8c4a"
      },
      "execution_count": 11,
      "outputs": [
        {
          "output_type": "stream",
          "name": "stdout",
          "text": [
            "Looking in indexes: https://pypi.org/simple, https://us-python.pkg.dev/colab-wheels/public/simple/\n",
            "Collecting minatar\n",
            "  Downloading MinAtar-1.0.15-py3-none-any.whl (16 kB)\n",
            "Requirement already satisfied: cycler>=0.10.0 in /usr/local/lib/python3.10/dist-packages (from minatar) (0.11.0)\n",
            "Requirement already satisfied: kiwisolver>=1.0.1 in /usr/local/lib/python3.10/dist-packages (from minatar) (1.4.4)\n",
            "Requirement already satisfied: matplotlib>=3.0.3 in /usr/local/lib/python3.10/dist-packages (from minatar) (3.7.1)\n",
            "Requirement already satisfied: numpy>=1.16.2 in /usr/local/lib/python3.10/dist-packages (from minatar) (1.22.4)\n",
            "Requirement already satisfied: pandas>=0.24.2 in /usr/local/lib/python3.10/dist-packages (from minatar) (1.5.3)\n",
            "Requirement already satisfied: pyparsing>=2.3.1 in /usr/local/lib/python3.10/dist-packages (from minatar) (3.0.9)\n",
            "Requirement already satisfied: python-dateutil>=2.8.0 in /usr/local/lib/python3.10/dist-packages (from minatar) (2.8.2)\n",
            "Requirement already satisfied: pytz>=2018.9 in /usr/local/lib/python3.10/dist-packages (from minatar) (2022.7.1)\n",
            "Requirement already satisfied: scipy>=1.2.1 in /usr/local/lib/python3.10/dist-packages (from minatar) (1.10.1)\n",
            "Requirement already satisfied: seaborn>=0.9.0 in /usr/local/lib/python3.10/dist-packages (from minatar) (0.12.2)\n",
            "Requirement already satisfied: six>=1.12.0 in /usr/local/lib/python3.10/dist-packages (from minatar) (1.16.0)\n",
            "Requirement already satisfied: contourpy>=1.0.1 in /usr/local/lib/python3.10/dist-packages (from matplotlib>=3.0.3->minatar) (1.0.7)\n",
            "Requirement already satisfied: fonttools>=4.22.0 in /usr/local/lib/python3.10/dist-packages (from matplotlib>=3.0.3->minatar) (4.39.3)\n",
            "Requirement already satisfied: packaging>=20.0 in /usr/local/lib/python3.10/dist-packages (from matplotlib>=3.0.3->minatar) (23.1)\n",
            "Requirement already satisfied: pillow>=6.2.0 in /usr/local/lib/python3.10/dist-packages (from matplotlib>=3.0.3->minatar) (8.4.0)\n",
            "Installing collected packages: minatar\n",
            "Successfully installed minatar-1.0.15\n"
          ]
        }
      ]
    },
    {
      "cell_type": "code",
      "source": [
        "from minatar import Environment"
      ],
      "metadata": {
        "id": "Ph4-nDLrm3dL"
      },
      "execution_count": 12,
      "outputs": []
    },
    {
      "cell_type": "code",
      "source": [
        "# TODO: vectorize\n",
        "def eval_minatar(env, model, key, eval_episodes=10, random=True):\n",
        "    action_set = env.minimal_action_set()  # set to minimal action set\n",
        "    Rs = []\n",
        "    for i in track(range(eval_episodes), description=\"Evaluating ...\"):\n",
        "        env.reset()\n",
        "        done = False\n",
        "        total_reward = 0\n",
        "        while not done:\n",
        "            obs = env.state()\n",
        "            logits, value = forward.apply(model, jnp.expand_dims(jnp.array(obs), axis=0)) # (1, obs_dim)\n",
        "            logits = logits[0]\n",
        "            assert len(logits) == len(action_set)\n",
        "            if random:\n",
        "                key, _key = jax.random.split(key)\n",
        "                action_idx = jax.random.categorical(_key, logits)\n",
        "                action = action_set[action_idx]\n",
        "            else:\n",
        "                action = action_set[jnp.argmax(logits)]\n",
        "            reward, done = env.act(action)\n",
        "            total_reward += reward\n",
        "        Rs.append(total_reward)\n",
        "    return np.array(Rs)"
      ],
      "metadata": {
        "id": "2pMh8qFeidww"
      },
      "execution_count": 13,
      "outputs": []
    },
    {
      "cell_type": "code",
      "source": [
        "minatar_env = Environment(\"breakout\")\n",
        "rng, _rng = jax.random.split(rng)\n",
        "R = eval_minatar(minatar_env, params, _rng, 10, True)\n",
        "print(float(R.mean()))"
      ],
      "metadata": {
        "colab": {
          "base_uri": "https://localhost:8080/",
          "height": 51,
          "referenced_widgets": [
            "4b48c073d18b4275897bd70e836430b2",
            "3a81da3ef8f24100a463625c00663feb"
          ]
        },
        "id": "Rdxs--Lni2My",
        "outputId": "c4122792-3aa5-4226-c3dc-3a25a5825223"
      },
      "execution_count": 14,
      "outputs": [
        {
          "output_type": "display_data",
          "data": {
            "text/plain": [
              "Output()"
            ],
            "application/vnd.jupyter.widget-view+json": {
              "version_major": 2,
              "version_minor": 0,
              "model_id": "4b48c073d18b4275897bd70e836430b2"
            }
          },
          "metadata": {}
        },
        {
          "output_type": "display_data",
          "data": {
            "text/plain": [],
            "text/html": [
              "<pre style=\"white-space:pre;overflow-x:auto;line-height:normal;font-family:Menlo,'DejaVu Sans Mono',consolas,'Courier New',monospace\"></pre>\n"
            ]
          },
          "metadata": {}
        },
        {
          "output_type": "display_data",
          "data": {
            "text/plain": [
              "\n"
            ],
            "text/html": [
              "<pre style=\"white-space:pre;overflow-x:auto;line-height:normal;font-family:Menlo,'DejaVu Sans Mono',consolas,'Courier New',monospace\">\n",
              "</pre>\n"
            ]
          },
          "metadata": {}
        },
        {
          "output_type": "stream",
          "name": "stdout",
          "text": [
            "35.7\n"
          ]
        }
      ]
    }
  ]
}