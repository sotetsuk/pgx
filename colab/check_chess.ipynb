{
  "nbformat": 4,
  "nbformat_minor": 0,
  "metadata": {
    "colab": {
      "provenance": []
    },
    "kernelspec": {
      "name": "python3",
      "display_name": "Python 3"
    },
    "language_info": {
      "name": "python"
    }
  },
  "cells": [
    {
      "cell_type": "code",
      "source": [
        "!pip install open_spiel pgx"
      ],
      "metadata": {
        "colab": {
          "base_uri": "https://localhost:8080/"
        },
        "id": "qSaJpiijsElM",
        "outputId": "c28f8b7d-d278-4932-8946-25c1baf85c64"
      },
      "execution_count": 1,
      "outputs": [
        {
          "output_type": "stream",
          "name": "stdout",
          "text": [
            "Collecting open_spiel\n",
            "  Downloading open_spiel-1.3-cp310-cp310-manylinux_2_17_x86_64.manylinux2014_x86_64.whl (5.4 MB)\n",
            "\u001b[2K     \u001b[90m━━━━━━━━━━━━━━━━━━━━━━━━━━━━━━━━━━━━━━━━\u001b[0m \u001b[32m5.4/5.4 MB\u001b[0m \u001b[31m10.9 MB/s\u001b[0m eta \u001b[36m0:00:00\u001b[0m\n",
            "\u001b[?25hCollecting pgx\n",
            "  Downloading pgx-1.1.0-py3-none-any.whl (410 kB)\n",
            "\u001b[2K     \u001b[90m━━━━━━━━━━━━━━━━━━━━━━━━━━━━━━━━━━━━━━\u001b[0m \u001b[32m410.7/410.7 kB\u001b[0m \u001b[31m14.1 MB/s\u001b[0m eta \u001b[36m0:00:00\u001b[0m\n",
            "\u001b[?25hRequirement already satisfied: pip>=20.0.2 in /usr/local/lib/python3.10/dist-packages (from open_spiel) (23.1.2)\n",
            "Requirement already satisfied: attrs>=19.3.0 in /usr/local/lib/python3.10/dist-packages (from open_spiel) (23.1.0)\n",
            "Requirement already satisfied: absl-py>=0.10.0 in /usr/local/lib/python3.10/dist-packages (from open_spiel) (1.4.0)\n",
            "Requirement already satisfied: numpy>=1.21.5 in /usr/local/lib/python3.10/dist-packages (from open_spiel) (1.22.4)\n",
            "Requirement already satisfied: scipy>=1.10.1 in /usr/local/lib/python3.10/dist-packages (from open_spiel) (1.10.1)\n",
            "Requirement already satisfied: jax>=0.3.25 in /usr/local/lib/python3.10/dist-packages (from pgx) (0.4.13)\n",
            "Collecting svgwrite (from pgx)\n",
            "  Downloading svgwrite-1.4.3-py3-none-any.whl (67 kB)\n",
            "\u001b[2K     \u001b[90m━━━━━━━━━━━━━━━━━━━━━━━━━━━━━━━━━━━━━━━━\u001b[0m \u001b[32m67.1/67.1 kB\u001b[0m \u001b[31m5.5 MB/s\u001b[0m eta \u001b[36m0:00:00\u001b[0m\n",
            "\u001b[?25hRequirement already satisfied: typing-extensions in /usr/local/lib/python3.10/dist-packages (from pgx) (4.7.1)\n",
            "Requirement already satisfied: ml-dtypes>=0.1.0 in /usr/local/lib/python3.10/dist-packages (from jax>=0.3.25->pgx) (0.2.0)\n",
            "Requirement already satisfied: opt-einsum in /usr/local/lib/python3.10/dist-packages (from jax>=0.3.25->pgx) (3.3.0)\n",
            "Installing collected packages: svgwrite, open_spiel, pgx\n",
            "Successfully installed open_spiel-1.3 pgx-1.1.0 svgwrite-1.4.3\n"
          ]
        }
      ]
    },
    {
      "cell_type": "code",
      "source": [
        "import random\n",
        "from tqdm import tqdm\n",
        "import numpy as np\n",
        "import jax\n",
        "import jax.numpy as jnp\n",
        "import pyspiel\n",
        "import pgx\n",
        "from pgx.chess import State\n",
        "\n",
        "pgx.__version__"
      ],
      "metadata": {
        "colab": {
          "base_uri": "https://localhost:8080/",
          "height": 53
        },
        "id": "V1DUFO14sHXC",
        "outputId": "18c750e6-adbc-47c3-8007-d1a1e6271b98"
      },
      "execution_count": 2,
      "outputs": [
        {
          "output_type": "stream",
          "name": "stderr",
          "text": [
            "WARNING:jax._src.xla_bridge:No GPU/TPU found, falling back to CPU. (Set TF_CPP_MIN_LOG_LEVEL=0 and rerun for more info.)\n"
          ]
        },
        {
          "output_type": "execute_result",
          "data": {
            "text/plain": [
              "'1.1.0'"
            ],
            "application/vnd.google.colaboratory.intrinsic+json": {
              "type": "string"
            }
          },
          "metadata": {},
          "execution_count": 2
        }
      ]
    },
    {
      "cell_type": "code",
      "execution_count": 3,
      "metadata": {
        "id": "gbmLvWvFsEDP"
      },
      "outputs": [],
      "source": [
        "game = pyspiel.load_game('chess')\n",
        "env = pgx.make(\"chess\")\n",
        "init = jax.jit(env.init)\n",
        "step = jax.jit(env.step)\n",
        "\n",
        "\n",
        "def check(seed):\n",
        "    np.random.seed(seed)\n",
        "    spiel_state = game.new_initial_state()\n",
        "    pgx_state = init(jax.random.PRNGKey(0))  # seed is not related\n",
        "    for _ in range(512):  # pgx chess terminates after 512 steps (following AZ paper)\n",
        "        fen_before = spiel_state.debug_string().splitlines()[0][5:]\n",
        "\n",
        "        expected_legal_actions = [m for m in spiel_state.legal_actions()]\n",
        "        if not expected_legal_actions:\n",
        "            break\n",
        "\n",
        "        # check legal actions\n",
        "        ok = pgx_state.legal_action_mask.sum() == len(expected_legal_actions)\n",
        "        for a in expected_legal_actions:\n",
        "            ok = ok and pgx_state.legal_action_mask[a]\n",
        "\n",
        "        if not ok:\n",
        "            print(\"legal action mask is different\")\n",
        "            legal_actions = jnp.nonzero(pgx_state.legal_action_mask)[0]\n",
        "            pgx_state.save_svg(\"failed.svg\")\n",
        "            assert False, f\"\\n{fen_before}\\n{pgx_state.legal_action_mask.sum()} != {len(expected_legal_actions)}\\nactual:{legal_actions}\\nexpected:{expected_legal_actions}\"\n",
        "\n",
        "        # step by OpenSpiel\n",
        "        action = np.random.choice(expected_legal_actions)\n",
        "        spiel_state.apply_action(action)\n",
        "        fen_after = spiel_state.debug_string().splitlines()[0][5:]\n",
        "\n",
        "        # step by Pgx\n",
        "        pgx_state = step(pgx_state, jnp.int32(action))\n",
        "\n",
        "        # check state transition\n",
        "        assert pgx_state._to_fen() == fen_after, f\"\\n{fen_before}\\nactual:{pgx_state._to_fen()}\\nexpected: {fen_after}\"\n"
      ]
    },
    {
      "cell_type": "code",
      "source": [
        "for i in tqdm(range(100)):\n",
        "    check(i)"
      ],
      "metadata": {
        "colab": {
          "base_uri": "https://localhost:8080/"
        },
        "id": "tfD1p9bmsLhc",
        "outputId": "e1bd986c-760c-4ca5-c65a-623f4479b9a7"
      },
      "execution_count": 5,
      "outputs": [
        {
          "output_type": "stream",
          "name": "stderr",
          "text": [
            "100%|██████████| 100/100 [53:31<00:00, 32.11s/it]\n"
          ]
        }
      ]
    }
  ]
}